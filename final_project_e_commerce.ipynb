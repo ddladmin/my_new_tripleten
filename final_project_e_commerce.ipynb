{
 "cells": [
  {
   "cell_type": "markdown",
   "id": "6f0e98cf",
   "metadata": {},
   "source": [
    "Hello and welcome to final project! here we have a task to make Product Range Analysis of e-commerce company.\n",
    "\n",
    "our tasks:\n",
    "\n",
    "****Analyze the store's product range.\n",
    "\n",
    "- Carry out exploratory data analysis\n",
    "- Analyze the product range\n",
    "- Formulate and test statistical hypotheses"
   ]
  },
  {
   "cell_type": "markdown",
   "id": "3e009628",
   "metadata": {},
   "source": [
    "# Step 1. Open the data file and read the general information"
   ]
  },
  {
   "cell_type": "code",
   "execution_count": 1,
   "id": "35d62c71",
   "metadata": {},
   "outputs": [],
   "source": [
    "from datetime import datetime\n",
    "import pandas as pd\n",
    "import plotly.express as px\n",
    "import seaborn as sns\n",
    "import matplotlib.pyplot as plt\n",
    "import matplotlib as mpl\n",
    "import numpy as np\n",
    "import math as mth\n",
    "from statsmodels.stats.proportion import proportions_ztest\n",
    "from scipy import stats as st\n",
    "from matplotlib import rcParams\n",
    "import warnings"
   ]
  },
  {
   "cell_type": "code",
   "execution_count": 2,
   "id": "50197048",
   "metadata": {},
   "outputs": [],
   "source": [
    "#open data\n",
    "try:\n",
    "    df=pd.read_csv('ecommerce_dataset_us.csv', sep = '\\t')\n",
    "except:\n",
    "    df=pd.read_csv('/Users/kirill/Downloads/a:b_test/ecommerce_dataset_us.csv', sep=\"\\t\", on_bad_lines='skip')"
   ]
  },
  {
   "cell_type": "code",
   "execution_count": 3,
   "id": "62bb2a41",
   "metadata": {},
   "outputs": [
    {
     "data": {
      "text/html": [
       "<div>\n",
       "<style scoped>\n",
       "    .dataframe tbody tr th:only-of-type {\n",
       "        vertical-align: middle;\n",
       "    }\n",
       "\n",
       "    .dataframe tbody tr th {\n",
       "        vertical-align: top;\n",
       "    }\n",
       "\n",
       "    .dataframe thead th {\n",
       "        text-align: right;\n",
       "    }\n",
       "</style>\n",
       "<table border=\"1\" class=\"dataframe\">\n",
       "  <thead>\n",
       "    <tr style=\"text-align: right;\">\n",
       "      <th></th>\n",
       "      <th>InvoiceNo</th>\n",
       "      <th>StockCode</th>\n",
       "      <th>Description</th>\n",
       "      <th>Quantity</th>\n",
       "      <th>InvoiceDate</th>\n",
       "      <th>UnitPrice</th>\n",
       "      <th>CustomerID</th>\n",
       "    </tr>\n",
       "  </thead>\n",
       "  <tbody>\n",
       "    <tr>\n",
       "      <th>0</th>\n",
       "      <td>536365</td>\n",
       "      <td>85123A</td>\n",
       "      <td>WHITE HANGING HEART T-LIGHT HOLDER</td>\n",
       "      <td>6</td>\n",
       "      <td>11/29/2018 08:26</td>\n",
       "      <td>2.55</td>\n",
       "      <td>17850.0</td>\n",
       "    </tr>\n",
       "    <tr>\n",
       "      <th>1</th>\n",
       "      <td>536365</td>\n",
       "      <td>71053</td>\n",
       "      <td>WHITE METAL LANTERN</td>\n",
       "      <td>6</td>\n",
       "      <td>11/29/2018 08:26</td>\n",
       "      <td>3.39</td>\n",
       "      <td>17850.0</td>\n",
       "    </tr>\n",
       "    <tr>\n",
       "      <th>2</th>\n",
       "      <td>536365</td>\n",
       "      <td>84406B</td>\n",
       "      <td>CREAM CUPID HEARTS COAT HANGER</td>\n",
       "      <td>8</td>\n",
       "      <td>11/29/2018 08:26</td>\n",
       "      <td>2.75</td>\n",
       "      <td>17850.0</td>\n",
       "    </tr>\n",
       "    <tr>\n",
       "      <th>3</th>\n",
       "      <td>536365</td>\n",
       "      <td>84029G</td>\n",
       "      <td>KNITTED UNION FLAG HOT WATER BOTTLE</td>\n",
       "      <td>6</td>\n",
       "      <td>11/29/2018 08:26</td>\n",
       "      <td>3.39</td>\n",
       "      <td>17850.0</td>\n",
       "    </tr>\n",
       "    <tr>\n",
       "      <th>4</th>\n",
       "      <td>536365</td>\n",
       "      <td>84029E</td>\n",
       "      <td>RED WOOLLY HOTTIE WHITE HEART.</td>\n",
       "      <td>6</td>\n",
       "      <td>11/29/2018 08:26</td>\n",
       "      <td>3.39</td>\n",
       "      <td>17850.0</td>\n",
       "    </tr>\n",
       "  </tbody>\n",
       "</table>\n",
       "</div>"
      ],
      "text/plain": [
       "  InvoiceNo StockCode                          Description  Quantity  \\\n",
       "0    536365    85123A   WHITE HANGING HEART T-LIGHT HOLDER         6   \n",
       "1    536365     71053                  WHITE METAL LANTERN         6   \n",
       "2    536365    84406B       CREAM CUPID HEARTS COAT HANGER         8   \n",
       "3    536365    84029G  KNITTED UNION FLAG HOT WATER BOTTLE         6   \n",
       "4    536365    84029E       RED WOOLLY HOTTIE WHITE HEART.         6   \n",
       "\n",
       "        InvoiceDate  UnitPrice  CustomerID  \n",
       "0  11/29/2018 08:26       2.55     17850.0  \n",
       "1  11/29/2018 08:26       3.39     17850.0  \n",
       "2  11/29/2018 08:26       2.75     17850.0  \n",
       "3  11/29/2018 08:26       3.39     17850.0  \n",
       "4  11/29/2018 08:26       3.39     17850.0  "
      ]
     },
     "execution_count": 3,
     "metadata": {},
     "output_type": "execute_result"
    }
   ],
   "source": [
    "df.head(5)"
   ]
  },
  {
   "cell_type": "markdown",
   "id": "ecd1f4a9",
   "metadata": {},
   "source": [
    "**Description of the data:**\n",
    "\n",
    "The dataset contains the transaction history of an online store that sells household goods.\n",
    "\n",
    "The file `ecommerce_dataset_us.csv` contains the following columns:\n",
    "\n",
    "`InvoiceNo` — order identifier\n",
    "\n",
    "`StockCode` — item identifier\n",
    "\n",
    "`Description` — item name\n",
    "\n",
    "`Quantity`\n",
    "\n",
    "`InvoiceDate` — order date\n",
    "\n",
    "`UnitPrice` — price per item\n",
    "\n",
    "`CustomerID`"
   ]
  },
  {
   "cell_type": "code",
   "execution_count": 4,
   "id": "0e04d889",
   "metadata": {},
   "outputs": [
    {
     "name": "stdout",
     "output_type": "stream",
     "text": [
      "<class 'pandas.core.frame.DataFrame'>\n",
      "RangeIndex: 541909 entries, 0 to 541908\n",
      "Data columns (total 7 columns):\n",
      " #   Column       Non-Null Count   Dtype  \n",
      "---  ------       --------------   -----  \n",
      " 0   InvoiceNo    541909 non-null  object \n",
      " 1   StockCode    541909 non-null  object \n",
      " 2   Description  540455 non-null  object \n",
      " 3   Quantity     541909 non-null  int64  \n",
      " 4   InvoiceDate  541909 non-null  object \n",
      " 5   UnitPrice    541909 non-null  float64\n",
      " 6   CustomerID   406829 non-null  float64\n",
      "dtypes: float64(2), int64(1), object(4)\n",
      "memory usage: 28.9+ MB\n"
     ]
    }
   ],
   "source": [
    "df.info()"
   ]
  },
  {
   "cell_type": "markdown",
   "id": "575aad5b",
   "metadata": {},
   "source": [
    "# Step 2. Prepare the data for analysis:"
   ]
  },
  {
   "cell_type": "code",
   "execution_count": 5,
   "id": "6c1e485f",
   "metadata": {},
   "outputs": [],
   "source": [
    "# fix column names\n",
    "df=df.rename(str.lower, axis='columns')"
   ]
  },
  {
   "cell_type": "code",
   "execution_count": 6,
   "id": "8f6674a4",
   "metadata": {},
   "outputs": [
    {
     "data": {
      "text/plain": [
       "False    406829\n",
       "True     135080\n",
       "Name: customerid, dtype: int64"
      ]
     },
     "execution_count": 6,
     "metadata": {},
     "output_type": "execute_result"
    }
   ],
   "source": [
    "df['customerid'].isna().value_counts()"
   ]
  },
  {
   "cell_type": "code",
   "execution_count": 7,
   "id": "07da9776",
   "metadata": {},
   "outputs": [],
   "source": [
    "#change date time type\n",
    "df['invoicedate']=pd.to_datetime(df['invoicedate'])\n",
    "#add date column\n",
    "df['date']=pd.to_datetime(df[\"invoicedate\"]).dt.normalize()"
   ]
  },
  {
   "cell_type": "code",
   "execution_count": 8,
   "id": "f2586865",
   "metadata": {},
   "outputs": [
    {
     "data": {
      "text/html": [
       "<div>\n",
       "<style scoped>\n",
       "    .dataframe tbody tr th:only-of-type {\n",
       "        vertical-align: middle;\n",
       "    }\n",
       "\n",
       "    .dataframe tbody tr th {\n",
       "        vertical-align: top;\n",
       "    }\n",
       "\n",
       "    .dataframe thead th {\n",
       "        text-align: right;\n",
       "    }\n",
       "</style>\n",
       "<table border=\"1\" class=\"dataframe\">\n",
       "  <thead>\n",
       "    <tr style=\"text-align: right;\">\n",
       "      <th></th>\n",
       "      <th>invoiceno</th>\n",
       "      <th>stockcode</th>\n",
       "      <th>description</th>\n",
       "      <th>quantity</th>\n",
       "      <th>invoicedate</th>\n",
       "      <th>unitprice</th>\n",
       "      <th>customerid</th>\n",
       "      <th>date</th>\n",
       "      <th>0</th>\n",
       "    </tr>\n",
       "  </thead>\n",
       "  <tbody>\n",
       "    <tr>\n",
       "      <th>0</th>\n",
       "      <td>False</td>\n",
       "      <td>False</td>\n",
       "      <td>False</td>\n",
       "      <td>False</td>\n",
       "      <td>False</td>\n",
       "      <td>False</td>\n",
       "      <td>False</td>\n",
       "      <td>False</td>\n",
       "      <td>406829</td>\n",
       "    </tr>\n",
       "    <tr>\n",
       "      <th>1</th>\n",
       "      <td>False</td>\n",
       "      <td>False</td>\n",
       "      <td>False</td>\n",
       "      <td>False</td>\n",
       "      <td>False</td>\n",
       "      <td>False</td>\n",
       "      <td>True</td>\n",
       "      <td>False</td>\n",
       "      <td>133626</td>\n",
       "    </tr>\n",
       "    <tr>\n",
       "      <th>2</th>\n",
       "      <td>False</td>\n",
       "      <td>False</td>\n",
       "      <td>True</td>\n",
       "      <td>False</td>\n",
       "      <td>False</td>\n",
       "      <td>False</td>\n",
       "      <td>True</td>\n",
       "      <td>False</td>\n",
       "      <td>1454</td>\n",
       "    </tr>\n",
       "  </tbody>\n",
       "</table>\n",
       "</div>"
      ],
      "text/plain": [
       "   invoiceno  stockcode  description  quantity  invoicedate  unitprice  \\\n",
       "0      False      False        False     False        False      False   \n",
       "1      False      False        False     False        False      False   \n",
       "2      False      False         True     False        False      False   \n",
       "\n",
       "   customerid   date       0  \n",
       "0       False  False  406829  \n",
       "1        True  False  133626  \n",
       "2        True  False    1454  "
      ]
     },
     "execution_count": 8,
     "metadata": {},
     "output_type": "execute_result"
    }
   ],
   "source": [
    "#checking for missing values\n",
    "df.isna().value_counts().reset_index()"
   ]
  },
  {
   "cell_type": "markdown",
   "id": "66555840",
   "metadata": {},
   "source": [
    "we have a lot of missing values in customer id column. lets investigate can we cut something not interesting for analysis from here."
   ]
  },
  {
   "cell_type": "code",
   "execution_count": 9,
   "id": "10b4acdf",
   "metadata": {},
   "outputs": [
    {
     "data": {
      "text/html": [
       "<div>\n",
       "<style scoped>\n",
       "    .dataframe tbody tr th:only-of-type {\n",
       "        vertical-align: middle;\n",
       "    }\n",
       "\n",
       "    .dataframe tbody tr th {\n",
       "        vertical-align: top;\n",
       "    }\n",
       "\n",
       "    .dataframe thead th {\n",
       "        text-align: right;\n",
       "    }\n",
       "</style>\n",
       "<table border=\"1\" class=\"dataframe\">\n",
       "  <thead>\n",
       "    <tr style=\"text-align: right;\">\n",
       "      <th></th>\n",
       "      <th>invoiceno</th>\n",
       "      <th>stockcode</th>\n",
       "      <th>description</th>\n",
       "      <th>quantity</th>\n",
       "      <th>invoicedate</th>\n",
       "      <th>unitprice</th>\n",
       "      <th>customerid</th>\n",
       "      <th>date</th>\n",
       "    </tr>\n",
       "  </thead>\n",
       "  <tbody>\n",
       "    <tr>\n",
       "      <th>622</th>\n",
       "      <td>536414</td>\n",
       "      <td>22139</td>\n",
       "      <td>NaN</td>\n",
       "      <td>56</td>\n",
       "      <td>2018-11-29 11:52:00</td>\n",
       "      <td>0.0</td>\n",
       "      <td>NaN</td>\n",
       "      <td>2018-11-29</td>\n",
       "    </tr>\n",
       "    <tr>\n",
       "      <th>1970</th>\n",
       "      <td>536545</td>\n",
       "      <td>21134</td>\n",
       "      <td>NaN</td>\n",
       "      <td>1</td>\n",
       "      <td>2018-11-29 14:32:00</td>\n",
       "      <td>0.0</td>\n",
       "      <td>NaN</td>\n",
       "      <td>2018-11-29</td>\n",
       "    </tr>\n",
       "    <tr>\n",
       "      <th>1971</th>\n",
       "      <td>536546</td>\n",
       "      <td>22145</td>\n",
       "      <td>NaN</td>\n",
       "      <td>1</td>\n",
       "      <td>2018-11-29 14:33:00</td>\n",
       "      <td>0.0</td>\n",
       "      <td>NaN</td>\n",
       "      <td>2018-11-29</td>\n",
       "    </tr>\n",
       "    <tr>\n",
       "      <th>1972</th>\n",
       "      <td>536547</td>\n",
       "      <td>37509</td>\n",
       "      <td>NaN</td>\n",
       "      <td>1</td>\n",
       "      <td>2018-11-29 14:33:00</td>\n",
       "      <td>0.0</td>\n",
       "      <td>NaN</td>\n",
       "      <td>2018-11-29</td>\n",
       "    </tr>\n",
       "    <tr>\n",
       "      <th>1987</th>\n",
       "      <td>536549</td>\n",
       "      <td>85226A</td>\n",
       "      <td>NaN</td>\n",
       "      <td>1</td>\n",
       "      <td>2018-11-29 14:34:00</td>\n",
       "      <td>0.0</td>\n",
       "      <td>NaN</td>\n",
       "      <td>2018-11-29</td>\n",
       "    </tr>\n",
       "    <tr>\n",
       "      <th>...</th>\n",
       "      <td>...</td>\n",
       "      <td>...</td>\n",
       "      <td>...</td>\n",
       "      <td>...</td>\n",
       "      <td>...</td>\n",
       "      <td>...</td>\n",
       "      <td>...</td>\n",
       "      <td>...</td>\n",
       "    </tr>\n",
       "    <tr>\n",
       "      <th>535322</th>\n",
       "      <td>581199</td>\n",
       "      <td>84581</td>\n",
       "      <td>NaN</td>\n",
       "      <td>-2</td>\n",
       "      <td>2019-12-05 18:26:00</td>\n",
       "      <td>0.0</td>\n",
       "      <td>NaN</td>\n",
       "      <td>2019-12-05</td>\n",
       "    </tr>\n",
       "    <tr>\n",
       "      <th>535326</th>\n",
       "      <td>581203</td>\n",
       "      <td>23406</td>\n",
       "      <td>NaN</td>\n",
       "      <td>15</td>\n",
       "      <td>2019-12-05 18:31:00</td>\n",
       "      <td>0.0</td>\n",
       "      <td>NaN</td>\n",
       "      <td>2019-12-05</td>\n",
       "    </tr>\n",
       "    <tr>\n",
       "      <th>535332</th>\n",
       "      <td>581209</td>\n",
       "      <td>21620</td>\n",
       "      <td>NaN</td>\n",
       "      <td>6</td>\n",
       "      <td>2019-12-05 18:35:00</td>\n",
       "      <td>0.0</td>\n",
       "      <td>NaN</td>\n",
       "      <td>2019-12-05</td>\n",
       "    </tr>\n",
       "    <tr>\n",
       "      <th>536981</th>\n",
       "      <td>581234</td>\n",
       "      <td>72817</td>\n",
       "      <td>NaN</td>\n",
       "      <td>27</td>\n",
       "      <td>2019-12-06 10:33:00</td>\n",
       "      <td>0.0</td>\n",
       "      <td>NaN</td>\n",
       "      <td>2019-12-06</td>\n",
       "    </tr>\n",
       "    <tr>\n",
       "      <th>538554</th>\n",
       "      <td>581408</td>\n",
       "      <td>85175</td>\n",
       "      <td>NaN</td>\n",
       "      <td>20</td>\n",
       "      <td>2019-12-06 14:06:00</td>\n",
       "      <td>0.0</td>\n",
       "      <td>NaN</td>\n",
       "      <td>2019-12-06</td>\n",
       "    </tr>\n",
       "  </tbody>\n",
       "</table>\n",
       "<p>1454 rows × 8 columns</p>\n",
       "</div>"
      ],
      "text/plain": [
       "       invoiceno stockcode description  quantity         invoicedate  \\\n",
       "622       536414     22139         NaN        56 2018-11-29 11:52:00   \n",
       "1970      536545     21134         NaN         1 2018-11-29 14:32:00   \n",
       "1971      536546     22145         NaN         1 2018-11-29 14:33:00   \n",
       "1972      536547     37509         NaN         1 2018-11-29 14:33:00   \n",
       "1987      536549    85226A         NaN         1 2018-11-29 14:34:00   \n",
       "...          ...       ...         ...       ...                 ...   \n",
       "535322    581199     84581         NaN        -2 2019-12-05 18:26:00   \n",
       "535326    581203     23406         NaN        15 2019-12-05 18:31:00   \n",
       "535332    581209     21620         NaN         6 2019-12-05 18:35:00   \n",
       "536981    581234     72817         NaN        27 2019-12-06 10:33:00   \n",
       "538554    581408     85175         NaN        20 2019-12-06 14:06:00   \n",
       "\n",
       "        unitprice  customerid       date  \n",
       "622           0.0         NaN 2018-11-29  \n",
       "1970          0.0         NaN 2018-11-29  \n",
       "1971          0.0         NaN 2018-11-29  \n",
       "1972          0.0         NaN 2018-11-29  \n",
       "1987          0.0         NaN 2018-11-29  \n",
       "...           ...         ...        ...  \n",
       "535322        0.0         NaN 2019-12-05  \n",
       "535326        0.0         NaN 2019-12-05  \n",
       "535332        0.0         NaN 2019-12-05  \n",
       "536981        0.0         NaN 2019-12-06  \n",
       "538554        0.0         NaN 2019-12-06  \n",
       "\n",
       "[1454 rows x 8 columns]"
      ]
     },
     "execution_count": 9,
     "metadata": {},
     "output_type": "execute_result"
    }
   ],
   "source": [
    "#drop 1454 rows with missing values in description and customer id columns\n",
    "df_drop=df[df['description'].isna().to_list()]\n",
    "df_drop"
   ]
  },
  {
   "cell_type": "markdown",
   "id": "0a032461",
   "metadata": {},
   "source": [
    "we can see that we have values with 0 unitprice and no name items, we can cut them off."
   ]
  },
  {
   "cell_type": "code",
   "execution_count": 10,
   "id": "7891703c",
   "metadata": {},
   "outputs": [],
   "source": [
    "df_drop=df[df['description'].isna().to_list()]"
   ]
  },
  {
   "cell_type": "code",
   "execution_count": 11,
   "id": "3610f935",
   "metadata": {},
   "outputs": [
    {
     "data": {
      "text/html": [
       "<div>\n",
       "<style scoped>\n",
       "    .dataframe tbody tr th:only-of-type {\n",
       "        vertical-align: middle;\n",
       "    }\n",
       "\n",
       "    .dataframe tbody tr th {\n",
       "        vertical-align: top;\n",
       "    }\n",
       "\n",
       "    .dataframe thead th {\n",
       "        text-align: right;\n",
       "    }\n",
       "</style>\n",
       "<table border=\"1\" class=\"dataframe\">\n",
       "  <thead>\n",
       "    <tr style=\"text-align: right;\">\n",
       "      <th></th>\n",
       "      <th>invoiceno</th>\n",
       "      <th>stockcode</th>\n",
       "      <th>description</th>\n",
       "      <th>quantity</th>\n",
       "      <th>invoicedate</th>\n",
       "      <th>unitprice</th>\n",
       "      <th>customerid</th>\n",
       "      <th>date</th>\n",
       "    </tr>\n",
       "  </thead>\n",
       "  <tbody>\n",
       "    <tr>\n",
       "      <th>0</th>\n",
       "      <td>536365</td>\n",
       "      <td>85123A</td>\n",
       "      <td>WHITE HANGING HEART T-LIGHT HOLDER</td>\n",
       "      <td>6</td>\n",
       "      <td>2018-11-29 08:26:00</td>\n",
       "      <td>2.55</td>\n",
       "      <td>17850.0</td>\n",
       "      <td>2018-11-29</td>\n",
       "    </tr>\n",
       "    <tr>\n",
       "      <th>1</th>\n",
       "      <td>536365</td>\n",
       "      <td>71053</td>\n",
       "      <td>WHITE METAL LANTERN</td>\n",
       "      <td>6</td>\n",
       "      <td>2018-11-29 08:26:00</td>\n",
       "      <td>3.39</td>\n",
       "      <td>17850.0</td>\n",
       "      <td>2018-11-29</td>\n",
       "    </tr>\n",
       "    <tr>\n",
       "      <th>2</th>\n",
       "      <td>536365</td>\n",
       "      <td>84406B</td>\n",
       "      <td>CREAM CUPID HEARTS COAT HANGER</td>\n",
       "      <td>8</td>\n",
       "      <td>2018-11-29 08:26:00</td>\n",
       "      <td>2.75</td>\n",
       "      <td>17850.0</td>\n",
       "      <td>2018-11-29</td>\n",
       "    </tr>\n",
       "    <tr>\n",
       "      <th>3</th>\n",
       "      <td>536365</td>\n",
       "      <td>84029G</td>\n",
       "      <td>KNITTED UNION FLAG HOT WATER BOTTLE</td>\n",
       "      <td>6</td>\n",
       "      <td>2018-11-29 08:26:00</td>\n",
       "      <td>3.39</td>\n",
       "      <td>17850.0</td>\n",
       "      <td>2018-11-29</td>\n",
       "    </tr>\n",
       "    <tr>\n",
       "      <th>4</th>\n",
       "      <td>536365</td>\n",
       "      <td>84029E</td>\n",
       "      <td>RED WOOLLY HOTTIE WHITE HEART.</td>\n",
       "      <td>6</td>\n",
       "      <td>2018-11-29 08:26:00</td>\n",
       "      <td>3.39</td>\n",
       "      <td>17850.0</td>\n",
       "      <td>2018-11-29</td>\n",
       "    </tr>\n",
       "    <tr>\n",
       "      <th>...</th>\n",
       "      <td>...</td>\n",
       "      <td>...</td>\n",
       "      <td>...</td>\n",
       "      <td>...</td>\n",
       "      <td>...</td>\n",
       "      <td>...</td>\n",
       "      <td>...</td>\n",
       "      <td>...</td>\n",
       "    </tr>\n",
       "    <tr>\n",
       "      <th>541904</th>\n",
       "      <td>581587</td>\n",
       "      <td>22613</td>\n",
       "      <td>PACK OF 20 SPACEBOY NAPKINS</td>\n",
       "      <td>12</td>\n",
       "      <td>2019-12-07 12:50:00</td>\n",
       "      <td>0.85</td>\n",
       "      <td>12680.0</td>\n",
       "      <td>2019-12-07</td>\n",
       "    </tr>\n",
       "    <tr>\n",
       "      <th>541905</th>\n",
       "      <td>581587</td>\n",
       "      <td>22899</td>\n",
       "      <td>CHILDREN'S APRON DOLLY GIRL</td>\n",
       "      <td>6</td>\n",
       "      <td>2019-12-07 12:50:00</td>\n",
       "      <td>2.10</td>\n",
       "      <td>12680.0</td>\n",
       "      <td>2019-12-07</td>\n",
       "    </tr>\n",
       "    <tr>\n",
       "      <th>541906</th>\n",
       "      <td>581587</td>\n",
       "      <td>23254</td>\n",
       "      <td>CHILDRENS CUTLERY DOLLY GIRL</td>\n",
       "      <td>4</td>\n",
       "      <td>2019-12-07 12:50:00</td>\n",
       "      <td>4.15</td>\n",
       "      <td>12680.0</td>\n",
       "      <td>2019-12-07</td>\n",
       "    </tr>\n",
       "    <tr>\n",
       "      <th>541907</th>\n",
       "      <td>581587</td>\n",
       "      <td>23255</td>\n",
       "      <td>CHILDRENS CUTLERY CIRCUS PARADE</td>\n",
       "      <td>4</td>\n",
       "      <td>2019-12-07 12:50:00</td>\n",
       "      <td>4.15</td>\n",
       "      <td>12680.0</td>\n",
       "      <td>2019-12-07</td>\n",
       "    </tr>\n",
       "    <tr>\n",
       "      <th>541908</th>\n",
       "      <td>581587</td>\n",
       "      <td>22138</td>\n",
       "      <td>BAKING SET 9 PIECE RETROSPOT</td>\n",
       "      <td>3</td>\n",
       "      <td>2019-12-07 12:50:00</td>\n",
       "      <td>4.95</td>\n",
       "      <td>12680.0</td>\n",
       "      <td>2019-12-07</td>\n",
       "    </tr>\n",
       "  </tbody>\n",
       "</table>\n",
       "<p>540455 rows × 8 columns</p>\n",
       "</div>"
      ],
      "text/plain": [
       "       invoiceno stockcode                          description  quantity  \\\n",
       "0         536365    85123A   WHITE HANGING HEART T-LIGHT HOLDER         6   \n",
       "1         536365     71053                  WHITE METAL LANTERN         6   \n",
       "2         536365    84406B       CREAM CUPID HEARTS COAT HANGER         8   \n",
       "3         536365    84029G  KNITTED UNION FLAG HOT WATER BOTTLE         6   \n",
       "4         536365    84029E       RED WOOLLY HOTTIE WHITE HEART.         6   \n",
       "...          ...       ...                                  ...       ...   \n",
       "541904    581587     22613          PACK OF 20 SPACEBOY NAPKINS        12   \n",
       "541905    581587     22899         CHILDREN'S APRON DOLLY GIRL          6   \n",
       "541906    581587     23254        CHILDRENS CUTLERY DOLLY GIRL          4   \n",
       "541907    581587     23255      CHILDRENS CUTLERY CIRCUS PARADE         4   \n",
       "541908    581587     22138        BAKING SET 9 PIECE RETROSPOT          3   \n",
       "\n",
       "               invoicedate  unitprice  customerid       date  \n",
       "0      2018-11-29 08:26:00       2.55     17850.0 2018-11-29  \n",
       "1      2018-11-29 08:26:00       3.39     17850.0 2018-11-29  \n",
       "2      2018-11-29 08:26:00       2.75     17850.0 2018-11-29  \n",
       "3      2018-11-29 08:26:00       3.39     17850.0 2018-11-29  \n",
       "4      2018-11-29 08:26:00       3.39     17850.0 2018-11-29  \n",
       "...                    ...        ...         ...        ...  \n",
       "541904 2019-12-07 12:50:00       0.85     12680.0 2019-12-07  \n",
       "541905 2019-12-07 12:50:00       2.10     12680.0 2019-12-07  \n",
       "541906 2019-12-07 12:50:00       4.15     12680.0 2019-12-07  \n",
       "541907 2019-12-07 12:50:00       4.15     12680.0 2019-12-07  \n",
       "541908 2019-12-07 12:50:00       4.95     12680.0 2019-12-07  \n",
       "\n",
       "[540455 rows x 8 columns]"
      ]
     },
     "execution_count": 11,
     "metadata": {},
     "output_type": "execute_result"
    }
   ],
   "source": [
    "df_clean= df[~df['description'].isin(df_drop['description'])]\n",
    "df_clean"
   ]
  },
  {
   "cell_type": "code",
   "execution_count": 12,
   "id": "8e86258a",
   "metadata": {},
   "outputs": [
    {
     "data": {
      "text/html": [
       "<div>\n",
       "<style scoped>\n",
       "    .dataframe tbody tr th:only-of-type {\n",
       "        vertical-align: middle;\n",
       "    }\n",
       "\n",
       "    .dataframe tbody tr th {\n",
       "        vertical-align: top;\n",
       "    }\n",
       "\n",
       "    .dataframe thead th {\n",
       "        text-align: right;\n",
       "    }\n",
       "</style>\n",
       "<table border=\"1\" class=\"dataframe\">\n",
       "  <thead>\n",
       "    <tr style=\"text-align: right;\">\n",
       "      <th></th>\n",
       "      <th>invoiceno</th>\n",
       "      <th>stockcode</th>\n",
       "      <th>description</th>\n",
       "      <th>quantity</th>\n",
       "      <th>invoicedate</th>\n",
       "      <th>unitprice</th>\n",
       "      <th>customerid</th>\n",
       "      <th>date</th>\n",
       "    </tr>\n",
       "  </thead>\n",
       "  <tbody>\n",
       "    <tr>\n",
       "      <th>0</th>\n",
       "      <td>536365</td>\n",
       "      <td>85123A</td>\n",
       "      <td>WHITE HANGING HEART T-LIGHT HOLDER</td>\n",
       "      <td>6</td>\n",
       "      <td>2018-11-29 08:26:00</td>\n",
       "      <td>2.55</td>\n",
       "      <td>17850.0</td>\n",
       "      <td>2018-11-29</td>\n",
       "    </tr>\n",
       "    <tr>\n",
       "      <th>1</th>\n",
       "      <td>536365</td>\n",
       "      <td>71053</td>\n",
       "      <td>WHITE METAL LANTERN</td>\n",
       "      <td>6</td>\n",
       "      <td>2018-11-29 08:26:00</td>\n",
       "      <td>3.39</td>\n",
       "      <td>17850.0</td>\n",
       "      <td>2018-11-29</td>\n",
       "    </tr>\n",
       "    <tr>\n",
       "      <th>2</th>\n",
       "      <td>536365</td>\n",
       "      <td>84406B</td>\n",
       "      <td>CREAM CUPID HEARTS COAT HANGER</td>\n",
       "      <td>8</td>\n",
       "      <td>2018-11-29 08:26:00</td>\n",
       "      <td>2.75</td>\n",
       "      <td>17850.0</td>\n",
       "      <td>2018-11-29</td>\n",
       "    </tr>\n",
       "    <tr>\n",
       "      <th>3</th>\n",
       "      <td>536365</td>\n",
       "      <td>84029G</td>\n",
       "      <td>KNITTED UNION FLAG HOT WATER BOTTLE</td>\n",
       "      <td>6</td>\n",
       "      <td>2018-11-29 08:26:00</td>\n",
       "      <td>3.39</td>\n",
       "      <td>17850.0</td>\n",
       "      <td>2018-11-29</td>\n",
       "    </tr>\n",
       "    <tr>\n",
       "      <th>4</th>\n",
       "      <td>536365</td>\n",
       "      <td>84029E</td>\n",
       "      <td>RED WOOLLY HOTTIE WHITE HEART.</td>\n",
       "      <td>6</td>\n",
       "      <td>2018-11-29 08:26:00</td>\n",
       "      <td>3.39</td>\n",
       "      <td>17850.0</td>\n",
       "      <td>2018-11-29</td>\n",
       "    </tr>\n",
       "    <tr>\n",
       "      <th>...</th>\n",
       "      <td>...</td>\n",
       "      <td>...</td>\n",
       "      <td>...</td>\n",
       "      <td>...</td>\n",
       "      <td>...</td>\n",
       "      <td>...</td>\n",
       "      <td>...</td>\n",
       "      <td>...</td>\n",
       "    </tr>\n",
       "    <tr>\n",
       "      <th>541803</th>\n",
       "      <td>581578</td>\n",
       "      <td>22908</td>\n",
       "      <td>PACK OF 20 NAPKINS RED APPLES</td>\n",
       "      <td>12</td>\n",
       "      <td>2019-12-07 12:16:00</td>\n",
       "      <td>0.85</td>\n",
       "      <td>12713.0</td>\n",
       "      <td>2019-12-07</td>\n",
       "    </tr>\n",
       "    <tr>\n",
       "      <th>541824</th>\n",
       "      <td>581579</td>\n",
       "      <td>23084</td>\n",
       "      <td>RABBIT NIGHT LIGHT</td>\n",
       "      <td>24</td>\n",
       "      <td>2019-12-07 12:19:00</td>\n",
       "      <td>1.79</td>\n",
       "      <td>17581.0</td>\n",
       "      <td>2019-12-07</td>\n",
       "    </tr>\n",
       "    <tr>\n",
       "      <th>541866</th>\n",
       "      <td>581583</td>\n",
       "      <td>85038</td>\n",
       "      <td>6 CHOCOLATE LOVE HEART T-LIGHTS</td>\n",
       "      <td>36</td>\n",
       "      <td>2019-12-07 12:23:00</td>\n",
       "      <td>1.85</td>\n",
       "      <td>13777.0</td>\n",
       "      <td>2019-12-07</td>\n",
       "    </tr>\n",
       "    <tr>\n",
       "      <th>541879</th>\n",
       "      <td>581585</td>\n",
       "      <td>22726</td>\n",
       "      <td>ALARM CLOCK BAKELIKE GREEN</td>\n",
       "      <td>8</td>\n",
       "      <td>2019-12-07 12:31:00</td>\n",
       "      <td>3.75</td>\n",
       "      <td>15804.0</td>\n",
       "      <td>2019-12-07</td>\n",
       "    </tr>\n",
       "    <tr>\n",
       "      <th>541880</th>\n",
       "      <td>581585</td>\n",
       "      <td>22727</td>\n",
       "      <td>ALARM CLOCK BAKELIKE RED</td>\n",
       "      <td>4</td>\n",
       "      <td>2019-12-07 12:31:00</td>\n",
       "      <td>3.75</td>\n",
       "      <td>15804.0</td>\n",
       "      <td>2019-12-07</td>\n",
       "    </tr>\n",
       "  </tbody>\n",
       "</table>\n",
       "<p>536232 rows × 8 columns</p>\n",
       "</div>"
      ],
      "text/plain": [
       "       invoiceno stockcode                          description  quantity  \\\n",
       "0         536365    85123A   WHITE HANGING HEART T-LIGHT HOLDER         6   \n",
       "1         536365     71053                  WHITE METAL LANTERN         6   \n",
       "2         536365    84406B       CREAM CUPID HEARTS COAT HANGER         8   \n",
       "3         536365    84029G  KNITTED UNION FLAG HOT WATER BOTTLE         6   \n",
       "4         536365    84029E       RED WOOLLY HOTTIE WHITE HEART.         6   \n",
       "...          ...       ...                                  ...       ...   \n",
       "541803    581578     22908        PACK OF 20 NAPKINS RED APPLES        12   \n",
       "541824    581579     23084                   RABBIT NIGHT LIGHT        24   \n",
       "541866    581583     85038      6 CHOCOLATE LOVE HEART T-LIGHTS        36   \n",
       "541879    581585     22726           ALARM CLOCK BAKELIKE GREEN         8   \n",
       "541880    581585     22727            ALARM CLOCK BAKELIKE RED          4   \n",
       "\n",
       "               invoicedate  unitprice  customerid       date  \n",
       "0      2018-11-29 08:26:00       2.55     17850.0 2018-11-29  \n",
       "1      2018-11-29 08:26:00       3.39     17850.0 2018-11-29  \n",
       "2      2018-11-29 08:26:00       2.75     17850.0 2018-11-29  \n",
       "3      2018-11-29 08:26:00       3.39     17850.0 2018-11-29  \n",
       "4      2018-11-29 08:26:00       3.39     17850.0 2018-11-29  \n",
       "...                    ...        ...         ...        ...  \n",
       "541803 2019-12-07 12:16:00       0.85     12713.0 2019-12-07  \n",
       "541824 2019-12-07 12:19:00       1.79     17581.0 2019-12-07  \n",
       "541866 2019-12-07 12:23:00       1.85     13777.0 2019-12-07  \n",
       "541879 2019-12-07 12:31:00       3.75     15804.0 2019-12-07  \n",
       "541880 2019-12-07 12:31:00       3.75     15804.0 2019-12-07  \n",
       "\n",
       "[536232 rows x 8 columns]"
      ]
     },
     "execution_count": 12,
     "metadata": {},
     "output_type": "execute_result"
    }
   ],
   "source": [
    "#checking for duplicates\n",
    "df_clean[df_clean.duplicated(subset=['description'], keep='last')]"
   ]
  },
  {
   "cell_type": "code",
   "execution_count": 13,
   "id": "825a7b00",
   "metadata": {},
   "outputs": [
    {
     "data": {
      "text/plain": [
       "True     536497\n",
       "False      3958\n",
       "Name: stockcode, dtype: int64"
      ]
     },
     "execution_count": 13,
     "metadata": {},
     "output_type": "execute_result"
    }
   ],
   "source": [
    "df_clean['stockcode'].duplicated().value_counts()"
   ]
  },
  {
   "cell_type": "code",
   "execution_count": 14,
   "id": "e1a5c2a2",
   "metadata": {},
   "outputs": [
    {
     "data": {
      "text/plain": [
       "0         85123A\n",
       "1          71053\n",
       "2         84406B\n",
       "3         84029G\n",
       "4         84029E\n",
       "           ...  \n",
       "541904     22613\n",
       "541905     22899\n",
       "541906     23254\n",
       "541907     23255\n",
       "541908     22138\n",
       "Name: stockcode, Length: 540283, dtype: object"
      ]
     },
     "execution_count": 14,
     "metadata": {},
     "output_type": "execute_result"
    }
   ],
   "source": [
    "df1=df_clean['stockcode']\n",
    "df1[df1.duplicated(keep=False)]"
   ]
  },
  {
   "cell_type": "code",
   "execution_count": 15,
   "id": "6d0ce2f0",
   "metadata": {},
   "outputs": [
    {
     "data": {
      "text/html": [
       "<div>\n",
       "<style scoped>\n",
       "    .dataframe tbody tr th:only-of-type {\n",
       "        vertical-align: middle;\n",
       "    }\n",
       "\n",
       "    .dataframe tbody tr th {\n",
       "        vertical-align: top;\n",
       "    }\n",
       "\n",
       "    .dataframe thead th {\n",
       "        text-align: right;\n",
       "    }\n",
       "</style>\n",
       "<table border=\"1\" class=\"dataframe\">\n",
       "  <thead>\n",
       "    <tr style=\"text-align: right;\">\n",
       "      <th></th>\n",
       "      <th>invoiceno</th>\n",
       "      <th>stockcode</th>\n",
       "      <th>description</th>\n",
       "      <th>quantity</th>\n",
       "      <th>invoicedate</th>\n",
       "      <th>unitprice</th>\n",
       "      <th>customerid</th>\n",
       "      <th>date</th>\n",
       "    </tr>\n",
       "  </thead>\n",
       "  <tbody>\n",
       "    <tr>\n",
       "      <th>160509</th>\n",
       "      <td>550459</td>\n",
       "      <td>72800B</td>\n",
       "      <td>4 PURPLE FLOCK DINNER CANDLES</td>\n",
       "      <td>1</td>\n",
       "      <td>2019-04-16 13:17:00</td>\n",
       "      <td>2.55</td>\n",
       "      <td>18116.0</td>\n",
       "      <td>2019-04-16</td>\n",
       "    </tr>\n",
       "    <tr>\n",
       "      <th>483414</th>\n",
       "      <td>577503</td>\n",
       "      <td>72800B</td>\n",
       "      <td>4 PURPLE FLOCK DINNER CANDLES</td>\n",
       "      <td>1</td>\n",
       "      <td>2019-11-18 12:34:00</td>\n",
       "      <td>2.55</td>\n",
       "      <td>18110.0</td>\n",
       "      <td>2019-11-18</td>\n",
       "    </tr>\n",
       "    <tr>\n",
       "      <th>468720</th>\n",
       "      <td>576538</td>\n",
       "      <td>72800B</td>\n",
       "      <td>4 PURPLE FLOCK DINNER CANDLES</td>\n",
       "      <td>4</td>\n",
       "      <td>2019-11-13 12:42:00</td>\n",
       "      <td>2.55</td>\n",
       "      <td>14725.0</td>\n",
       "      <td>2019-11-13</td>\n",
       "    </tr>\n",
       "    <tr>\n",
       "      <th>312307</th>\n",
       "      <td>564346</td>\n",
       "      <td>23345</td>\n",
       "      <td>DOLLY GIRL BEAKER</td>\n",
       "      <td>12</td>\n",
       "      <td>2019-08-22 14:54:00</td>\n",
       "      <td>1.25</td>\n",
       "      <td>15727.0</td>\n",
       "      <td>2019-08-22</td>\n",
       "    </tr>\n",
       "    <tr>\n",
       "      <th>460098</th>\n",
       "      <td>575895</td>\n",
       "      <td>23345</td>\n",
       "      <td>DOLLY GIRL BEAKER</td>\n",
       "      <td>1</td>\n",
       "      <td>2019-11-09 14:50:00</td>\n",
       "      <td>1.25</td>\n",
       "      <td>17052.0</td>\n",
       "      <td>2019-11-09</td>\n",
       "    </tr>\n",
       "    <tr>\n",
       "      <th>...</th>\n",
       "      <td>...</td>\n",
       "      <td>...</td>\n",
       "      <td>...</td>\n",
       "      <td>...</td>\n",
       "      <td>...</td>\n",
       "      <td>...</td>\n",
       "      <td>...</td>\n",
       "      <td>...</td>\n",
       "    </tr>\n",
       "    <tr>\n",
       "      <th>411503</th>\n",
       "      <td>572219</td>\n",
       "      <td>23144</td>\n",
       "      <td>ZINC T-LIGHT HOLDER STARS SMALL</td>\n",
       "      <td>4</td>\n",
       "      <td>2019-10-19 13:17:00</td>\n",
       "      <td>0.83</td>\n",
       "      <td>17463.0</td>\n",
       "      <td>2019-10-19</td>\n",
       "    </tr>\n",
       "    <tr>\n",
       "      <th>346513</th>\n",
       "      <td>567186</td>\n",
       "      <td>84832</td>\n",
       "      <td>ZINC WILLIE WINKIE  CANDLE STICK</td>\n",
       "      <td>4</td>\n",
       "      <td>2019-09-16 16:04:00</td>\n",
       "      <td>0.85</td>\n",
       "      <td>17073.0</td>\n",
       "      <td>2019-09-16</td>\n",
       "    </tr>\n",
       "    <tr>\n",
       "      <th>293016</th>\n",
       "      <td>562574</td>\n",
       "      <td>84832</td>\n",
       "      <td>ZINC WILLIE WINKIE  CANDLE STICK</td>\n",
       "      <td>2</td>\n",
       "      <td>2019-08-05 12:42:00</td>\n",
       "      <td>0.85</td>\n",
       "      <td>14903.0</td>\n",
       "      <td>2019-08-05</td>\n",
       "    </tr>\n",
       "    <tr>\n",
       "      <th>104362</th>\n",
       "      <td>545166</td>\n",
       "      <td>84832</td>\n",
       "      <td>ZINC WILLIE WINKIE  CANDLE STICK</td>\n",
       "      <td>1</td>\n",
       "      <td>2019-02-26 14:03:00</td>\n",
       "      <td>0.85</td>\n",
       "      <td>17027.0</td>\n",
       "      <td>2019-02-26</td>\n",
       "    </tr>\n",
       "    <tr>\n",
       "      <th>462770</th>\n",
       "      <td>575989</td>\n",
       "      <td>84832</td>\n",
       "      <td>ZINC WILLIE WINKIE  CANDLE STICK</td>\n",
       "      <td>3</td>\n",
       "      <td>2019-11-11 14:20:00</td>\n",
       "      <td>0.85</td>\n",
       "      <td>14698.0</td>\n",
       "      <td>2019-11-11</td>\n",
       "    </tr>\n",
       "  </tbody>\n",
       "</table>\n",
       "<p>10682 rows × 8 columns</p>\n",
       "</div>"
      ],
      "text/plain": [
       "       invoiceno stockcode                       description  quantity  \\\n",
       "160509    550459    72800B     4 PURPLE FLOCK DINNER CANDLES         1   \n",
       "483414    577503    72800B     4 PURPLE FLOCK DINNER CANDLES         1   \n",
       "468720    576538    72800B     4 PURPLE FLOCK DINNER CANDLES         4   \n",
       "312307    564346     23345                 DOLLY GIRL BEAKER        12   \n",
       "460098    575895     23345                 DOLLY GIRL BEAKER         1   \n",
       "...          ...       ...                               ...       ...   \n",
       "411503    572219     23144   ZINC T-LIGHT HOLDER STARS SMALL         4   \n",
       "346513    567186     84832  ZINC WILLIE WINKIE  CANDLE STICK         4   \n",
       "293016    562574     84832  ZINC WILLIE WINKIE  CANDLE STICK         2   \n",
       "104362    545166     84832  ZINC WILLIE WINKIE  CANDLE STICK         1   \n",
       "462770    575989     84832  ZINC WILLIE WINKIE  CANDLE STICK         3   \n",
       "\n",
       "               invoicedate  unitprice  customerid       date  \n",
       "160509 2019-04-16 13:17:00       2.55     18116.0 2019-04-16  \n",
       "483414 2019-11-18 12:34:00       2.55     18110.0 2019-11-18  \n",
       "468720 2019-11-13 12:42:00       2.55     14725.0 2019-11-13  \n",
       "312307 2019-08-22 14:54:00       1.25     15727.0 2019-08-22  \n",
       "460098 2019-11-09 14:50:00       1.25     17052.0 2019-11-09  \n",
       "...                    ...        ...         ...        ...  \n",
       "411503 2019-10-19 13:17:00       0.83     17463.0 2019-10-19  \n",
       "346513 2019-09-16 16:04:00       0.85     17073.0 2019-09-16  \n",
       "293016 2019-08-05 12:42:00       0.85     14903.0 2019-08-05  \n",
       "104362 2019-02-26 14:03:00       0.85     17027.0 2019-02-26  \n",
       "462770 2019-11-11 14:20:00       0.85     14698.0 2019-11-11  \n",
       "\n",
       "[10682 rows x 8 columns]"
      ]
     },
     "execution_count": 15,
     "metadata": {},
     "output_type": "execute_result"
    }
   ],
   "source": [
    "df_clean[df_clean.duplicated(['description','invoiceno', 'stockcode'])].sort_values('description')"
   ]
  },
  {
   "cell_type": "markdown",
   "id": "3453d134",
   "metadata": {},
   "source": [
    "we have a duplicates, but its normal, because we have a data by invoice number and customers, so we can see duplicates of items by they are sold for different customers or with different invoice number, wich is ok."
   ]
  },
  {
   "cell_type": "code",
   "execution_count": 16,
   "id": "dcd30e41",
   "metadata": {},
   "outputs": [
    {
     "name": "stdout",
     "output_type": "stream",
     "text": [
      "9762\n",
      "1063\n"
     ]
    }
   ],
   "source": [
    "#check data for negative values\n",
    "print((df_clean['quantity'] < 0).sum().sum())\n",
    "print((df_clean['unitprice']<= 0).sum().sum())"
   ]
  },
  {
   "cell_type": "code",
   "execution_count": 17,
   "id": "1223d202",
   "metadata": {
    "scrolled": false
   },
   "outputs": [
    {
     "data": {
      "text/html": [
       "<div>\n",
       "<style scoped>\n",
       "    .dataframe tbody tr th:only-of-type {\n",
       "        vertical-align: middle;\n",
       "    }\n",
       "\n",
       "    .dataframe tbody tr th {\n",
       "        vertical-align: top;\n",
       "    }\n",
       "\n",
       "    .dataframe thead th {\n",
       "        text-align: right;\n",
       "    }\n",
       "</style>\n",
       "<table border=\"1\" class=\"dataframe\">\n",
       "  <thead>\n",
       "    <tr style=\"text-align: right;\">\n",
       "      <th></th>\n",
       "      <th>invoiceno</th>\n",
       "      <th>stockcode</th>\n",
       "      <th>description</th>\n",
       "      <th>quantity</th>\n",
       "      <th>invoicedate</th>\n",
       "      <th>unitprice</th>\n",
       "      <th>customerid</th>\n",
       "      <th>date</th>\n",
       "    </tr>\n",
       "  </thead>\n",
       "  <tbody>\n",
       "    <tr>\n",
       "      <th>6391</th>\n",
       "      <td>536941</td>\n",
       "      <td>22734</td>\n",
       "      <td>amazon</td>\n",
       "      <td>20</td>\n",
       "      <td>2018-12-01 12:08:00</td>\n",
       "      <td>0.0</td>\n",
       "      <td>NaN</td>\n",
       "      <td>2018-12-01</td>\n",
       "    </tr>\n",
       "    <tr>\n",
       "      <th>6392</th>\n",
       "      <td>536942</td>\n",
       "      <td>22139</td>\n",
       "      <td>amazon</td>\n",
       "      <td>15</td>\n",
       "      <td>2018-12-01 12:08:00</td>\n",
       "      <td>0.0</td>\n",
       "      <td>NaN</td>\n",
       "      <td>2018-12-01</td>\n",
       "    </tr>\n",
       "    <tr>\n",
       "      <th>7313</th>\n",
       "      <td>537032</td>\n",
       "      <td>21275</td>\n",
       "      <td>?</td>\n",
       "      <td>-30</td>\n",
       "      <td>2018-12-01 16:50:00</td>\n",
       "      <td>0.0</td>\n",
       "      <td>NaN</td>\n",
       "      <td>2018-12-01</td>\n",
       "    </tr>\n",
       "    <tr>\n",
       "      <th>9302</th>\n",
       "      <td>537197</td>\n",
       "      <td>22841</td>\n",
       "      <td>ROUND CAKE TIN VINTAGE GREEN</td>\n",
       "      <td>1</td>\n",
       "      <td>2018-12-03 14:02:00</td>\n",
       "      <td>0.0</td>\n",
       "      <td>12647.0</td>\n",
       "      <td>2018-12-03</td>\n",
       "    </tr>\n",
       "    <tr>\n",
       "      <th>13217</th>\n",
       "      <td>537425</td>\n",
       "      <td>84968F</td>\n",
       "      <td>check</td>\n",
       "      <td>-20</td>\n",
       "      <td>2018-12-04 15:35:00</td>\n",
       "      <td>0.0</td>\n",
       "      <td>NaN</td>\n",
       "      <td>2018-12-04</td>\n",
       "    </tr>\n",
       "    <tr>\n",
       "      <th>...</th>\n",
       "      <td>...</td>\n",
       "      <td>...</td>\n",
       "      <td>...</td>\n",
       "      <td>...</td>\n",
       "      <td>...</td>\n",
       "      <td>...</td>\n",
       "      <td>...</td>\n",
       "      <td>...</td>\n",
       "    </tr>\n",
       "    <tr>\n",
       "      <th>535336</th>\n",
       "      <td>581213</td>\n",
       "      <td>22576</td>\n",
       "      <td>check</td>\n",
       "      <td>-30</td>\n",
       "      <td>2019-12-05 18:38:00</td>\n",
       "      <td>0.0</td>\n",
       "      <td>NaN</td>\n",
       "      <td>2019-12-05</td>\n",
       "    </tr>\n",
       "    <tr>\n",
       "      <th>536908</th>\n",
       "      <td>581226</td>\n",
       "      <td>23090</td>\n",
       "      <td>missing</td>\n",
       "      <td>-338</td>\n",
       "      <td>2019-12-06 09:56:00</td>\n",
       "      <td>0.0</td>\n",
       "      <td>NaN</td>\n",
       "      <td>2019-12-06</td>\n",
       "    </tr>\n",
       "    <tr>\n",
       "      <th>538504</th>\n",
       "      <td>581406</td>\n",
       "      <td>46000M</td>\n",
       "      <td>POLYESTER FILLER PAD 45x45cm</td>\n",
       "      <td>240</td>\n",
       "      <td>2019-12-06 13:58:00</td>\n",
       "      <td>0.0</td>\n",
       "      <td>NaN</td>\n",
       "      <td>2019-12-06</td>\n",
       "    </tr>\n",
       "    <tr>\n",
       "      <th>538505</th>\n",
       "      <td>581406</td>\n",
       "      <td>46000S</td>\n",
       "      <td>POLYESTER FILLER PAD 40x40cm</td>\n",
       "      <td>300</td>\n",
       "      <td>2019-12-06 13:58:00</td>\n",
       "      <td>0.0</td>\n",
       "      <td>NaN</td>\n",
       "      <td>2019-12-06</td>\n",
       "    </tr>\n",
       "    <tr>\n",
       "      <th>538919</th>\n",
       "      <td>581422</td>\n",
       "      <td>23169</td>\n",
       "      <td>smashed</td>\n",
       "      <td>-235</td>\n",
       "      <td>2019-12-06 15:24:00</td>\n",
       "      <td>0.0</td>\n",
       "      <td>NaN</td>\n",
       "      <td>2019-12-06</td>\n",
       "    </tr>\n",
       "  </tbody>\n",
       "</table>\n",
       "<p>1063 rows × 8 columns</p>\n",
       "</div>"
      ],
      "text/plain": [
       "       invoiceno stockcode                   description  quantity  \\\n",
       "6391      536941     22734                        amazon        20   \n",
       "6392      536942     22139                        amazon        15   \n",
       "7313      537032     21275                             ?       -30   \n",
       "9302      537197     22841  ROUND CAKE TIN VINTAGE GREEN         1   \n",
       "13217     537425    84968F                         check       -20   \n",
       "...          ...       ...                           ...       ...   \n",
       "535336    581213     22576                         check       -30   \n",
       "536908    581226     23090                       missing      -338   \n",
       "538504    581406    46000M  POLYESTER FILLER PAD 45x45cm       240   \n",
       "538505    581406    46000S  POLYESTER FILLER PAD 40x40cm       300   \n",
       "538919    581422     23169                       smashed      -235   \n",
       "\n",
       "               invoicedate  unitprice  customerid       date  \n",
       "6391   2018-12-01 12:08:00        0.0         NaN 2018-12-01  \n",
       "6392   2018-12-01 12:08:00        0.0         NaN 2018-12-01  \n",
       "7313   2018-12-01 16:50:00        0.0         NaN 2018-12-01  \n",
       "9302   2018-12-03 14:02:00        0.0     12647.0 2018-12-03  \n",
       "13217  2018-12-04 15:35:00        0.0         NaN 2018-12-04  \n",
       "...                    ...        ...         ...        ...  \n",
       "535336 2019-12-05 18:38:00        0.0         NaN 2019-12-05  \n",
       "536908 2019-12-06 09:56:00        0.0         NaN 2019-12-06  \n",
       "538504 2019-12-06 13:58:00        0.0         NaN 2019-12-06  \n",
       "538505 2019-12-06 13:58:00        0.0         NaN 2019-12-06  \n",
       "538919 2019-12-06 15:24:00        0.0         NaN 2019-12-06  \n",
       "\n",
       "[1063 rows x 8 columns]"
      ]
     },
     "execution_count": 17,
     "metadata": {},
     "output_type": "execute_result"
    }
   ],
   "source": [
    "df_clean[df_clean['unitprice']<=0]"
   ]
  },
  {
   "cell_type": "markdown",
   "id": "e8dc812f",
   "metadata": {},
   "source": [
    "we have a 587 rows with 0 unit price, but lets do nothing with that meanwhile coz we investigate a product range, not prices."
   ]
  },
  {
   "cell_type": "code",
   "execution_count": 18,
   "id": "390d07ce",
   "metadata": {},
   "outputs": [],
   "source": [
    "#lets drop 2 rows with negative unitprice to make our analyse more accurate\n",
    "df_clean=df_clean.drop(index=[299983,299984])"
   ]
  },
  {
   "cell_type": "code",
   "execution_count": 19,
   "id": "0b62461b",
   "metadata": {},
   "outputs": [
    {
     "data": {
      "text/html": [
       "<div>\n",
       "<style scoped>\n",
       "    .dataframe tbody tr th:only-of-type {\n",
       "        vertical-align: middle;\n",
       "    }\n",
       "\n",
       "    .dataframe tbody tr th {\n",
       "        vertical-align: top;\n",
       "    }\n",
       "\n",
       "    .dataframe thead th {\n",
       "        text-align: right;\n",
       "    }\n",
       "</style>\n",
       "<table border=\"1\" class=\"dataframe\">\n",
       "  <thead>\n",
       "    <tr style=\"text-align: right;\">\n",
       "      <th></th>\n",
       "      <th>invoiceno</th>\n",
       "      <th>stockcode</th>\n",
       "      <th>description</th>\n",
       "      <th>quantity</th>\n",
       "      <th>invoicedate</th>\n",
       "      <th>unitprice</th>\n",
       "      <th>customerid</th>\n",
       "      <th>date</th>\n",
       "    </tr>\n",
       "  </thead>\n",
       "  <tbody>\n",
       "    <tr>\n",
       "      <th>141</th>\n",
       "      <td>C536379</td>\n",
       "      <td>D</td>\n",
       "      <td>Discount</td>\n",
       "      <td>-1</td>\n",
       "      <td>2018-11-29 09:41:00</td>\n",
       "      <td>27.50</td>\n",
       "      <td>14527.0</td>\n",
       "      <td>2018-11-29</td>\n",
       "    </tr>\n",
       "    <tr>\n",
       "      <th>154</th>\n",
       "      <td>C536383</td>\n",
       "      <td>35004C</td>\n",
       "      <td>SET OF 3 COLOURED  FLYING DUCKS</td>\n",
       "      <td>-1</td>\n",
       "      <td>2018-11-29 09:49:00</td>\n",
       "      <td>4.65</td>\n",
       "      <td>15311.0</td>\n",
       "      <td>2018-11-29</td>\n",
       "    </tr>\n",
       "    <tr>\n",
       "      <th>235</th>\n",
       "      <td>C536391</td>\n",
       "      <td>22556</td>\n",
       "      <td>PLASTERS IN TIN CIRCUS PARADE</td>\n",
       "      <td>-12</td>\n",
       "      <td>2018-11-29 10:24:00</td>\n",
       "      <td>1.65</td>\n",
       "      <td>17548.0</td>\n",
       "      <td>2018-11-29</td>\n",
       "    </tr>\n",
       "    <tr>\n",
       "      <th>236</th>\n",
       "      <td>C536391</td>\n",
       "      <td>21984</td>\n",
       "      <td>PACK OF 12 PINK PAISLEY TISSUES</td>\n",
       "      <td>-24</td>\n",
       "      <td>2018-11-29 10:24:00</td>\n",
       "      <td>0.29</td>\n",
       "      <td>17548.0</td>\n",
       "      <td>2018-11-29</td>\n",
       "    </tr>\n",
       "    <tr>\n",
       "      <th>237</th>\n",
       "      <td>C536391</td>\n",
       "      <td>21983</td>\n",
       "      <td>PACK OF 12 BLUE PAISLEY TISSUES</td>\n",
       "      <td>-24</td>\n",
       "      <td>2018-11-29 10:24:00</td>\n",
       "      <td>0.29</td>\n",
       "      <td>17548.0</td>\n",
       "      <td>2018-11-29</td>\n",
       "    </tr>\n",
       "    <tr>\n",
       "      <th>...</th>\n",
       "      <td>...</td>\n",
       "      <td>...</td>\n",
       "      <td>...</td>\n",
       "      <td>...</td>\n",
       "      <td>...</td>\n",
       "      <td>...</td>\n",
       "      <td>...</td>\n",
       "      <td>...</td>\n",
       "    </tr>\n",
       "    <tr>\n",
       "      <th>540449</th>\n",
       "      <td>C581490</td>\n",
       "      <td>23144</td>\n",
       "      <td>ZINC T-LIGHT HOLDER STARS SMALL</td>\n",
       "      <td>-11</td>\n",
       "      <td>2019-12-07 09:57:00</td>\n",
       "      <td>0.83</td>\n",
       "      <td>14397.0</td>\n",
       "      <td>2019-12-07</td>\n",
       "    </tr>\n",
       "    <tr>\n",
       "      <th>541541</th>\n",
       "      <td>C581499</td>\n",
       "      <td>M</td>\n",
       "      <td>Manual</td>\n",
       "      <td>-1</td>\n",
       "      <td>2019-12-07 10:28:00</td>\n",
       "      <td>224.69</td>\n",
       "      <td>15498.0</td>\n",
       "      <td>2019-12-07</td>\n",
       "    </tr>\n",
       "    <tr>\n",
       "      <th>541715</th>\n",
       "      <td>C581568</td>\n",
       "      <td>21258</td>\n",
       "      <td>VICTORIAN SEWING BOX LARGE</td>\n",
       "      <td>-5</td>\n",
       "      <td>2019-12-07 11:57:00</td>\n",
       "      <td>10.95</td>\n",
       "      <td>15311.0</td>\n",
       "      <td>2019-12-07</td>\n",
       "    </tr>\n",
       "    <tr>\n",
       "      <th>541716</th>\n",
       "      <td>C581569</td>\n",
       "      <td>84978</td>\n",
       "      <td>HANGING HEART JAR T-LIGHT HOLDER</td>\n",
       "      <td>-1</td>\n",
       "      <td>2019-12-07 11:58:00</td>\n",
       "      <td>1.25</td>\n",
       "      <td>17315.0</td>\n",
       "      <td>2019-12-07</td>\n",
       "    </tr>\n",
       "    <tr>\n",
       "      <th>541717</th>\n",
       "      <td>C581569</td>\n",
       "      <td>20979</td>\n",
       "      <td>36 PENCILS TUBE RED RETROSPOT</td>\n",
       "      <td>-5</td>\n",
       "      <td>2019-12-07 11:58:00</td>\n",
       "      <td>1.25</td>\n",
       "      <td>17315.0</td>\n",
       "      <td>2019-12-07</td>\n",
       "    </tr>\n",
       "  </tbody>\n",
       "</table>\n",
       "<p>9762 rows × 8 columns</p>\n",
       "</div>"
      ],
      "text/plain": [
       "       invoiceno stockcode                       description  quantity  \\\n",
       "141      C536379         D                          Discount        -1   \n",
       "154      C536383    35004C   SET OF 3 COLOURED  FLYING DUCKS        -1   \n",
       "235      C536391     22556    PLASTERS IN TIN CIRCUS PARADE        -12   \n",
       "236      C536391     21984  PACK OF 12 PINK PAISLEY TISSUES        -24   \n",
       "237      C536391     21983  PACK OF 12 BLUE PAISLEY TISSUES        -24   \n",
       "...          ...       ...                               ...       ...   \n",
       "540449   C581490     23144   ZINC T-LIGHT HOLDER STARS SMALL       -11   \n",
       "541541   C581499         M                            Manual        -1   \n",
       "541715   C581568     21258        VICTORIAN SEWING BOX LARGE        -5   \n",
       "541716   C581569     84978  HANGING HEART JAR T-LIGHT HOLDER        -1   \n",
       "541717   C581569     20979     36 PENCILS TUBE RED RETROSPOT        -5   \n",
       "\n",
       "               invoicedate  unitprice  customerid       date  \n",
       "141    2018-11-29 09:41:00      27.50     14527.0 2018-11-29  \n",
       "154    2018-11-29 09:49:00       4.65     15311.0 2018-11-29  \n",
       "235    2018-11-29 10:24:00       1.65     17548.0 2018-11-29  \n",
       "236    2018-11-29 10:24:00       0.29     17548.0 2018-11-29  \n",
       "237    2018-11-29 10:24:00       0.29     17548.0 2018-11-29  \n",
       "...                    ...        ...         ...        ...  \n",
       "540449 2019-12-07 09:57:00       0.83     14397.0 2019-12-07  \n",
       "541541 2019-12-07 10:28:00     224.69     15498.0 2019-12-07  \n",
       "541715 2019-12-07 11:57:00      10.95     15311.0 2019-12-07  \n",
       "541716 2019-12-07 11:58:00       1.25     17315.0 2019-12-07  \n",
       "541717 2019-12-07 11:58:00       1.25     17315.0 2019-12-07  \n",
       "\n",
       "[9762 rows x 8 columns]"
      ]
     },
     "execution_count": 19,
     "metadata": {},
     "output_type": "execute_result"
    }
   ],
   "source": [
    "#check how many data we have with negative values in quantity column\n",
    "df_minus=df_clean[df_clean['quantity']<0]\n",
    "df_minus"
   ]
  },
  {
   "cell_type": "markdown",
   "id": "7501cd0f",
   "metadata": {},
   "source": [
    "we have 9762 rows with negative quantity of purchased items, it can be a mistake, or maybe we sold it but with positive value, or maybe its a returned items. any way its small amount of orders, we can cut it off."
   ]
  },
  {
   "cell_type": "code",
   "execution_count": 20,
   "id": "9254787b",
   "metadata": {},
   "outputs": [
    {
     "data": {
      "text/html": [
       "<div>\n",
       "<style scoped>\n",
       "    .dataframe tbody tr th:only-of-type {\n",
       "        vertical-align: middle;\n",
       "    }\n",
       "\n",
       "    .dataframe tbody tr th {\n",
       "        vertical-align: top;\n",
       "    }\n",
       "\n",
       "    .dataframe thead th {\n",
       "        text-align: right;\n",
       "    }\n",
       "</style>\n",
       "<table border=\"1\" class=\"dataframe\">\n",
       "  <thead>\n",
       "    <tr style=\"text-align: right;\">\n",
       "      <th></th>\n",
       "      <th>invoiceno</th>\n",
       "      <th>stockcode</th>\n",
       "      <th>description</th>\n",
       "      <th>quantity</th>\n",
       "      <th>invoicedate</th>\n",
       "      <th>unitprice</th>\n",
       "      <th>customerid</th>\n",
       "      <th>date</th>\n",
       "    </tr>\n",
       "  </thead>\n",
       "  <tbody>\n",
       "    <tr>\n",
       "      <th>0</th>\n",
       "      <td>536365</td>\n",
       "      <td>85123A</td>\n",
       "      <td>WHITE HANGING HEART T-LIGHT HOLDER</td>\n",
       "      <td>6</td>\n",
       "      <td>2018-11-29 08:26:00</td>\n",
       "      <td>2.55</td>\n",
       "      <td>17850.0</td>\n",
       "      <td>2018-11-29</td>\n",
       "    </tr>\n",
       "    <tr>\n",
       "      <th>1</th>\n",
       "      <td>536365</td>\n",
       "      <td>71053</td>\n",
       "      <td>WHITE METAL LANTERN</td>\n",
       "      <td>6</td>\n",
       "      <td>2018-11-29 08:26:00</td>\n",
       "      <td>3.39</td>\n",
       "      <td>17850.0</td>\n",
       "      <td>2018-11-29</td>\n",
       "    </tr>\n",
       "    <tr>\n",
       "      <th>2</th>\n",
       "      <td>536365</td>\n",
       "      <td>84406B</td>\n",
       "      <td>CREAM CUPID HEARTS COAT HANGER</td>\n",
       "      <td>8</td>\n",
       "      <td>2018-11-29 08:26:00</td>\n",
       "      <td>2.75</td>\n",
       "      <td>17850.0</td>\n",
       "      <td>2018-11-29</td>\n",
       "    </tr>\n",
       "    <tr>\n",
       "      <th>3</th>\n",
       "      <td>536365</td>\n",
       "      <td>84029G</td>\n",
       "      <td>KNITTED UNION FLAG HOT WATER BOTTLE</td>\n",
       "      <td>6</td>\n",
       "      <td>2018-11-29 08:26:00</td>\n",
       "      <td>3.39</td>\n",
       "      <td>17850.0</td>\n",
       "      <td>2018-11-29</td>\n",
       "    </tr>\n",
       "    <tr>\n",
       "      <th>4</th>\n",
       "      <td>536365</td>\n",
       "      <td>84029E</td>\n",
       "      <td>RED WOOLLY HOTTIE WHITE HEART.</td>\n",
       "      <td>6</td>\n",
       "      <td>2018-11-29 08:26:00</td>\n",
       "      <td>3.39</td>\n",
       "      <td>17850.0</td>\n",
       "      <td>2018-11-29</td>\n",
       "    </tr>\n",
       "    <tr>\n",
       "      <th>...</th>\n",
       "      <td>...</td>\n",
       "      <td>...</td>\n",
       "      <td>...</td>\n",
       "      <td>...</td>\n",
       "      <td>...</td>\n",
       "      <td>...</td>\n",
       "      <td>...</td>\n",
       "      <td>...</td>\n",
       "    </tr>\n",
       "    <tr>\n",
       "      <th>541904</th>\n",
       "      <td>581587</td>\n",
       "      <td>22613</td>\n",
       "      <td>PACK OF 20 SPACEBOY NAPKINS</td>\n",
       "      <td>12</td>\n",
       "      <td>2019-12-07 12:50:00</td>\n",
       "      <td>0.85</td>\n",
       "      <td>12680.0</td>\n",
       "      <td>2019-12-07</td>\n",
       "    </tr>\n",
       "    <tr>\n",
       "      <th>541905</th>\n",
       "      <td>581587</td>\n",
       "      <td>22899</td>\n",
       "      <td>CHILDREN'S APRON DOLLY GIRL</td>\n",
       "      <td>6</td>\n",
       "      <td>2019-12-07 12:50:00</td>\n",
       "      <td>2.10</td>\n",
       "      <td>12680.0</td>\n",
       "      <td>2019-12-07</td>\n",
       "    </tr>\n",
       "    <tr>\n",
       "      <th>541906</th>\n",
       "      <td>581587</td>\n",
       "      <td>23254</td>\n",
       "      <td>CHILDRENS CUTLERY DOLLY GIRL</td>\n",
       "      <td>4</td>\n",
       "      <td>2019-12-07 12:50:00</td>\n",
       "      <td>4.15</td>\n",
       "      <td>12680.0</td>\n",
       "      <td>2019-12-07</td>\n",
       "    </tr>\n",
       "    <tr>\n",
       "      <th>541907</th>\n",
       "      <td>581587</td>\n",
       "      <td>23255</td>\n",
       "      <td>CHILDRENS CUTLERY CIRCUS PARADE</td>\n",
       "      <td>4</td>\n",
       "      <td>2019-12-07 12:50:00</td>\n",
       "      <td>4.15</td>\n",
       "      <td>12680.0</td>\n",
       "      <td>2019-12-07</td>\n",
       "    </tr>\n",
       "    <tr>\n",
       "      <th>541908</th>\n",
       "      <td>581587</td>\n",
       "      <td>22138</td>\n",
       "      <td>BAKING SET 9 PIECE RETROSPOT</td>\n",
       "      <td>3</td>\n",
       "      <td>2019-12-07 12:50:00</td>\n",
       "      <td>4.95</td>\n",
       "      <td>12680.0</td>\n",
       "      <td>2019-12-07</td>\n",
       "    </tr>\n",
       "  </tbody>\n",
       "</table>\n",
       "<p>530691 rows × 8 columns</p>\n",
       "</div>"
      ],
      "text/plain": [
       "       invoiceno stockcode                          description  quantity  \\\n",
       "0         536365    85123A   WHITE HANGING HEART T-LIGHT HOLDER         6   \n",
       "1         536365     71053                  WHITE METAL LANTERN         6   \n",
       "2         536365    84406B       CREAM CUPID HEARTS COAT HANGER         8   \n",
       "3         536365    84029G  KNITTED UNION FLAG HOT WATER BOTTLE         6   \n",
       "4         536365    84029E       RED WOOLLY HOTTIE WHITE HEART.         6   \n",
       "...          ...       ...                                  ...       ...   \n",
       "541904    581587     22613          PACK OF 20 SPACEBOY NAPKINS        12   \n",
       "541905    581587     22899         CHILDREN'S APRON DOLLY GIRL          6   \n",
       "541906    581587     23254        CHILDRENS CUTLERY DOLLY GIRL          4   \n",
       "541907    581587     23255      CHILDRENS CUTLERY CIRCUS PARADE         4   \n",
       "541908    581587     22138        BAKING SET 9 PIECE RETROSPOT          3   \n",
       "\n",
       "               invoicedate  unitprice  customerid       date  \n",
       "0      2018-11-29 08:26:00       2.55     17850.0 2018-11-29  \n",
       "1      2018-11-29 08:26:00       3.39     17850.0 2018-11-29  \n",
       "2      2018-11-29 08:26:00       2.75     17850.0 2018-11-29  \n",
       "3      2018-11-29 08:26:00       3.39     17850.0 2018-11-29  \n",
       "4      2018-11-29 08:26:00       3.39     17850.0 2018-11-29  \n",
       "...                    ...        ...         ...        ...  \n",
       "541904 2019-12-07 12:50:00       0.85     12680.0 2019-12-07  \n",
       "541905 2019-12-07 12:50:00       2.10     12680.0 2019-12-07  \n",
       "541906 2019-12-07 12:50:00       4.15     12680.0 2019-12-07  \n",
       "541907 2019-12-07 12:50:00       4.15     12680.0 2019-12-07  \n",
       "541908 2019-12-07 12:50:00       4.95     12680.0 2019-12-07  \n",
       "\n",
       "[530691 rows x 8 columns]"
      ]
     },
     "execution_count": 20,
     "metadata": {},
     "output_type": "execute_result"
    }
   ],
   "source": [
    "#drop quantity with minus values\n",
    "df_clean= df_clean[~df_clean['quantity'].isin(df_minus['quantity'])]\n",
    "df_clean"
   ]
  },
  {
   "cell_type": "code",
   "execution_count": 21,
   "id": "394220dc",
   "metadata": {},
   "outputs": [
    {
     "data": {
      "text/plain": [
       "1        148099\n",
       "2         81763\n",
       "12        61049\n",
       "6         40846\n",
       "4         38461\n",
       "          ...  \n",
       "142           1\n",
       "261           1\n",
       "648           1\n",
       "74215         1\n",
       "80995         1\n",
       "Name: quantity, Length: 383, dtype: int64"
      ]
     },
     "execution_count": 21,
     "metadata": {},
     "output_type": "execute_result"
    }
   ],
   "source": [
    "#lets investigate quantity with abnormal values\n",
    "df_clean['quantity'].value_counts()"
   ]
  },
  {
   "cell_type": "markdown",
   "id": "4256c10c",
   "metadata": {},
   "source": [
    "items that was bought 74215 and 80995 times look like abnormal, lets see on it in data frame"
   ]
  },
  {
   "cell_type": "code",
   "execution_count": 22,
   "id": "c39a7ec8",
   "metadata": {},
   "outputs": [
    {
     "data": {
      "text/html": [
       "<div>\n",
       "<style scoped>\n",
       "    .dataframe tbody tr th:only-of-type {\n",
       "        vertical-align: middle;\n",
       "    }\n",
       "\n",
       "    .dataframe tbody tr th {\n",
       "        vertical-align: top;\n",
       "    }\n",
       "\n",
       "    .dataframe thead th {\n",
       "        text-align: right;\n",
       "    }\n",
       "</style>\n",
       "<table border=\"1\" class=\"dataframe\">\n",
       "  <thead>\n",
       "    <tr style=\"text-align: right;\">\n",
       "      <th></th>\n",
       "      <th>invoiceno</th>\n",
       "      <th>stockcode</th>\n",
       "      <th>description</th>\n",
       "      <th>quantity</th>\n",
       "      <th>invoicedate</th>\n",
       "      <th>unitprice</th>\n",
       "      <th>customerid</th>\n",
       "      <th>date</th>\n",
       "    </tr>\n",
       "  </thead>\n",
       "  <tbody>\n",
       "    <tr>\n",
       "      <th>540421</th>\n",
       "      <td>581483</td>\n",
       "      <td>23843</td>\n",
       "      <td>PAPER CRAFT , LITTLE BIRDIE</td>\n",
       "      <td>80995</td>\n",
       "      <td>2019-12-07 09:15:00</td>\n",
       "      <td>2.08</td>\n",
       "      <td>16446.0</td>\n",
       "      <td>2019-12-07</td>\n",
       "    </tr>\n",
       "    <tr>\n",
       "      <th>61619</th>\n",
       "      <td>541431</td>\n",
       "      <td>23166</td>\n",
       "      <td>MEDIUM CERAMIC TOP STORAGE JAR</td>\n",
       "      <td>74215</td>\n",
       "      <td>2019-01-16 10:01:00</td>\n",
       "      <td>1.04</td>\n",
       "      <td>12346.0</td>\n",
       "      <td>2019-01-16</td>\n",
       "    </tr>\n",
       "    <tr>\n",
       "      <th>502122</th>\n",
       "      <td>578841</td>\n",
       "      <td>84826</td>\n",
       "      <td>ASSTD DESIGN 3D PAPER STICKERS</td>\n",
       "      <td>12540</td>\n",
       "      <td>2019-11-23 15:57:00</td>\n",
       "      <td>0.00</td>\n",
       "      <td>13256.0</td>\n",
       "      <td>2019-11-23</td>\n",
       "    </tr>\n",
       "    <tr>\n",
       "      <th>421632</th>\n",
       "      <td>573008</td>\n",
       "      <td>84077</td>\n",
       "      <td>WORLD WAR 2 GLIDERS ASSTD DESIGNS</td>\n",
       "      <td>4800</td>\n",
       "      <td>2019-10-25 12:26:00</td>\n",
       "      <td>0.21</td>\n",
       "      <td>12901.0</td>\n",
       "      <td>2019-10-25</td>\n",
       "    </tr>\n",
       "    <tr>\n",
       "      <th>206121</th>\n",
       "      <td>554868</td>\n",
       "      <td>22197</td>\n",
       "      <td>SMALL POPCORN HOLDER</td>\n",
       "      <td>4300</td>\n",
       "      <td>2019-05-25 10:52:00</td>\n",
       "      <td>0.72</td>\n",
       "      <td>13135.0</td>\n",
       "      <td>2019-05-25</td>\n",
       "    </tr>\n",
       "    <tr>\n",
       "      <th>...</th>\n",
       "      <td>...</td>\n",
       "      <td>...</td>\n",
       "      <td>...</td>\n",
       "      <td>...</td>\n",
       "      <td>...</td>\n",
       "      <td>...</td>\n",
       "      <td>...</td>\n",
       "      <td>...</td>\n",
       "    </tr>\n",
       "    <tr>\n",
       "      <th>395604</th>\n",
       "      <td>571039</td>\n",
       "      <td>21591</td>\n",
       "      <td>COSY HOUR CIGAR BOX MATCHES</td>\n",
       "      <td>1</td>\n",
       "      <td>2019-10-11 12:59:00</td>\n",
       "      <td>1.25</td>\n",
       "      <td>16121.0</td>\n",
       "      <td>2019-10-11</td>\n",
       "    </tr>\n",
       "    <tr>\n",
       "      <th>151420</th>\n",
       "      <td>549555</td>\n",
       "      <td>20971</td>\n",
       "      <td>PINK BLUE FELT CRAFT TRINKET BOX</td>\n",
       "      <td>1</td>\n",
       "      <td>2019-04-08 12:52:00</td>\n",
       "      <td>1.25</td>\n",
       "      <td>13606.0</td>\n",
       "      <td>2019-04-08</td>\n",
       "    </tr>\n",
       "    <tr>\n",
       "      <th>151419</th>\n",
       "      <td>549555</td>\n",
       "      <td>20972</td>\n",
       "      <td>PINK CREAM FELT CRAFT TRINKET BOX</td>\n",
       "      <td>1</td>\n",
       "      <td>2019-04-08 12:52:00</td>\n",
       "      <td>1.25</td>\n",
       "      <td>13606.0</td>\n",
       "      <td>2019-04-08</td>\n",
       "    </tr>\n",
       "    <tr>\n",
       "      <th>151417</th>\n",
       "      <td>549555</td>\n",
       "      <td>22604</td>\n",
       "      <td>SET OF 4 NAPKIN CHARMS CUTLERY</td>\n",
       "      <td>1</td>\n",
       "      <td>2019-04-08 12:52:00</td>\n",
       "      <td>2.55</td>\n",
       "      <td>13606.0</td>\n",
       "      <td>2019-04-08</td>\n",
       "    </tr>\n",
       "    <tr>\n",
       "      <th>271494</th>\n",
       "      <td>560696</td>\n",
       "      <td>22380</td>\n",
       "      <td>TOY TIDY SPACEBOY</td>\n",
       "      <td>1</td>\n",
       "      <td>2019-07-18 12:14:00</td>\n",
       "      <td>2.10</td>\n",
       "      <td>14606.0</td>\n",
       "      <td>2019-07-18</td>\n",
       "    </tr>\n",
       "  </tbody>\n",
       "</table>\n",
       "<p>530691 rows × 8 columns</p>\n",
       "</div>"
      ],
      "text/plain": [
       "       invoiceno stockcode                         description  quantity  \\\n",
       "540421    581483     23843         PAPER CRAFT , LITTLE BIRDIE     80995   \n",
       "61619     541431     23166      MEDIUM CERAMIC TOP STORAGE JAR     74215   \n",
       "502122    578841     84826      ASSTD DESIGN 3D PAPER STICKERS     12540   \n",
       "421632    573008     84077   WORLD WAR 2 GLIDERS ASSTD DESIGNS      4800   \n",
       "206121    554868     22197                SMALL POPCORN HOLDER      4300   \n",
       "...          ...       ...                                 ...       ...   \n",
       "395604    571039     21591        COSY HOUR CIGAR BOX MATCHES          1   \n",
       "151420    549555     20971    PINK BLUE FELT CRAFT TRINKET BOX         1   \n",
       "151419    549555     20972  PINK CREAM FELT CRAFT TRINKET BOX          1   \n",
       "151417    549555     22604      SET OF 4 NAPKIN CHARMS CUTLERY         1   \n",
       "271494    560696     22380                 TOY TIDY SPACEBOY           1   \n",
       "\n",
       "               invoicedate  unitprice  customerid       date  \n",
       "540421 2019-12-07 09:15:00       2.08     16446.0 2019-12-07  \n",
       "61619  2019-01-16 10:01:00       1.04     12346.0 2019-01-16  \n",
       "502122 2019-11-23 15:57:00       0.00     13256.0 2019-11-23  \n",
       "421632 2019-10-25 12:26:00       0.21     12901.0 2019-10-25  \n",
       "206121 2019-05-25 10:52:00       0.72     13135.0 2019-05-25  \n",
       "...                    ...        ...         ...        ...  \n",
       "395604 2019-10-11 12:59:00       1.25     16121.0 2019-10-11  \n",
       "151420 2019-04-08 12:52:00       1.25     13606.0 2019-04-08  \n",
       "151419 2019-04-08 12:52:00       1.25     13606.0 2019-04-08  \n",
       "151417 2019-04-08 12:52:00       2.55     13606.0 2019-04-08  \n",
       "271494 2019-07-18 12:14:00       2.10     14606.0 2019-07-18  \n",
       "\n",
       "[530691 rows x 8 columns]"
      ]
     },
     "execution_count": 22,
     "metadata": {},
     "output_type": "execute_result"
    }
   ],
   "source": [
    "df_clean.sort_values(by='quantity', ascending=False)"
   ]
  },
  {
   "cell_type": "code",
   "execution_count": 23,
   "id": "e44004d0",
   "metadata": {
    "scrolled": false
   },
   "outputs": [
    {
     "data": {
      "text/html": [
       "<div>\n",
       "<style scoped>\n",
       "    .dataframe tbody tr th:only-of-type {\n",
       "        vertical-align: middle;\n",
       "    }\n",
       "\n",
       "    .dataframe tbody tr th {\n",
       "        vertical-align: top;\n",
       "    }\n",
       "\n",
       "    .dataframe thead th {\n",
       "        text-align: right;\n",
       "    }\n",
       "</style>\n",
       "<table border=\"1\" class=\"dataframe\">\n",
       "  <thead>\n",
       "    <tr style=\"text-align: right;\">\n",
       "      <th></th>\n",
       "      <th>invoiceno</th>\n",
       "      <th>stockcode</th>\n",
       "      <th>description</th>\n",
       "      <th>quantity</th>\n",
       "      <th>invoicedate</th>\n",
       "      <th>unitprice</th>\n",
       "      <th>customerid</th>\n",
       "      <th>date</th>\n",
       "    </tr>\n",
       "  </thead>\n",
       "  <tbody>\n",
       "    <tr>\n",
       "      <th>61619</th>\n",
       "      <td>541431</td>\n",
       "      <td>23166</td>\n",
       "      <td>MEDIUM CERAMIC TOP STORAGE JAR</td>\n",
       "      <td>74215</td>\n",
       "      <td>2019-01-16 10:01:00</td>\n",
       "      <td>1.04</td>\n",
       "      <td>12346.0</td>\n",
       "      <td>2019-01-16</td>\n",
       "    </tr>\n",
       "    <tr>\n",
       "      <th>186770</th>\n",
       "      <td>552882</td>\n",
       "      <td>23166</td>\n",
       "      <td>MEDIUM CERAMIC TOP STORAGE JAR</td>\n",
       "      <td>96</td>\n",
       "      <td>2019-05-10 10:10:00</td>\n",
       "      <td>1.04</td>\n",
       "      <td>14646.0</td>\n",
       "      <td>2019-05-10</td>\n",
       "    </tr>\n",
       "    <tr>\n",
       "      <th>187196</th>\n",
       "      <td>552953</td>\n",
       "      <td>23166</td>\n",
       "      <td>MEDIUM CERAMIC TOP STORAGE JAR</td>\n",
       "      <td>4</td>\n",
       "      <td>2019-05-10 12:11:00</td>\n",
       "      <td>1.25</td>\n",
       "      <td>16745.0</td>\n",
       "      <td>2019-05-10</td>\n",
       "    </tr>\n",
       "    <tr>\n",
       "      <th>187718</th>\n",
       "      <td>553005</td>\n",
       "      <td>23166</td>\n",
       "      <td>MEDIUM CERAMIC TOP STORAGE JAR</td>\n",
       "      <td>5</td>\n",
       "      <td>2019-05-10 16:29:00</td>\n",
       "      <td>1.25</td>\n",
       "      <td>14651.0</td>\n",
       "      <td>2019-05-10</td>\n",
       "    </tr>\n",
       "    <tr>\n",
       "      <th>187868</th>\n",
       "      <td>553009</td>\n",
       "      <td>23166</td>\n",
       "      <td>MEDIUM CERAMIC TOP STORAGE JAR</td>\n",
       "      <td>3</td>\n",
       "      <td>2019-05-10 16:52:00</td>\n",
       "      <td>1.25</td>\n",
       "      <td>13601.0</td>\n",
       "      <td>2019-05-10</td>\n",
       "    </tr>\n",
       "    <tr>\n",
       "      <th>...</th>\n",
       "      <td>...</td>\n",
       "      <td>...</td>\n",
       "      <td>...</td>\n",
       "      <td>...</td>\n",
       "      <td>...</td>\n",
       "      <td>...</td>\n",
       "      <td>...</td>\n",
       "      <td>...</td>\n",
       "    </tr>\n",
       "    <tr>\n",
       "      <th>533742</th>\n",
       "      <td>581108</td>\n",
       "      <td>23166</td>\n",
       "      <td>MEDIUM CERAMIC TOP STORAGE JAR</td>\n",
       "      <td>2</td>\n",
       "      <td>2019-12-05 12:16:00</td>\n",
       "      <td>1.25</td>\n",
       "      <td>15984.0</td>\n",
       "      <td>2019-12-05</td>\n",
       "    </tr>\n",
       "    <tr>\n",
       "      <th>536248</th>\n",
       "      <td>581219</td>\n",
       "      <td>23166</td>\n",
       "      <td>MEDIUM CERAMIC TOP STORAGE JAR</td>\n",
       "      <td>1</td>\n",
       "      <td>2019-12-06 09:28:00</td>\n",
       "      <td>2.46</td>\n",
       "      <td>NaN</td>\n",
       "      <td>2019-12-06</td>\n",
       "    </tr>\n",
       "    <tr>\n",
       "      <th>539776</th>\n",
       "      <td>581439</td>\n",
       "      <td>23166</td>\n",
       "      <td>MEDIUM CERAMIC TOP STORAGE JAR</td>\n",
       "      <td>2</td>\n",
       "      <td>2019-12-06 16:30:00</td>\n",
       "      <td>2.46</td>\n",
       "      <td>NaN</td>\n",
       "      <td>2019-12-06</td>\n",
       "    </tr>\n",
       "    <tr>\n",
       "      <th>540301</th>\n",
       "      <td>581476</td>\n",
       "      <td>23166</td>\n",
       "      <td>MEDIUM CERAMIC TOP STORAGE JAR</td>\n",
       "      <td>48</td>\n",
       "      <td>2019-12-07 08:48:00</td>\n",
       "      <td>1.04</td>\n",
       "      <td>12433.0</td>\n",
       "      <td>2019-12-07</td>\n",
       "    </tr>\n",
       "    <tr>\n",
       "      <th>541101</th>\n",
       "      <td>581492</td>\n",
       "      <td>23166</td>\n",
       "      <td>MEDIUM CERAMIC TOP STORAGE JAR</td>\n",
       "      <td>2</td>\n",
       "      <td>2019-12-07 10:03:00</td>\n",
       "      <td>2.46</td>\n",
       "      <td>NaN</td>\n",
       "      <td>2019-12-07</td>\n",
       "    </tr>\n",
       "  </tbody>\n",
       "</table>\n",
       "<p>250 rows × 8 columns</p>\n",
       "</div>"
      ],
      "text/plain": [
       "       invoiceno stockcode                     description  quantity  \\\n",
       "61619     541431     23166  MEDIUM CERAMIC TOP STORAGE JAR     74215   \n",
       "186770    552882     23166  MEDIUM CERAMIC TOP STORAGE JAR        96   \n",
       "187196    552953     23166  MEDIUM CERAMIC TOP STORAGE JAR         4   \n",
       "187718    553005     23166  MEDIUM CERAMIC TOP STORAGE JAR         5   \n",
       "187868    553009     23166  MEDIUM CERAMIC TOP STORAGE JAR         3   \n",
       "...          ...       ...                             ...       ...   \n",
       "533742    581108     23166  MEDIUM CERAMIC TOP STORAGE JAR         2   \n",
       "536248    581219     23166  MEDIUM CERAMIC TOP STORAGE JAR         1   \n",
       "539776    581439     23166  MEDIUM CERAMIC TOP STORAGE JAR         2   \n",
       "540301    581476     23166  MEDIUM CERAMIC TOP STORAGE JAR        48   \n",
       "541101    581492     23166  MEDIUM CERAMIC TOP STORAGE JAR         2   \n",
       "\n",
       "               invoicedate  unitprice  customerid       date  \n",
       "61619  2019-01-16 10:01:00       1.04     12346.0 2019-01-16  \n",
       "186770 2019-05-10 10:10:00       1.04     14646.0 2019-05-10  \n",
       "187196 2019-05-10 12:11:00       1.25     16745.0 2019-05-10  \n",
       "187718 2019-05-10 16:29:00       1.25     14651.0 2019-05-10  \n",
       "187868 2019-05-10 16:52:00       1.25     13601.0 2019-05-10  \n",
       "...                    ...        ...         ...        ...  \n",
       "533742 2019-12-05 12:16:00       1.25     15984.0 2019-12-05  \n",
       "536248 2019-12-06 09:28:00       2.46         NaN 2019-12-06  \n",
       "539776 2019-12-06 16:30:00       2.46         NaN 2019-12-06  \n",
       "540301 2019-12-07 08:48:00       1.04     12433.0 2019-12-07  \n",
       "541101 2019-12-07 10:03:00       2.46         NaN 2019-12-07  \n",
       "\n",
       "[250 rows x 8 columns]"
      ]
     },
     "execution_count": 23,
     "metadata": {},
     "output_type": "execute_result"
    }
   ],
   "source": [
    "df_clean.query('description == \"MEDIUM CERAMIC TOP STORAGE JAR\"')"
   ]
  },
  {
   "cell_type": "code",
   "execution_count": 24,
   "id": "a0d83727",
   "metadata": {},
   "outputs": [
    {
     "data": {
      "text/html": [
       "<div>\n",
       "<style scoped>\n",
       "    .dataframe tbody tr th:only-of-type {\n",
       "        vertical-align: middle;\n",
       "    }\n",
       "\n",
       "    .dataframe tbody tr th {\n",
       "        vertical-align: top;\n",
       "    }\n",
       "\n",
       "    .dataframe thead th {\n",
       "        text-align: right;\n",
       "    }\n",
       "</style>\n",
       "<table border=\"1\" class=\"dataframe\">\n",
       "  <thead>\n",
       "    <tr style=\"text-align: right;\">\n",
       "      <th></th>\n",
       "      <th>invoiceno</th>\n",
       "      <th>stockcode</th>\n",
       "      <th>description</th>\n",
       "      <th>quantity</th>\n",
       "      <th>invoicedate</th>\n",
       "      <th>unitprice</th>\n",
       "      <th>customerid</th>\n",
       "      <th>date</th>\n",
       "    </tr>\n",
       "  </thead>\n",
       "  <tbody>\n",
       "    <tr>\n",
       "      <th>61619</th>\n",
       "      <td>541431</td>\n",
       "      <td>23166</td>\n",
       "      <td>MEDIUM CERAMIC TOP STORAGE JAR</td>\n",
       "      <td>74215</td>\n",
       "      <td>2019-01-16 10:01:00</td>\n",
       "      <td>1.04</td>\n",
       "      <td>12346.0</td>\n",
       "      <td>2019-01-16</td>\n",
       "    </tr>\n",
       "  </tbody>\n",
       "</table>\n",
       "</div>"
      ],
      "text/plain": [
       "      invoiceno stockcode                     description  quantity  \\\n",
       "61619    541431     23166  MEDIUM CERAMIC TOP STORAGE JAR     74215   \n",
       "\n",
       "              invoicedate  unitprice  customerid       date  \n",
       "61619 2019-01-16 10:01:00       1.04     12346.0 2019-01-16  "
      ]
     },
     "execution_count": 24,
     "metadata": {},
     "output_type": "execute_result"
    }
   ],
   "source": [
    "df_clean.query('customerid == 12346.0')"
   ]
  },
  {
   "cell_type": "markdown",
   "id": "9b2ce2e8",
   "metadata": {},
   "source": [
    "looks like incredible but lets leave it for now."
   ]
  },
  {
   "cell_type": "code",
   "execution_count": 25,
   "id": "db5d76d8",
   "metadata": {},
   "outputs": [
    {
     "data": {
      "text/plain": [
       "stockcode\n",
       "23084     6\n",
       "20713     6\n",
       "23203     4\n",
       "22734     4\n",
       "23196     4\n",
       "21181     4\n",
       "23236     4\n",
       "23131     4\n",
       "23209     4\n",
       "85123A    3\n",
       "Name: description, dtype: int64"
      ]
     },
     "execution_count": 25,
     "metadata": {},
     "output_type": "execute_result"
    }
   ],
   "source": [
    "#lets take a look is every stock code belong to item in description, by logic it should be: one stock code one item.\n",
    "df_clean.groupby('stockcode')['description'].nunique().sort_values(ascending=False).head(10)"
   ]
  },
  {
   "cell_type": "markdown",
   "id": "cc4127f8",
   "metadata": {},
   "source": [
    "not every stock code is one item, lets go deeper and investigate what does it means."
   ]
  },
  {
   "cell_type": "code",
   "execution_count": 26,
   "id": "aab5394d",
   "metadata": {},
   "outputs": [
    {
     "data": {
      "text/plain": [
       "array(['RABBIT NIGHT LIGHT', 'allocate stock for dotcom orders ta',\n",
       "       'add stock to allocate online orders', 'for online retail orders',\n",
       "       'Amazon', 'website fixed'], dtype=object)"
      ]
     },
     "execution_count": 26,
     "metadata": {},
     "output_type": "execute_result"
    }
   ],
   "source": [
    "df_clean.query('stockcode == \"23084\"')['description'].unique()"
   ]
  },
  {
   "cell_type": "code",
   "execution_count": 27,
   "id": "7d868db5",
   "metadata": {},
   "outputs": [
    {
     "data": {
      "text/plain": [
       "array(['JUMBO BAG OWLS', 'found', 'Found', 'wrongly marked 23343',\n",
       "       'Marked as 23343', 'wrongly coded 23343'], dtype=object)"
      ]
     },
     "execution_count": 27,
     "metadata": {},
     "output_type": "execute_result"
    }
   ],
   "source": [
    "df_clean.query('stockcode == \"20713\"')['description'].unique()"
   ]
  },
  {
   "cell_type": "code",
   "execution_count": 28,
   "id": "0db9a7e3",
   "metadata": {},
   "outputs": [
    {
     "data": {
      "text/plain": [
       "array(['mailout', 'JUMBO BAG DOILEY PATTERNS',\n",
       "       'JUMBO BAG VINTAGE DOILEY ', 'JUMBO BAG VINTAGE DOILY '],\n",
       "      dtype=object)"
      ]
     },
     "execution_count": 28,
     "metadata": {},
     "output_type": "execute_result"
    }
   ],
   "source": [
    "df_clean.query('stockcode == \"23203\"')['description'].unique()"
   ]
  },
  {
   "cell_type": "markdown",
   "id": "324004e9",
   "metadata": {},
   "source": [
    "we can see here that in stock code 23084 we have RABBIT NIGHT LIGHT item belong to this code, and the rest items is looks like a trash :)<br>\n",
    "also we can see that all the items are written with capital letters, so we can drop all rows where we have non capital letters in description column."
   ]
  },
  {
   "cell_type": "code",
   "execution_count": 29,
   "id": "0c689b4f",
   "metadata": {},
   "outputs": [
    {
     "data": {
      "text/html": [
       "<div>\n",
       "<style scoped>\n",
       "    .dataframe tbody tr th:only-of-type {\n",
       "        vertical-align: middle;\n",
       "    }\n",
       "\n",
       "    .dataframe tbody tr th {\n",
       "        vertical-align: top;\n",
       "    }\n",
       "\n",
       "    .dataframe thead th {\n",
       "        text-align: right;\n",
       "    }\n",
       "</style>\n",
       "<table border=\"1\" class=\"dataframe\">\n",
       "  <thead>\n",
       "    <tr style=\"text-align: right;\">\n",
       "      <th></th>\n",
       "      <th>invoiceno</th>\n",
       "      <th>stockcode</th>\n",
       "      <th>description</th>\n",
       "      <th>quantity</th>\n",
       "      <th>invoicedate</th>\n",
       "      <th>unitprice</th>\n",
       "      <th>customerid</th>\n",
       "      <th>date</th>\n",
       "    </tr>\n",
       "  </thead>\n",
       "  <tbody>\n",
       "    <tr>\n",
       "      <th>0</th>\n",
       "      <td>536365</td>\n",
       "      <td>85123A</td>\n",
       "      <td>WHITE HANGING HEART T-LIGHT HOLDER</td>\n",
       "      <td>6</td>\n",
       "      <td>2018-11-29 08:26:00</td>\n",
       "      <td>2.55</td>\n",
       "      <td>17850.0</td>\n",
       "      <td>2018-11-29</td>\n",
       "    </tr>\n",
       "    <tr>\n",
       "      <th>1</th>\n",
       "      <td>536365</td>\n",
       "      <td>71053</td>\n",
       "      <td>WHITE METAL LANTERN</td>\n",
       "      <td>6</td>\n",
       "      <td>2018-11-29 08:26:00</td>\n",
       "      <td>3.39</td>\n",
       "      <td>17850.0</td>\n",
       "      <td>2018-11-29</td>\n",
       "    </tr>\n",
       "    <tr>\n",
       "      <th>2</th>\n",
       "      <td>536365</td>\n",
       "      <td>84406B</td>\n",
       "      <td>CREAM CUPID HEARTS COAT HANGER</td>\n",
       "      <td>8</td>\n",
       "      <td>2018-11-29 08:26:00</td>\n",
       "      <td>2.75</td>\n",
       "      <td>17850.0</td>\n",
       "      <td>2018-11-29</td>\n",
       "    </tr>\n",
       "    <tr>\n",
       "      <th>3</th>\n",
       "      <td>536365</td>\n",
       "      <td>84029G</td>\n",
       "      <td>KNITTED UNION FLAG HOT WATER BOTTLE</td>\n",
       "      <td>6</td>\n",
       "      <td>2018-11-29 08:26:00</td>\n",
       "      <td>3.39</td>\n",
       "      <td>17850.0</td>\n",
       "      <td>2018-11-29</td>\n",
       "    </tr>\n",
       "    <tr>\n",
       "      <th>4</th>\n",
       "      <td>536365</td>\n",
       "      <td>84029E</td>\n",
       "      <td>RED WOOLLY HOTTIE WHITE HEART.</td>\n",
       "      <td>6</td>\n",
       "      <td>2018-11-29 08:26:00</td>\n",
       "      <td>3.39</td>\n",
       "      <td>17850.0</td>\n",
       "      <td>2018-11-29</td>\n",
       "    </tr>\n",
       "    <tr>\n",
       "      <th>...</th>\n",
       "      <td>...</td>\n",
       "      <td>...</td>\n",
       "      <td>...</td>\n",
       "      <td>...</td>\n",
       "      <td>...</td>\n",
       "      <td>...</td>\n",
       "      <td>...</td>\n",
       "      <td>...</td>\n",
       "    </tr>\n",
       "    <tr>\n",
       "      <th>541904</th>\n",
       "      <td>581587</td>\n",
       "      <td>22613</td>\n",
       "      <td>PACK OF 20 SPACEBOY NAPKINS</td>\n",
       "      <td>12</td>\n",
       "      <td>2019-12-07 12:50:00</td>\n",
       "      <td>0.85</td>\n",
       "      <td>12680.0</td>\n",
       "      <td>2019-12-07</td>\n",
       "    </tr>\n",
       "    <tr>\n",
       "      <th>541905</th>\n",
       "      <td>581587</td>\n",
       "      <td>22899</td>\n",
       "      <td>CHILDREN'S APRON DOLLY GIRL</td>\n",
       "      <td>6</td>\n",
       "      <td>2019-12-07 12:50:00</td>\n",
       "      <td>2.10</td>\n",
       "      <td>12680.0</td>\n",
       "      <td>2019-12-07</td>\n",
       "    </tr>\n",
       "    <tr>\n",
       "      <th>541906</th>\n",
       "      <td>581587</td>\n",
       "      <td>23254</td>\n",
       "      <td>CHILDRENS CUTLERY DOLLY GIRL</td>\n",
       "      <td>4</td>\n",
       "      <td>2019-12-07 12:50:00</td>\n",
       "      <td>4.15</td>\n",
       "      <td>12680.0</td>\n",
       "      <td>2019-12-07</td>\n",
       "    </tr>\n",
       "    <tr>\n",
       "      <th>541907</th>\n",
       "      <td>581587</td>\n",
       "      <td>23255</td>\n",
       "      <td>CHILDRENS CUTLERY CIRCUS PARADE</td>\n",
       "      <td>4</td>\n",
       "      <td>2019-12-07 12:50:00</td>\n",
       "      <td>4.15</td>\n",
       "      <td>12680.0</td>\n",
       "      <td>2019-12-07</td>\n",
       "    </tr>\n",
       "    <tr>\n",
       "      <th>541908</th>\n",
       "      <td>581587</td>\n",
       "      <td>22138</td>\n",
       "      <td>BAKING SET 9 PIECE RETROSPOT</td>\n",
       "      <td>3</td>\n",
       "      <td>2019-12-07 12:50:00</td>\n",
       "      <td>4.95</td>\n",
       "      <td>12680.0</td>\n",
       "      <td>2019-12-07</td>\n",
       "    </tr>\n",
       "  </tbody>\n",
       "</table>\n",
       "<p>530563 rows × 8 columns</p>\n",
       "</div>"
      ],
      "text/plain": [
       "       invoiceno stockcode                          description  quantity  \\\n",
       "0         536365    85123A   WHITE HANGING HEART T-LIGHT HOLDER         6   \n",
       "1         536365     71053                  WHITE METAL LANTERN         6   \n",
       "2         536365    84406B       CREAM CUPID HEARTS COAT HANGER         8   \n",
       "3         536365    84029G  KNITTED UNION FLAG HOT WATER BOTTLE         6   \n",
       "4         536365    84029E       RED WOOLLY HOTTIE WHITE HEART.         6   \n",
       "...          ...       ...                                  ...       ...   \n",
       "541904    581587     22613          PACK OF 20 SPACEBOY NAPKINS        12   \n",
       "541905    581587     22899         CHILDREN'S APRON DOLLY GIRL          6   \n",
       "541906    581587     23254        CHILDRENS CUTLERY DOLLY GIRL          4   \n",
       "541907    581587     23255      CHILDRENS CUTLERY CIRCUS PARADE         4   \n",
       "541908    581587     22138        BAKING SET 9 PIECE RETROSPOT          3   \n",
       "\n",
       "               invoicedate  unitprice  customerid       date  \n",
       "0      2018-11-29 08:26:00       2.55     17850.0 2018-11-29  \n",
       "1      2018-11-29 08:26:00       3.39     17850.0 2018-11-29  \n",
       "2      2018-11-29 08:26:00       2.75     17850.0 2018-11-29  \n",
       "3      2018-11-29 08:26:00       3.39     17850.0 2018-11-29  \n",
       "4      2018-11-29 08:26:00       3.39     17850.0 2018-11-29  \n",
       "...                    ...        ...         ...        ...  \n",
       "541904 2019-12-07 12:50:00       0.85     12680.0 2019-12-07  \n",
       "541905 2019-12-07 12:50:00       2.10     12680.0 2019-12-07  \n",
       "541906 2019-12-07 12:50:00       4.15     12680.0 2019-12-07  \n",
       "541907 2019-12-07 12:50:00       4.15     12680.0 2019-12-07  \n",
       "541908 2019-12-07 12:50:00       4.95     12680.0 2019-12-07  \n",
       "\n",
       "[530563 rows x 8 columns]"
      ]
     },
     "execution_count": 29,
     "metadata": {},
     "output_type": "execute_result"
    }
   ],
   "source": [
    "#drop rows with lowercase item desciption.\n",
    "df_clean = df_clean[~df_clean['description'].str.islower()]\n",
    "df_clean"
   ]
  },
  {
   "cell_type": "code",
   "execution_count": 30,
   "id": "6acdb407",
   "metadata": {},
   "outputs": [
    {
     "data": {
      "text/html": [
       "<div>\n",
       "<style scoped>\n",
       "    .dataframe tbody tr th:only-of-type {\n",
       "        vertical-align: middle;\n",
       "    }\n",
       "\n",
       "    .dataframe tbody tr th {\n",
       "        vertical-align: top;\n",
       "    }\n",
       "\n",
       "    .dataframe thead th {\n",
       "        text-align: right;\n",
       "    }\n",
       "</style>\n",
       "<table border=\"1\" class=\"dataframe\">\n",
       "  <thead>\n",
       "    <tr style=\"text-align: right;\">\n",
       "      <th></th>\n",
       "      <th>invoiceno</th>\n",
       "      <th>stockcode</th>\n",
       "      <th>description</th>\n",
       "      <th>quantity</th>\n",
       "      <th>invoicedate</th>\n",
       "      <th>customerid</th>\n",
       "      <th>date</th>\n",
       "    </tr>\n",
       "    <tr>\n",
       "      <th>unitprice</th>\n",
       "      <th></th>\n",
       "      <th></th>\n",
       "      <th></th>\n",
       "      <th></th>\n",
       "      <th></th>\n",
       "      <th></th>\n",
       "      <th></th>\n",
       "    </tr>\n",
       "  </thead>\n",
       "  <tbody>\n",
       "    <tr>\n",
       "      <th>13541.33</th>\n",
       "      <td>537632</td>\n",
       "      <td>AMAZONFEE</td>\n",
       "      <td>AMAZON FEE</td>\n",
       "      <td>1</td>\n",
       "      <td>2018-12-05 15:08:00</td>\n",
       "      <td>NaN</td>\n",
       "      <td>2018-12-05</td>\n",
       "    </tr>\n",
       "    <tr>\n",
       "      <th>11062.06</th>\n",
       "      <td>A563185</td>\n",
       "      <td>B</td>\n",
       "      <td>Adjust bad debt</td>\n",
       "      <td>1</td>\n",
       "      <td>2019-08-10 14:50:00</td>\n",
       "      <td>NaN</td>\n",
       "      <td>2019-08-10</td>\n",
       "    </tr>\n",
       "    <tr>\n",
       "      <th>8142.75</th>\n",
       "      <td>551697</td>\n",
       "      <td>POST</td>\n",
       "      <td>POSTAGE</td>\n",
       "      <td>1</td>\n",
       "      <td>2019-05-01 13:46:00</td>\n",
       "      <td>16029.0</td>\n",
       "      <td>2019-05-01</td>\n",
       "    </tr>\n",
       "    <tr>\n",
       "      <th>4505.17</th>\n",
       "      <td>562955</td>\n",
       "      <td>DOT</td>\n",
       "      <td>DOTCOM POSTAGE</td>\n",
       "      <td>1</td>\n",
       "      <td>2019-08-09 10:14:00</td>\n",
       "      <td>NaN</td>\n",
       "      <td>2019-08-09</td>\n",
       "    </tr>\n",
       "    <tr>\n",
       "      <th>4287.63</th>\n",
       "      <td>560373</td>\n",
       "      <td>M</td>\n",
       "      <td>Manual</td>\n",
       "      <td>1</td>\n",
       "      <td>2019-07-16 12:30:00</td>\n",
       "      <td>NaN</td>\n",
       "      <td>2019-07-16</td>\n",
       "    </tr>\n",
       "    <tr>\n",
       "      <th>4161.06</th>\n",
       "      <td>573080</td>\n",
       "      <td>M</td>\n",
       "      <td>Manual</td>\n",
       "      <td>1</td>\n",
       "      <td>2019-10-25 14:20:00</td>\n",
       "      <td>12536.0</td>\n",
       "      <td>2019-10-25</td>\n",
       "    </tr>\n",
       "    <tr>\n",
       "      <th>3949.32</th>\n",
       "      <td>571751</td>\n",
       "      <td>M</td>\n",
       "      <td>Manual</td>\n",
       "      <td>1</td>\n",
       "      <td>2019-10-17 11:18:00</td>\n",
       "      <td>12744.0</td>\n",
       "      <td>2019-10-17</td>\n",
       "    </tr>\n",
       "    <tr>\n",
       "      <th>3155.95</th>\n",
       "      <td>569382</td>\n",
       "      <td>M</td>\n",
       "      <td>Manual</td>\n",
       "      <td>1</td>\n",
       "      <td>2019-10-01 16:44:00</td>\n",
       "      <td>15502.0</td>\n",
       "      <td>2019-10-01</td>\n",
       "    </tr>\n",
       "    <tr>\n",
       "      <th>2653.95</th>\n",
       "      <td>567353</td>\n",
       "      <td>M</td>\n",
       "      <td>Manual</td>\n",
       "      <td>1</td>\n",
       "      <td>2019-09-17 16:14:00</td>\n",
       "      <td>NaN</td>\n",
       "      <td>2019-09-17</td>\n",
       "    </tr>\n",
       "    <tr>\n",
       "      <th>2583.76</th>\n",
       "      <td>546558</td>\n",
       "      <td>M</td>\n",
       "      <td>Manual</td>\n",
       "      <td>1</td>\n",
       "      <td>2019-03-13 09:50:00</td>\n",
       "      <td>NaN</td>\n",
       "      <td>2019-03-13</td>\n",
       "    </tr>\n",
       "  </tbody>\n",
       "</table>\n",
       "</div>"
      ],
      "text/plain": [
       "          invoiceno  stockcode      description  quantity         invoicedate  \\\n",
       "unitprice                                                                       \n",
       "13541.33     537632  AMAZONFEE       AMAZON FEE         1 2018-12-05 15:08:00   \n",
       "11062.06    A563185          B  Adjust bad debt         1 2019-08-10 14:50:00   \n",
       "8142.75      551697       POST          POSTAGE         1 2019-05-01 13:46:00   \n",
       "4505.17      562955        DOT   DOTCOM POSTAGE         1 2019-08-09 10:14:00   \n",
       "4287.63      560373          M           Manual         1 2019-07-16 12:30:00   \n",
       "4161.06      573080          M           Manual         1 2019-10-25 14:20:00   \n",
       "3949.32      571751          M           Manual         1 2019-10-17 11:18:00   \n",
       "3155.95      569382          M           Manual         1 2019-10-01 16:44:00   \n",
       "2653.95      567353          M           Manual         1 2019-09-17 16:14:00   \n",
       "2583.76      546558          M           Manual         1 2019-03-13 09:50:00   \n",
       "\n",
       "           customerid       date  \n",
       "unitprice                         \n",
       "13541.33          NaN 2018-12-05  \n",
       "11062.06          NaN 2019-08-10  \n",
       "8142.75       16029.0 2019-05-01  \n",
       "4505.17           NaN 2019-08-09  \n",
       "4287.63           NaN 2019-07-16  \n",
       "4161.06       12536.0 2019-10-25  \n",
       "3949.32       12744.0 2019-10-17  \n",
       "3155.95       15502.0 2019-10-01  \n",
       "2653.95           NaN 2019-09-17  \n",
       "2583.76           NaN 2019-03-13  "
      ]
     },
     "execution_count": 30,
     "metadata": {},
     "output_type": "execute_result"
    }
   ],
   "source": [
    "#lets filter our data by unit price and take a look is there any anomalys\n",
    "df_clean.groupby(['unitprice']).max().sort_values('unitprice', ascending=False).head(10)"
   ]
  },
  {
   "cell_type": "markdown",
   "id": "ad4564af",
   "metadata": {},
   "source": [
    "as we analyse product range we dont need fees, post and  other data not belong to range asortment, so we can drop it."
   ]
  },
  {
   "cell_type": "code",
   "execution_count": 31,
   "id": "60fff186",
   "metadata": {},
   "outputs": [],
   "source": [
    "df_drop2=df_clean.query(\"stockcode in ('AMAZONFEE','B','POST', 'M', 'DOT')\")\n",
    "df_clean= df_clean[~df_clean['stockcode'].isin(df_drop2['stockcode'])]"
   ]
  },
  {
   "cell_type": "code",
   "execution_count": 32,
   "id": "347c748a",
   "metadata": {},
   "outputs": [
    {
     "data": {
      "text/html": [
       "<div>\n",
       "<style scoped>\n",
       "    .dataframe tbody tr th:only-of-type {\n",
       "        vertical-align: middle;\n",
       "    }\n",
       "\n",
       "    .dataframe tbody tr th {\n",
       "        vertical-align: top;\n",
       "    }\n",
       "\n",
       "    .dataframe thead th {\n",
       "        text-align: right;\n",
       "    }\n",
       "</style>\n",
       "<table border=\"1\" class=\"dataframe\">\n",
       "  <thead>\n",
       "    <tr style=\"text-align: right;\">\n",
       "      <th></th>\n",
       "      <th>invoiceno</th>\n",
       "      <th>stockcode</th>\n",
       "      <th>description</th>\n",
       "      <th>quantity</th>\n",
       "      <th>invoicedate</th>\n",
       "      <th>unitprice</th>\n",
       "      <th>customerid</th>\n",
       "      <th>date</th>\n",
       "      <th>quarter</th>\n",
       "    </tr>\n",
       "  </thead>\n",
       "  <tbody>\n",
       "    <tr>\n",
       "      <th>0</th>\n",
       "      <td>536365</td>\n",
       "      <td>85123A</td>\n",
       "      <td>WHITE HANGING HEART T-LIGHT HOLDER</td>\n",
       "      <td>6</td>\n",
       "      <td>2018-11-29 08:26:00</td>\n",
       "      <td>2.55</td>\n",
       "      <td>17850.0</td>\n",
       "      <td>2018-11-29</td>\n",
       "      <td>2018Q4</td>\n",
       "    </tr>\n",
       "    <tr>\n",
       "      <th>1</th>\n",
       "      <td>536365</td>\n",
       "      <td>71053</td>\n",
       "      <td>WHITE METAL LANTERN</td>\n",
       "      <td>6</td>\n",
       "      <td>2018-11-29 08:26:00</td>\n",
       "      <td>3.39</td>\n",
       "      <td>17850.0</td>\n",
       "      <td>2018-11-29</td>\n",
       "      <td>2018Q4</td>\n",
       "    </tr>\n",
       "    <tr>\n",
       "      <th>2</th>\n",
       "      <td>536365</td>\n",
       "      <td>84406B</td>\n",
       "      <td>CREAM CUPID HEARTS COAT HANGER</td>\n",
       "      <td>8</td>\n",
       "      <td>2018-11-29 08:26:00</td>\n",
       "      <td>2.75</td>\n",
       "      <td>17850.0</td>\n",
       "      <td>2018-11-29</td>\n",
       "      <td>2018Q4</td>\n",
       "    </tr>\n",
       "    <tr>\n",
       "      <th>3</th>\n",
       "      <td>536365</td>\n",
       "      <td>84029G</td>\n",
       "      <td>KNITTED UNION FLAG HOT WATER BOTTLE</td>\n",
       "      <td>6</td>\n",
       "      <td>2018-11-29 08:26:00</td>\n",
       "      <td>3.39</td>\n",
       "      <td>17850.0</td>\n",
       "      <td>2018-11-29</td>\n",
       "      <td>2018Q4</td>\n",
       "    </tr>\n",
       "    <tr>\n",
       "      <th>4</th>\n",
       "      <td>536365</td>\n",
       "      <td>84029E</td>\n",
       "      <td>RED WOOLLY HOTTIE WHITE HEART.</td>\n",
       "      <td>6</td>\n",
       "      <td>2018-11-29 08:26:00</td>\n",
       "      <td>3.39</td>\n",
       "      <td>17850.0</td>\n",
       "      <td>2018-11-29</td>\n",
       "      <td>2018Q4</td>\n",
       "    </tr>\n",
       "    <tr>\n",
       "      <th>...</th>\n",
       "      <td>...</td>\n",
       "      <td>...</td>\n",
       "      <td>...</td>\n",
       "      <td>...</td>\n",
       "      <td>...</td>\n",
       "      <td>...</td>\n",
       "      <td>...</td>\n",
       "      <td>...</td>\n",
       "      <td>...</td>\n",
       "    </tr>\n",
       "    <tr>\n",
       "      <th>541904</th>\n",
       "      <td>581587</td>\n",
       "      <td>22613</td>\n",
       "      <td>PACK OF 20 SPACEBOY NAPKINS</td>\n",
       "      <td>12</td>\n",
       "      <td>2019-12-07 12:50:00</td>\n",
       "      <td>0.85</td>\n",
       "      <td>12680.0</td>\n",
       "      <td>2019-12-07</td>\n",
       "      <td>2019Q4</td>\n",
       "    </tr>\n",
       "    <tr>\n",
       "      <th>541905</th>\n",
       "      <td>581587</td>\n",
       "      <td>22899</td>\n",
       "      <td>CHILDREN'S APRON DOLLY GIRL</td>\n",
       "      <td>6</td>\n",
       "      <td>2019-12-07 12:50:00</td>\n",
       "      <td>2.10</td>\n",
       "      <td>12680.0</td>\n",
       "      <td>2019-12-07</td>\n",
       "      <td>2019Q4</td>\n",
       "    </tr>\n",
       "    <tr>\n",
       "      <th>541906</th>\n",
       "      <td>581587</td>\n",
       "      <td>23254</td>\n",
       "      <td>CHILDRENS CUTLERY DOLLY GIRL</td>\n",
       "      <td>4</td>\n",
       "      <td>2019-12-07 12:50:00</td>\n",
       "      <td>4.15</td>\n",
       "      <td>12680.0</td>\n",
       "      <td>2019-12-07</td>\n",
       "      <td>2019Q4</td>\n",
       "    </tr>\n",
       "    <tr>\n",
       "      <th>541907</th>\n",
       "      <td>581587</td>\n",
       "      <td>23255</td>\n",
       "      <td>CHILDRENS CUTLERY CIRCUS PARADE</td>\n",
       "      <td>4</td>\n",
       "      <td>2019-12-07 12:50:00</td>\n",
       "      <td>4.15</td>\n",
       "      <td>12680.0</td>\n",
       "      <td>2019-12-07</td>\n",
       "      <td>2019Q4</td>\n",
       "    </tr>\n",
       "    <tr>\n",
       "      <th>541908</th>\n",
       "      <td>581587</td>\n",
       "      <td>22138</td>\n",
       "      <td>BAKING SET 9 PIECE RETROSPOT</td>\n",
       "      <td>3</td>\n",
       "      <td>2019-12-07 12:50:00</td>\n",
       "      <td>4.95</td>\n",
       "      <td>12680.0</td>\n",
       "      <td>2019-12-07</td>\n",
       "      <td>2019Q4</td>\n",
       "    </tr>\n",
       "  </tbody>\n",
       "</table>\n",
       "<p>528399 rows × 9 columns</p>\n",
       "</div>"
      ],
      "text/plain": [
       "       invoiceno stockcode                          description  quantity  \\\n",
       "0         536365    85123A   WHITE HANGING HEART T-LIGHT HOLDER         6   \n",
       "1         536365     71053                  WHITE METAL LANTERN         6   \n",
       "2         536365    84406B       CREAM CUPID HEARTS COAT HANGER         8   \n",
       "3         536365    84029G  KNITTED UNION FLAG HOT WATER BOTTLE         6   \n",
       "4         536365    84029E       RED WOOLLY HOTTIE WHITE HEART.         6   \n",
       "...          ...       ...                                  ...       ...   \n",
       "541904    581587     22613          PACK OF 20 SPACEBOY NAPKINS        12   \n",
       "541905    581587     22899         CHILDREN'S APRON DOLLY GIRL          6   \n",
       "541906    581587     23254        CHILDRENS CUTLERY DOLLY GIRL          4   \n",
       "541907    581587     23255      CHILDRENS CUTLERY CIRCUS PARADE         4   \n",
       "541908    581587     22138        BAKING SET 9 PIECE RETROSPOT          3   \n",
       "\n",
       "               invoicedate  unitprice  customerid       date quarter  \n",
       "0      2018-11-29 08:26:00       2.55     17850.0 2018-11-29  2018Q4  \n",
       "1      2018-11-29 08:26:00       3.39     17850.0 2018-11-29  2018Q4  \n",
       "2      2018-11-29 08:26:00       2.75     17850.0 2018-11-29  2018Q4  \n",
       "3      2018-11-29 08:26:00       3.39     17850.0 2018-11-29  2018Q4  \n",
       "4      2018-11-29 08:26:00       3.39     17850.0 2018-11-29  2018Q4  \n",
       "...                    ...        ...         ...        ...     ...  \n",
       "541904 2019-12-07 12:50:00       0.85     12680.0 2019-12-07  2019Q4  \n",
       "541905 2019-12-07 12:50:00       2.10     12680.0 2019-12-07  2019Q4  \n",
       "541906 2019-12-07 12:50:00       4.15     12680.0 2019-12-07  2019Q4  \n",
       "541907 2019-12-07 12:50:00       4.15     12680.0 2019-12-07  2019Q4  \n",
       "541908 2019-12-07 12:50:00       4.95     12680.0 2019-12-07  2019Q4  \n",
       "\n",
       "[528399 rows x 9 columns]"
      ]
     },
     "execution_count": 32,
     "metadata": {},
     "output_type": "execute_result"
    }
   ],
   "source": [
    "#define quarters\n",
    "warnings.filterwarnings('ignore')\n",
    "df_clean['quarter'] = pd.PeriodIndex(df_clean.date, freq='Q')\n",
    "df_clean"
   ]
  },
  {
   "cell_type": "markdown",
   "id": "d4d69894",
   "metadata": {},
   "source": [
    "### assign groups: cheap, average, expensive"
   ]
  },
  {
   "cell_type": "code",
   "execution_count": 140,
   "id": "1e6c9fe0",
   "metadata": {},
   "outputs": [
    {
     "data": {
      "text/html": [
       "<div>\n",
       "<style scoped>\n",
       "    .dataframe tbody tr th:only-of-type {\n",
       "        vertical-align: middle;\n",
       "    }\n",
       "\n",
       "    .dataframe tbody tr th {\n",
       "        vertical-align: top;\n",
       "    }\n",
       "\n",
       "    .dataframe thead th {\n",
       "        text-align: right;\n",
       "    }\n",
       "</style>\n",
       "<table border=\"1\" class=\"dataframe\">\n",
       "  <thead>\n",
       "    <tr style=\"text-align: right;\">\n",
       "      <th></th>\n",
       "      <th>quantity</th>\n",
       "      <th>unitprice</th>\n",
       "      <th>customerid</th>\n",
       "      <th>revenue</th>\n",
       "    </tr>\n",
       "  </thead>\n",
       "  <tbody>\n",
       "    <tr>\n",
       "      <th>count</th>\n",
       "      <td>528399.000000</td>\n",
       "      <td>528399.000000</td>\n",
       "      <td>396519.000000</td>\n",
       "      <td>528399.000000</td>\n",
       "    </tr>\n",
       "    <tr>\n",
       "      <th>mean</th>\n",
       "      <td>10.607707</td>\n",
       "      <td>3.276458</td>\n",
       "      <td>15301.351718</td>\n",
       "      <td>19.453861</td>\n",
       "    </tr>\n",
       "    <tr>\n",
       "      <th>std</th>\n",
       "      <td>156.860014</td>\n",
       "      <td>4.448566</td>\n",
       "      <td>1709.777503</td>\n",
       "      <td>268.443856</td>\n",
       "    </tr>\n",
       "    <tr>\n",
       "      <th>min</th>\n",
       "      <td>1.000000</td>\n",
       "      <td>0.000000</td>\n",
       "      <td>12346.000000</td>\n",
       "      <td>0.000000</td>\n",
       "    </tr>\n",
       "    <tr>\n",
       "      <th>25%</th>\n",
       "      <td>1.000000</td>\n",
       "      <td>1.250000</td>\n",
       "      <td>13975.000000</td>\n",
       "      <td>3.750000</td>\n",
       "    </tr>\n",
       "    <tr>\n",
       "      <th>50%</th>\n",
       "      <td>3.000000</td>\n",
       "      <td>2.080000</td>\n",
       "      <td>15159.000000</td>\n",
       "      <td>9.900000</td>\n",
       "    </tr>\n",
       "    <tr>\n",
       "      <th>75%</th>\n",
       "      <td>11.000000</td>\n",
       "      <td>4.130000</td>\n",
       "      <td>16801.000000</td>\n",
       "      <td>17.400000</td>\n",
       "    </tr>\n",
       "    <tr>\n",
       "      <th>max</th>\n",
       "      <td>80995.000000</td>\n",
       "      <td>649.500000</td>\n",
       "      <td>18287.000000</td>\n",
       "      <td>168469.600000</td>\n",
       "    </tr>\n",
       "  </tbody>\n",
       "</table>\n",
       "</div>"
      ],
      "text/plain": [
       "            quantity      unitprice     customerid        revenue\n",
       "count  528399.000000  528399.000000  396519.000000  528399.000000\n",
       "mean       10.607707       3.276458   15301.351718      19.453861\n",
       "std       156.860014       4.448566    1709.777503     268.443856\n",
       "min         1.000000       0.000000   12346.000000       0.000000\n",
       "25%         1.000000       1.250000   13975.000000       3.750000\n",
       "50%         3.000000       2.080000   15159.000000       9.900000\n",
       "75%        11.000000       4.130000   16801.000000      17.400000\n",
       "max     80995.000000     649.500000   18287.000000  168469.600000"
      ]
     },
     "execution_count": 140,
     "metadata": {},
     "output_type": "execute_result"
    }
   ],
   "source": [
    "df_clean.describe()"
   ]
  },
  {
   "cell_type": "code",
   "execution_count": 147,
   "id": "69bc03e6",
   "metadata": {},
   "outputs": [
    {
     "data": {
      "text/html": [
       "<div>\n",
       "<style scoped>\n",
       "    .dataframe tbody tr th:only-of-type {\n",
       "        vertical-align: middle;\n",
       "    }\n",
       "\n",
       "    .dataframe tbody tr th {\n",
       "        vertical-align: top;\n",
       "    }\n",
       "\n",
       "    .dataframe thead th {\n",
       "        text-align: right;\n",
       "    }\n",
       "</style>\n",
       "<table border=\"1\" class=\"dataframe\">\n",
       "  <thead>\n",
       "    <tr style=\"text-align: right;\">\n",
       "      <th></th>\n",
       "      <th>invoiceno</th>\n",
       "      <th>stockcode</th>\n",
       "      <th>description</th>\n",
       "      <th>quantity</th>\n",
       "      <th>invoicedate</th>\n",
       "      <th>unitprice</th>\n",
       "      <th>customerid</th>\n",
       "      <th>date</th>\n",
       "      <th>quarter</th>\n",
       "      <th>revenue</th>\n",
       "      <th>group</th>\n",
       "    </tr>\n",
       "  </thead>\n",
       "  <tbody>\n",
       "    <tr>\n",
       "      <th>0</th>\n",
       "      <td>536365</td>\n",
       "      <td>85123A</td>\n",
       "      <td>WHITE HANGING HEART T-LIGHT HOLDER</td>\n",
       "      <td>6</td>\n",
       "      <td>2018-11-29 08:26:00</td>\n",
       "      <td>2.55</td>\n",
       "      <td>17850.0</td>\n",
       "      <td>2018-11-29</td>\n",
       "      <td>2018Q4</td>\n",
       "      <td>15.30</td>\n",
       "      <td>average</td>\n",
       "    </tr>\n",
       "    <tr>\n",
       "      <th>1</th>\n",
       "      <td>536365</td>\n",
       "      <td>71053</td>\n",
       "      <td>WHITE METAL LANTERN</td>\n",
       "      <td>6</td>\n",
       "      <td>2018-11-29 08:26:00</td>\n",
       "      <td>3.39</td>\n",
       "      <td>17850.0</td>\n",
       "      <td>2018-11-29</td>\n",
       "      <td>2018Q4</td>\n",
       "      <td>20.34</td>\n",
       "      <td>average</td>\n",
       "    </tr>\n",
       "    <tr>\n",
       "      <th>2</th>\n",
       "      <td>536365</td>\n",
       "      <td>84406B</td>\n",
       "      <td>CREAM CUPID HEARTS COAT HANGER</td>\n",
       "      <td>8</td>\n",
       "      <td>2018-11-29 08:26:00</td>\n",
       "      <td>2.75</td>\n",
       "      <td>17850.0</td>\n",
       "      <td>2018-11-29</td>\n",
       "      <td>2018Q4</td>\n",
       "      <td>22.00</td>\n",
       "      <td>average</td>\n",
       "    </tr>\n",
       "    <tr>\n",
       "      <th>3</th>\n",
       "      <td>536365</td>\n",
       "      <td>84029G</td>\n",
       "      <td>KNITTED UNION FLAG HOT WATER BOTTLE</td>\n",
       "      <td>6</td>\n",
       "      <td>2018-11-29 08:26:00</td>\n",
       "      <td>3.39</td>\n",
       "      <td>17850.0</td>\n",
       "      <td>2018-11-29</td>\n",
       "      <td>2018Q4</td>\n",
       "      <td>20.34</td>\n",
       "      <td>average</td>\n",
       "    </tr>\n",
       "    <tr>\n",
       "      <th>4</th>\n",
       "      <td>536365</td>\n",
       "      <td>84029E</td>\n",
       "      <td>RED WOOLLY HOTTIE WHITE HEART.</td>\n",
       "      <td>6</td>\n",
       "      <td>2018-11-29 08:26:00</td>\n",
       "      <td>3.39</td>\n",
       "      <td>17850.0</td>\n",
       "      <td>2018-11-29</td>\n",
       "      <td>2018Q4</td>\n",
       "      <td>20.34</td>\n",
       "      <td>average</td>\n",
       "    </tr>\n",
       "  </tbody>\n",
       "</table>\n",
       "</div>"
      ],
      "text/plain": [
       "  invoiceno stockcode                          description  quantity  \\\n",
       "0    536365    85123A   WHITE HANGING HEART T-LIGHT HOLDER         6   \n",
       "1    536365     71053                  WHITE METAL LANTERN         6   \n",
       "2    536365    84406B       CREAM CUPID HEARTS COAT HANGER         8   \n",
       "3    536365    84029G  KNITTED UNION FLAG HOT WATER BOTTLE         6   \n",
       "4    536365    84029E       RED WOOLLY HOTTIE WHITE HEART.         6   \n",
       "\n",
       "          invoicedate  unitprice  customerid       date quarter  revenue  \\\n",
       "0 2018-11-29 08:26:00       2.55     17850.0 2018-11-29  2018Q4    15.30   \n",
       "1 2018-11-29 08:26:00       3.39     17850.0 2018-11-29  2018Q4    20.34   \n",
       "2 2018-11-29 08:26:00       2.75     17850.0 2018-11-29  2018Q4    22.00   \n",
       "3 2018-11-29 08:26:00       3.39     17850.0 2018-11-29  2018Q4    20.34   \n",
       "4 2018-11-29 08:26:00       3.39     17850.0 2018-11-29  2018Q4    20.34   \n",
       "\n",
       "     group  \n",
       "0  average  \n",
       "1  average  \n",
       "2  average  \n",
       "3  average  \n",
       "4  average  "
      ]
     },
     "execution_count": 147,
     "metadata": {},
     "output_type": "execute_result"
    }
   ],
   "source": [
    "conditions = [\n",
    "    (df_clean['unitprice'] <= 1.25),\n",
    "    (df_clean['unitprice'] > 1.25) & (df_clean['unitprice'] <= 4.13),\n",
    "    (df_clean['unitprice'] > 4.13)\n",
    "    ]\n",
    "\n",
    "# create a list of the values we want to assign for each condition\n",
    "values = ['cheap', 'average', 'expensive']\n",
    "\n",
    "# create a new column and use np.select to assign values to it using our lists as arguments\n",
    "df_clean['group'] = np.select(conditions, values)\n",
    "\n",
    "# display updated DataFrame\n",
    "df_clean.head()"
   ]
  },
  {
   "cell_type": "markdown",
   "id": "3fc95ae0",
   "metadata": {},
   "source": [
    "# Step 3. Exploratory data analysis:"
   ]
  },
  {
   "cell_type": "markdown",
   "id": "4a40d7b8",
   "metadata": {},
   "source": [
    "## study the product: quantity, price, popular sells, selling by date."
   ]
  },
  {
   "cell_type": "markdown",
   "id": "56b9ce19",
   "metadata": {},
   "source": [
    "## quantity"
   ]
  },
  {
   "cell_type": "markdown",
   "id": "0dcac31d",
   "metadata": {},
   "source": [
    "lets just look on quantity of our items"
   ]
  },
  {
   "cell_type": "code",
   "execution_count": 33,
   "id": "30883077",
   "metadata": {},
   "outputs": [
    {
     "data": {
      "text/html": [
       "<div>\n",
       "<style scoped>\n",
       "    .dataframe tbody tr th:only-of-type {\n",
       "        vertical-align: middle;\n",
       "    }\n",
       "\n",
       "    .dataframe tbody tr th {\n",
       "        vertical-align: top;\n",
       "    }\n",
       "\n",
       "    .dataframe thead th {\n",
       "        text-align: right;\n",
       "    }\n",
       "</style>\n",
       "<table border=\"1\" class=\"dataframe\">\n",
       "  <thead>\n",
       "    <tr style=\"text-align: right;\">\n",
       "      <th></th>\n",
       "      <th>quantity</th>\n",
       "      <th>unitprice</th>\n",
       "      <th>customerid</th>\n",
       "    </tr>\n",
       "  </thead>\n",
       "  <tbody>\n",
       "    <tr>\n",
       "      <th>count</th>\n",
       "      <td>528399.000000</td>\n",
       "      <td>528399.000000</td>\n",
       "      <td>396519.000000</td>\n",
       "    </tr>\n",
       "    <tr>\n",
       "      <th>mean</th>\n",
       "      <td>10.607707</td>\n",
       "      <td>3.276458</td>\n",
       "      <td>15301.351718</td>\n",
       "    </tr>\n",
       "    <tr>\n",
       "      <th>std</th>\n",
       "      <td>156.860014</td>\n",
       "      <td>4.448566</td>\n",
       "      <td>1709.777503</td>\n",
       "    </tr>\n",
       "    <tr>\n",
       "      <th>min</th>\n",
       "      <td>1.000000</td>\n",
       "      <td>0.000000</td>\n",
       "      <td>12346.000000</td>\n",
       "    </tr>\n",
       "    <tr>\n",
       "      <th>25%</th>\n",
       "      <td>1.000000</td>\n",
       "      <td>1.250000</td>\n",
       "      <td>13975.000000</td>\n",
       "    </tr>\n",
       "    <tr>\n",
       "      <th>50%</th>\n",
       "      <td>3.000000</td>\n",
       "      <td>2.080000</td>\n",
       "      <td>15159.000000</td>\n",
       "    </tr>\n",
       "    <tr>\n",
       "      <th>75%</th>\n",
       "      <td>11.000000</td>\n",
       "      <td>4.130000</td>\n",
       "      <td>16801.000000</td>\n",
       "    </tr>\n",
       "    <tr>\n",
       "      <th>max</th>\n",
       "      <td>80995.000000</td>\n",
       "      <td>649.500000</td>\n",
       "      <td>18287.000000</td>\n",
       "    </tr>\n",
       "  </tbody>\n",
       "</table>\n",
       "</div>"
      ],
      "text/plain": [
       "            quantity      unitprice     customerid\n",
       "count  528399.000000  528399.000000  396519.000000\n",
       "mean       10.607707       3.276458   15301.351718\n",
       "std       156.860014       4.448566    1709.777503\n",
       "min         1.000000       0.000000   12346.000000\n",
       "25%         1.000000       1.250000   13975.000000\n",
       "50%         3.000000       2.080000   15159.000000\n",
       "75%        11.000000       4.130000   16801.000000\n",
       "max     80995.000000     649.500000   18287.000000"
      ]
     },
     "execution_count": 33,
     "metadata": {},
     "output_type": "execute_result"
    }
   ],
   "source": [
    "df_clean.describe()"
   ]
  },
  {
   "cell_type": "code",
   "execution_count": 34,
   "id": "473b42d2",
   "metadata": {
    "scrolled": true
   },
   "outputs": [
    {
     "data": {
      "image/png": "[encoded data removed]",
      "text/plain": [
       "<Figure size 750x350 with 1 Axes>"
      ]
     },
     "metadata": {},
     "output_type": "display_data"
    }
   ],
   "source": [
    "#plot boxplot to show outliers of quantity of items from our data.\n",
    "flierprops = dict(marker='o', markersize=5, markeredgecolor='black', markerfacecolor='green', alpha=0.5)\n",
    "plt.rcParams[\"figure.figsize\"] = [7.50, 3.50]\n",
    "plt.rcParams[\"figure.autolayout\"] = True\n",
    "sns.boxplot(y=df_clean[\"quantity\"], flierprops=flierprops)\n",
    "plt.ylim(0, 50)\n",
    "plt.title('boxplot of quantity')\n",
    "plt.show()"
   ]
  },
  {
   "cell_type": "markdown",
   "id": "b6f06ec9",
   "metadata": {},
   "source": [
    "graph shows that most of items are sold in quantity of 10. more then 20 is outliers."
   ]
  },
  {
   "cell_type": "code",
   "execution_count": 35,
   "id": "adbd9848",
   "metadata": {},
   "outputs": [
    {
     "data": {
      "text/html": [
       "<div>\n",
       "<style scoped>\n",
       "    .dataframe tbody tr th:only-of-type {\n",
       "        vertical-align: middle;\n",
       "    }\n",
       "\n",
       "    .dataframe tbody tr th {\n",
       "        vertical-align: top;\n",
       "    }\n",
       "\n",
       "    .dataframe thead th {\n",
       "        text-align: right;\n",
       "    }\n",
       "</style>\n",
       "<table border=\"1\" class=\"dataframe\">\n",
       "  <thead>\n",
       "    <tr style=\"text-align: right;\">\n",
       "      <th></th>\n",
       "      <th>invoiceno</th>\n",
       "      <th>stockcode</th>\n",
       "      <th>description</th>\n",
       "      <th>quantity</th>\n",
       "      <th>invoicedate</th>\n",
       "      <th>unitprice</th>\n",
       "      <th>customerid</th>\n",
       "      <th>date</th>\n",
       "      <th>quarter</th>\n",
       "    </tr>\n",
       "  </thead>\n",
       "  <tbody>\n",
       "    <tr>\n",
       "      <th>540421</th>\n",
       "      <td>581483</td>\n",
       "      <td>23843</td>\n",
       "      <td>PAPER CRAFT , LITTLE BIRDIE</td>\n",
       "      <td>80995</td>\n",
       "      <td>2019-12-07 09:15:00</td>\n",
       "      <td>2.08</td>\n",
       "      <td>16446.0</td>\n",
       "      <td>2019-12-07</td>\n",
       "      <td>2019Q4</td>\n",
       "    </tr>\n",
       "    <tr>\n",
       "      <th>61619</th>\n",
       "      <td>541431</td>\n",
       "      <td>23166</td>\n",
       "      <td>MEDIUM CERAMIC TOP STORAGE JAR</td>\n",
       "      <td>74215</td>\n",
       "      <td>2019-01-16 10:01:00</td>\n",
       "      <td>1.04</td>\n",
       "      <td>12346.0</td>\n",
       "      <td>2019-01-16</td>\n",
       "      <td>2019Q1</td>\n",
       "    </tr>\n",
       "    <tr>\n",
       "      <th>502122</th>\n",
       "      <td>578841</td>\n",
       "      <td>84826</td>\n",
       "      <td>ASSTD DESIGN 3D PAPER STICKERS</td>\n",
       "      <td>12540</td>\n",
       "      <td>2019-11-23 15:57:00</td>\n",
       "      <td>0.00</td>\n",
       "      <td>13256.0</td>\n",
       "      <td>2019-11-23</td>\n",
       "      <td>2019Q4</td>\n",
       "    </tr>\n",
       "    <tr>\n",
       "      <th>421632</th>\n",
       "      <td>573008</td>\n",
       "      <td>84077</td>\n",
       "      <td>WORLD WAR 2 GLIDERS ASSTD DESIGNS</td>\n",
       "      <td>4800</td>\n",
       "      <td>2019-10-25 12:26:00</td>\n",
       "      <td>0.21</td>\n",
       "      <td>12901.0</td>\n",
       "      <td>2019-10-25</td>\n",
       "      <td>2019Q4</td>\n",
       "    </tr>\n",
       "    <tr>\n",
       "      <th>206121</th>\n",
       "      <td>554868</td>\n",
       "      <td>22197</td>\n",
       "      <td>SMALL POPCORN HOLDER</td>\n",
       "      <td>4300</td>\n",
       "      <td>2019-05-25 10:52:00</td>\n",
       "      <td>0.72</td>\n",
       "      <td>13135.0</td>\n",
       "      <td>2019-05-25</td>\n",
       "      <td>2019Q2</td>\n",
       "    </tr>\n",
       "    <tr>\n",
       "      <th>220843</th>\n",
       "      <td>556231</td>\n",
       "      <td>85123A</td>\n",
       "      <td>?</td>\n",
       "      <td>4000</td>\n",
       "      <td>2019-06-07 15:04:00</td>\n",
       "      <td>0.00</td>\n",
       "      <td>NaN</td>\n",
       "      <td>2019-06-07</td>\n",
       "      <td>2019Q2</td>\n",
       "    </tr>\n",
       "    <tr>\n",
       "      <th>97432</th>\n",
       "      <td>544612</td>\n",
       "      <td>22053</td>\n",
       "      <td>EMPIRE DESIGN ROSETTE</td>\n",
       "      <td>3906</td>\n",
       "      <td>2019-02-20 10:43:00</td>\n",
       "      <td>0.82</td>\n",
       "      <td>18087.0</td>\n",
       "      <td>2019-02-20</td>\n",
       "      <td>2019Q1</td>\n",
       "    </tr>\n",
       "    <tr>\n",
       "      <th>270885</th>\n",
       "      <td>560599</td>\n",
       "      <td>18007</td>\n",
       "      <td>ESSENTIAL BALM 3.5g TIN IN ENVELOPE</td>\n",
       "      <td>3186</td>\n",
       "      <td>2019-07-17 17:04:00</td>\n",
       "      <td>0.06</td>\n",
       "      <td>14609.0</td>\n",
       "      <td>2019-07-17</td>\n",
       "      <td>2019Q3</td>\n",
       "    </tr>\n",
       "    <tr>\n",
       "      <th>52711</th>\n",
       "      <td>540815</td>\n",
       "      <td>21108</td>\n",
       "      <td>FAIRY CAKE FLANNEL ASSORTED COLOUR</td>\n",
       "      <td>3114</td>\n",
       "      <td>2019-01-09 12:55:00</td>\n",
       "      <td>2.10</td>\n",
       "      <td>15749.0</td>\n",
       "      <td>2019-01-09</td>\n",
       "      <td>2019Q1</td>\n",
       "    </tr>\n",
       "    <tr>\n",
       "      <th>160546</th>\n",
       "      <td>550461</td>\n",
       "      <td>21108</td>\n",
       "      <td>FAIRY CAKE FLANNEL ASSORTED COLOUR</td>\n",
       "      <td>3114</td>\n",
       "      <td>2019-04-16 13:20:00</td>\n",
       "      <td>2.10</td>\n",
       "      <td>15749.0</td>\n",
       "      <td>2019-04-16</td>\n",
       "      <td>2019Q2</td>\n",
       "    </tr>\n",
       "  </tbody>\n",
       "</table>\n",
       "</div>"
      ],
      "text/plain": [
       "       invoiceno stockcode                          description  quantity  \\\n",
       "540421    581483     23843          PAPER CRAFT , LITTLE BIRDIE     80995   \n",
       "61619     541431     23166       MEDIUM CERAMIC TOP STORAGE JAR     74215   \n",
       "502122    578841     84826       ASSTD DESIGN 3D PAPER STICKERS     12540   \n",
       "421632    573008     84077    WORLD WAR 2 GLIDERS ASSTD DESIGNS      4800   \n",
       "206121    554868     22197                 SMALL POPCORN HOLDER      4300   \n",
       "220843    556231    85123A                                    ?      4000   \n",
       "97432     544612     22053                EMPIRE DESIGN ROSETTE      3906   \n",
       "270885    560599     18007  ESSENTIAL BALM 3.5g TIN IN ENVELOPE      3186   \n",
       "52711     540815     21108   FAIRY CAKE FLANNEL ASSORTED COLOUR      3114   \n",
       "160546    550461     21108   FAIRY CAKE FLANNEL ASSORTED COLOUR      3114   \n",
       "\n",
       "               invoicedate  unitprice  customerid       date quarter  \n",
       "540421 2019-12-07 09:15:00       2.08     16446.0 2019-12-07  2019Q4  \n",
       "61619  2019-01-16 10:01:00       1.04     12346.0 2019-01-16  2019Q1  \n",
       "502122 2019-11-23 15:57:00       0.00     13256.0 2019-11-23  2019Q4  \n",
       "421632 2019-10-25 12:26:00       0.21     12901.0 2019-10-25  2019Q4  \n",
       "206121 2019-05-25 10:52:00       0.72     13135.0 2019-05-25  2019Q2  \n",
       "220843 2019-06-07 15:04:00       0.00         NaN 2019-06-07  2019Q2  \n",
       "97432  2019-02-20 10:43:00       0.82     18087.0 2019-02-20  2019Q1  \n",
       "270885 2019-07-17 17:04:00       0.06     14609.0 2019-07-17  2019Q3  \n",
       "52711  2019-01-09 12:55:00       2.10     15749.0 2019-01-09  2019Q1  \n",
       "160546 2019-04-16 13:20:00       2.10     15749.0 2019-04-16  2019Q2  "
      ]
     },
     "execution_count": 35,
     "metadata": {},
     "output_type": "execute_result"
    }
   ],
   "source": [
    "#lets investigate Which item has the highest quantity value.\n",
    "df_clean.sort_values(by='quantity', ascending=False).head(10)"
   ]
  },
  {
   "cell_type": "markdown",
   "id": "1fcc7a22",
   "metadata": {},
   "source": [
    "paper cup and ceramic jar is a winners, paper stickers sold by 0 price, looks anomaly. We have here item: \"?\" wich is a mistake."
   ]
  },
  {
   "cell_type": "code",
   "execution_count": 36,
   "id": "30c9909b",
   "metadata": {},
   "outputs": [
    {
     "data": {
      "text/html": [
       "<div>\n",
       "<style scoped>\n",
       "    .dataframe tbody tr th:only-of-type {\n",
       "        vertical-align: middle;\n",
       "    }\n",
       "\n",
       "    .dataframe tbody tr th {\n",
       "        vertical-align: top;\n",
       "    }\n",
       "\n",
       "    .dataframe thead th {\n",
       "        text-align: right;\n",
       "    }\n",
       "</style>\n",
       "<table border=\"1\" class=\"dataframe\">\n",
       "  <thead>\n",
       "    <tr style=\"text-align: right;\">\n",
       "      <th></th>\n",
       "      <th>invoiceno</th>\n",
       "      <th>quantity</th>\n",
       "    </tr>\n",
       "  </thead>\n",
       "  <tbody>\n",
       "    <tr>\n",
       "      <th>0</th>\n",
       "      <td>581483</td>\n",
       "      <td>80995</td>\n",
       "    </tr>\n",
       "    <tr>\n",
       "      <th>1</th>\n",
       "      <td>541431</td>\n",
       "      <td>74215</td>\n",
       "    </tr>\n",
       "    <tr>\n",
       "      <th>2</th>\n",
       "      <td>556917</td>\n",
       "      <td>15049</td>\n",
       "    </tr>\n",
       "    <tr>\n",
       "      <th>3</th>\n",
       "      <td>563076</td>\n",
       "      <td>14730</td>\n",
       "    </tr>\n",
       "    <tr>\n",
       "      <th>4</th>\n",
       "      <td>574941</td>\n",
       "      <td>14149</td>\n",
       "    </tr>\n",
       "    <tr>\n",
       "      <th>...</th>\n",
       "      <td>...</td>\n",
       "      <td>...</td>\n",
       "    </tr>\n",
       "    <tr>\n",
       "      <th>19838</th>\n",
       "      <td>538194</td>\n",
       "      <td>1</td>\n",
       "    </tr>\n",
       "    <tr>\n",
       "      <th>19839</th>\n",
       "      <td>560367</td>\n",
       "      <td>1</td>\n",
       "    </tr>\n",
       "    <tr>\n",
       "      <th>19840</th>\n",
       "      <td>546550</td>\n",
       "      <td>1</td>\n",
       "    </tr>\n",
       "    <tr>\n",
       "      <th>19841</th>\n",
       "      <td>538188</td>\n",
       "      <td>1</td>\n",
       "    </tr>\n",
       "    <tr>\n",
       "      <th>19842</th>\n",
       "      <td>541001</td>\n",
       "      <td>1</td>\n",
       "    </tr>\n",
       "  </tbody>\n",
       "</table>\n",
       "<p>19843 rows × 2 columns</p>\n",
       "</div>"
      ],
      "text/plain": [
       "      invoiceno  quantity\n",
       "0        581483     80995\n",
       "1        541431     74215\n",
       "2        556917     15049\n",
       "3        563076     14730\n",
       "4        574941     14149\n",
       "...         ...       ...\n",
       "19838    538194         1\n",
       "19839    560367         1\n",
       "19840    546550         1\n",
       "19841    538188         1\n",
       "19842    541001         1\n",
       "\n",
       "[19843 rows x 2 columns]"
      ]
     },
     "execution_count": 36,
     "metadata": {},
     "output_type": "execute_result"
    }
   ],
   "source": [
    "#lets take a look on quantity per invoice number, it will tell us how much customer buy per one order.\n",
    "df_clean.groupby('invoiceno')['quantity'].sum().sort_values(ascending=False).reset_index()"
   ]
  },
  {
   "cell_type": "markdown",
   "id": "f44be38c",
   "metadata": {},
   "source": [
    "top 2 still cups and ceramic jar, and it was orders just for cups and jars. top 3 close invoice number #556917, lets take a look what was the order."
   ]
  },
  {
   "cell_type": "code",
   "execution_count": 37,
   "id": "2ceef3bd",
   "metadata": {},
   "outputs": [
    {
     "data": {
      "text/html": [
       "<div>\n",
       "<style scoped>\n",
       "    .dataframe tbody tr th:only-of-type {\n",
       "        vertical-align: middle;\n",
       "    }\n",
       "\n",
       "    .dataframe tbody tr th {\n",
       "        vertical-align: top;\n",
       "    }\n",
       "\n",
       "    .dataframe thead th {\n",
       "        text-align: right;\n",
       "    }\n",
       "</style>\n",
       "<table border=\"1\" class=\"dataframe\">\n",
       "  <thead>\n",
       "    <tr style=\"text-align: right;\">\n",
       "      <th></th>\n",
       "      <th>invoiceno</th>\n",
       "      <th>stockcode</th>\n",
       "      <th>description</th>\n",
       "      <th>quantity</th>\n",
       "      <th>invoicedate</th>\n",
       "      <th>unitprice</th>\n",
       "      <th>customerid</th>\n",
       "      <th>date</th>\n",
       "      <th>quarter</th>\n",
       "    </tr>\n",
       "  </thead>\n",
       "  <tbody>\n",
       "    <tr>\n",
       "      <th>228154</th>\n",
       "      <td>556917</td>\n",
       "      <td>21992</td>\n",
       "      <td>VINTAGE PAISLEY STATIONERY SET</td>\n",
       "      <td>12</td>\n",
       "      <td>2019-06-13 13:37:00</td>\n",
       "      <td>1.25</td>\n",
       "      <td>12415.0</td>\n",
       "      <td>2019-06-13</td>\n",
       "      <td>2019Q2</td>\n",
       "    </tr>\n",
       "    <tr>\n",
       "      <th>228155</th>\n",
       "      <td>556917</td>\n",
       "      <td>21993</td>\n",
       "      <td>FLORAL FOLK STATIONERY SET</td>\n",
       "      <td>60</td>\n",
       "      <td>2019-06-13 13:37:00</td>\n",
       "      <td>1.25</td>\n",
       "      <td>12415.0</td>\n",
       "      <td>2019-06-13</td>\n",
       "      <td>2019Q2</td>\n",
       "    </tr>\n",
       "    <tr>\n",
       "      <th>228156</th>\n",
       "      <td>556917</td>\n",
       "      <td>21933</td>\n",
       "      <td>PINK VINTAGE PAISLEY PICNIC BAG</td>\n",
       "      <td>100</td>\n",
       "      <td>2019-06-13 13:37:00</td>\n",
       "      <td>1.65</td>\n",
       "      <td>12415.0</td>\n",
       "      <td>2019-06-13</td>\n",
       "      <td>2019Q2</td>\n",
       "    </tr>\n",
       "    <tr>\n",
       "      <th>228157</th>\n",
       "      <td>556917</td>\n",
       "      <td>21990</td>\n",
       "      <td>MODERN FLORAL STATIONERY SET</td>\n",
       "      <td>72</td>\n",
       "      <td>2019-06-13 13:37:00</td>\n",
       "      <td>1.25</td>\n",
       "      <td>12415.0</td>\n",
       "      <td>2019-06-13</td>\n",
       "      <td>2019Q2</td>\n",
       "    </tr>\n",
       "    <tr>\n",
       "      <th>228158</th>\n",
       "      <td>556917</td>\n",
       "      <td>84944</td>\n",
       "      <td>SET OF 6 KASHMIR FOLKART BAUBLES</td>\n",
       "      <td>60</td>\n",
       "      <td>2019-06-13 13:37:00</td>\n",
       "      <td>1.65</td>\n",
       "      <td>12415.0</td>\n",
       "      <td>2019-06-13</td>\n",
       "      <td>2019Q2</td>\n",
       "    </tr>\n",
       "    <tr>\n",
       "      <th>...</th>\n",
       "      <td>...</td>\n",
       "      <td>...</td>\n",
       "      <td>...</td>\n",
       "      <td>...</td>\n",
       "      <td>...</td>\n",
       "      <td>...</td>\n",
       "      <td>...</td>\n",
       "      <td>...</td>\n",
       "      <td>...</td>\n",
       "    </tr>\n",
       "    <tr>\n",
       "      <th>228287</th>\n",
       "      <td>556917</td>\n",
       "      <td>22360</td>\n",
       "      <td>GLASS JAR ENGLISH CONFECTIONERY</td>\n",
       "      <td>96</td>\n",
       "      <td>2019-06-13 13:37:00</td>\n",
       "      <td>2.55</td>\n",
       "      <td>12415.0</td>\n",
       "      <td>2019-06-13</td>\n",
       "      <td>2019Q2</td>\n",
       "    </tr>\n",
       "    <tr>\n",
       "      <th>228288</th>\n",
       "      <td>556917</td>\n",
       "      <td>22364</td>\n",
       "      <td>GLASS JAR DIGESTIVE BISCUITS</td>\n",
       "      <td>24</td>\n",
       "      <td>2019-06-13 13:37:00</td>\n",
       "      <td>2.55</td>\n",
       "      <td>12415.0</td>\n",
       "      <td>2019-06-13</td>\n",
       "      <td>2019Q2</td>\n",
       "    </tr>\n",
       "    <tr>\n",
       "      <th>228289</th>\n",
       "      <td>556917</td>\n",
       "      <td>22363</td>\n",
       "      <td>GLASS JAR MARMALADE</td>\n",
       "      <td>24</td>\n",
       "      <td>2019-06-13 13:37:00</td>\n",
       "      <td>2.55</td>\n",
       "      <td>12415.0</td>\n",
       "      <td>2019-06-13</td>\n",
       "      <td>2019Q2</td>\n",
       "    </tr>\n",
       "    <tr>\n",
       "      <th>228290</th>\n",
       "      <td>556917</td>\n",
       "      <td>21115</td>\n",
       "      <td>ROSE CARAVAN DOORSTOP</td>\n",
       "      <td>16</td>\n",
       "      <td>2019-06-13 13:37:00</td>\n",
       "      <td>5.95</td>\n",
       "      <td>12415.0</td>\n",
       "      <td>2019-06-13</td>\n",
       "      <td>2019Q2</td>\n",
       "    </tr>\n",
       "    <tr>\n",
       "      <th>228291</th>\n",
       "      <td>556917</td>\n",
       "      <td>22308</td>\n",
       "      <td>TEA COSY BLUE STRIPE</td>\n",
       "      <td>50</td>\n",
       "      <td>2019-06-13 13:37:00</td>\n",
       "      <td>2.10</td>\n",
       "      <td>12415.0</td>\n",
       "      <td>2019-06-13</td>\n",
       "      <td>2019Q2</td>\n",
       "    </tr>\n",
       "  </tbody>\n",
       "</table>\n",
       "<p>138 rows × 9 columns</p>\n",
       "</div>"
      ],
      "text/plain": [
       "       invoiceno stockcode                       description  quantity  \\\n",
       "228154    556917     21992    VINTAGE PAISLEY STATIONERY SET        12   \n",
       "228155    556917     21993        FLORAL FOLK STATIONERY SET        60   \n",
       "228156    556917     21933   PINK VINTAGE PAISLEY PICNIC BAG       100   \n",
       "228157    556917     21990      MODERN FLORAL STATIONERY SET        72   \n",
       "228158    556917     84944  SET OF 6 KASHMIR FOLKART BAUBLES        60   \n",
       "...          ...       ...                               ...       ...   \n",
       "228287    556917     22360   GLASS JAR ENGLISH CONFECTIONERY        96   \n",
       "228288    556917     22364      GLASS JAR DIGESTIVE BISCUITS        24   \n",
       "228289    556917     22363              GLASS JAR MARMALADE         24   \n",
       "228290    556917     21115             ROSE CARAVAN DOORSTOP        16   \n",
       "228291    556917     22308              TEA COSY BLUE STRIPE        50   \n",
       "\n",
       "               invoicedate  unitprice  customerid       date quarter  \n",
       "228154 2019-06-13 13:37:00       1.25     12415.0 2019-06-13  2019Q2  \n",
       "228155 2019-06-13 13:37:00       1.25     12415.0 2019-06-13  2019Q2  \n",
       "228156 2019-06-13 13:37:00       1.65     12415.0 2019-06-13  2019Q2  \n",
       "228157 2019-06-13 13:37:00       1.25     12415.0 2019-06-13  2019Q2  \n",
       "228158 2019-06-13 13:37:00       1.65     12415.0 2019-06-13  2019Q2  \n",
       "...                    ...        ...         ...        ...     ...  \n",
       "228287 2019-06-13 13:37:00       2.55     12415.0 2019-06-13  2019Q2  \n",
       "228288 2019-06-13 13:37:00       2.55     12415.0 2019-06-13  2019Q2  \n",
       "228289 2019-06-13 13:37:00       2.55     12415.0 2019-06-13  2019Q2  \n",
       "228290 2019-06-13 13:37:00       5.95     12415.0 2019-06-13  2019Q2  \n",
       "228291 2019-06-13 13:37:00       2.10     12415.0 2019-06-13  2019Q2  \n",
       "\n",
       "[138 rows x 9 columns]"
      ]
     },
     "execution_count": 37,
     "metadata": {},
     "output_type": "execute_result"
    }
   ],
   "source": [
    "#check inoice number 556917\n",
    "df_clean.query('invoiceno == \"556917\"')"
   ]
  },
  {
   "cell_type": "markdown",
   "id": "ae6cba7e",
   "metadata": {},
   "source": [
    "looks like regular big order."
   ]
  },
  {
   "cell_type": "code",
   "execution_count": 38,
   "id": "12ba9e0f",
   "metadata": {},
   "outputs": [
    {
     "data": {
      "text/html": [
       "<div>\n",
       "<style scoped>\n",
       "    .dataframe tbody tr th:only-of-type {\n",
       "        vertical-align: middle;\n",
       "    }\n",
       "\n",
       "    .dataframe tbody tr th {\n",
       "        vertical-align: top;\n",
       "    }\n",
       "\n",
       "    .dataframe thead th {\n",
       "        text-align: right;\n",
       "    }\n",
       "</style>\n",
       "<table border=\"1\" class=\"dataframe\">\n",
       "  <thead>\n",
       "    <tr style=\"text-align: right;\">\n",
       "      <th></th>\n",
       "      <th>customerid</th>\n",
       "      <th>quantity</th>\n",
       "    </tr>\n",
       "  </thead>\n",
       "  <tbody>\n",
       "    <tr>\n",
       "      <th>0</th>\n",
       "      <td>14646.0</td>\n",
       "      <td>197420</td>\n",
       "    </tr>\n",
       "    <tr>\n",
       "      <th>1</th>\n",
       "      <td>16446.0</td>\n",
       "      <td>80997</td>\n",
       "    </tr>\n",
       "    <tr>\n",
       "      <th>2</th>\n",
       "      <td>14911.0</td>\n",
       "      <td>80513</td>\n",
       "    </tr>\n",
       "    <tr>\n",
       "      <th>3</th>\n",
       "      <td>12415.0</td>\n",
       "      <td>77669</td>\n",
       "    </tr>\n",
       "    <tr>\n",
       "      <th>4</th>\n",
       "      <td>12346.0</td>\n",
       "      <td>74215</td>\n",
       "    </tr>\n",
       "    <tr>\n",
       "      <th>...</th>\n",
       "      <td>...</td>\n",
       "      <td>...</td>\n",
       "    </tr>\n",
       "    <tr>\n",
       "      <th>4331</th>\n",
       "      <td>15510.0</td>\n",
       "      <td>2</td>\n",
       "    </tr>\n",
       "    <tr>\n",
       "      <th>4332</th>\n",
       "      <td>16257.0</td>\n",
       "      <td>2</td>\n",
       "    </tr>\n",
       "    <tr>\n",
       "      <th>4333</th>\n",
       "      <td>13452.0</td>\n",
       "      <td>2</td>\n",
       "    </tr>\n",
       "    <tr>\n",
       "      <th>4334</th>\n",
       "      <td>15823.0</td>\n",
       "      <td>1</td>\n",
       "    </tr>\n",
       "    <tr>\n",
       "      <th>4335</th>\n",
       "      <td>17956.0</td>\n",
       "      <td>1</td>\n",
       "    </tr>\n",
       "  </tbody>\n",
       "</table>\n",
       "<p>4336 rows × 2 columns</p>\n",
       "</div>"
      ],
      "text/plain": [
       "      customerid  quantity\n",
       "0        14646.0    197420\n",
       "1        16446.0     80997\n",
       "2        14911.0     80513\n",
       "3        12415.0     77669\n",
       "4        12346.0     74215\n",
       "...          ...       ...\n",
       "4331     15510.0         2\n",
       "4332     16257.0         2\n",
       "4333     13452.0         2\n",
       "4334     15823.0         1\n",
       "4335     17956.0         1\n",
       "\n",
       "[4336 rows x 2 columns]"
      ]
     },
     "execution_count": 38,
     "metadata": {},
     "output_type": "execute_result"
    }
   ],
   "source": [
    "#qunatity per customer\n",
    "df_clean.groupby('customerid')['quantity'].sum().sort_values(ascending=False).reset_index()"
   ]
  },
  {
   "cell_type": "markdown",
   "id": "2f8933a7",
   "metadata": {},
   "source": [
    "we have customer leader by number of quantity, 197491 item. lets take a look what he bought."
   ]
  },
  {
   "cell_type": "code",
   "execution_count": 39,
   "id": "2cf07501",
   "metadata": {},
   "outputs": [
    {
     "data": {
      "text/html": [
       "<div>\n",
       "<style scoped>\n",
       "    .dataframe tbody tr th:only-of-type {\n",
       "        vertical-align: middle;\n",
       "    }\n",
       "\n",
       "    .dataframe tbody tr th {\n",
       "        vertical-align: top;\n",
       "    }\n",
       "\n",
       "    .dataframe thead th {\n",
       "        text-align: right;\n",
       "    }\n",
       "</style>\n",
       "<table border=\"1\" class=\"dataframe\">\n",
       "  <thead>\n",
       "    <tr style=\"text-align: right;\">\n",
       "      <th></th>\n",
       "      <th>date</th>\n",
       "      <th>quantity</th>\n",
       "    </tr>\n",
       "  </thead>\n",
       "  <tbody>\n",
       "    <tr>\n",
       "      <th>0</th>\n",
       "      <td>2018-11-29</td>\n",
       "      <td>26910</td>\n",
       "    </tr>\n",
       "    <tr>\n",
       "      <th>1</th>\n",
       "      <td>2018-11-30</td>\n",
       "      <td>31328</td>\n",
       "    </tr>\n",
       "    <tr>\n",
       "      <th>2</th>\n",
       "      <td>2018-12-01</td>\n",
       "      <td>16177</td>\n",
       "    </tr>\n",
       "    <tr>\n",
       "      <th>3</th>\n",
       "      <td>2018-12-03</td>\n",
       "      <td>16372</td>\n",
       "    </tr>\n",
       "    <tr>\n",
       "      <th>4</th>\n",
       "      <td>2018-12-04</td>\n",
       "      <td>21770</td>\n",
       "    </tr>\n",
       "    <tr>\n",
       "      <th>...</th>\n",
       "      <td>...</td>\n",
       "      <td>...</td>\n",
       "    </tr>\n",
       "    <tr>\n",
       "      <th>300</th>\n",
       "      <td>2019-12-03</td>\n",
       "      <td>43757</td>\n",
       "    </tr>\n",
       "    <tr>\n",
       "      <th>301</th>\n",
       "      <td>2019-12-04</td>\n",
       "      <td>30437</td>\n",
       "    </tr>\n",
       "    <tr>\n",
       "      <th>302</th>\n",
       "      <td>2019-12-05</td>\n",
       "      <td>41858</td>\n",
       "    </tr>\n",
       "    <tr>\n",
       "      <th>303</th>\n",
       "      <td>2019-12-06</td>\n",
       "      <td>35606</td>\n",
       "    </tr>\n",
       "    <tr>\n",
       "      <th>304</th>\n",
       "      <td>2019-12-07</td>\n",
       "      <td>93968</td>\n",
       "    </tr>\n",
       "  </tbody>\n",
       "</table>\n",
       "<p>305 rows × 2 columns</p>\n",
       "</div>"
      ],
      "text/plain": [
       "          date  quantity\n",
       "0   2018-11-29     26910\n",
       "1   2018-11-30     31328\n",
       "2   2018-12-01     16177\n",
       "3   2018-12-03     16372\n",
       "4   2018-12-04     21770\n",
       "..         ...       ...\n",
       "300 2019-12-03     43757\n",
       "301 2019-12-04     30437\n",
       "302 2019-12-05     41858\n",
       "303 2019-12-06     35606\n",
       "304 2019-12-07     93968\n",
       "\n",
       "[305 rows x 2 columns]"
      ]
     },
     "execution_count": 39,
     "metadata": {},
     "output_type": "execute_result"
    }
   ],
   "source": [
    "#lets investigate quantity of saled items per day\n",
    "df_grp_date=df_clean.groupby('date')['quantity'].sum().reset_index()\n",
    "df_grp_date"
   ]
  },
  {
   "cell_type": "code",
   "execution_count": 40,
   "id": "0ef722e2",
   "metadata": {},
   "outputs": [
    {
     "data": {
      "image/png": "[encoded data removed]",
      "text/plain": [
       "<Figure size 1200x500 with 1 Axes>"
      ]
     },
     "metadata": {},
     "output_type": "display_data"
    }
   ],
   "source": [
    "plt.rcParams[\"figure.figsize\"] = [12, 5]\n",
    "plt.rcParams[\"figure.autolayout\"] = True\n",
    "sns.lineplot(data=df_grp_date, x='date', y='quantity', palette=\"tab10\", linewidth=1.5)\n",
    "plt.title('quantity per date')\n",
    "plt.show()"
   ]
  },
  {
   "cell_type": "markdown",
   "id": "c52f4172",
   "metadata": {},
   "source": [
    "graph shows 2 outliers, thats ours cups and jars, wich has biggest quantity :) graphs shows positive groth at the second part of 2019 year."
   ]
  },
  {
   "cell_type": "markdown",
   "id": "03b3ea7c",
   "metadata": {},
   "source": [
    "## item price and revenue"
   ]
  },
  {
   "cell_type": "code",
   "execution_count": 119,
   "id": "e57a54db",
   "metadata": {},
   "outputs": [
    {
     "data": {
      "text/html": [
       "<div>\n",
       "<style scoped>\n",
       "    .dataframe tbody tr th:only-of-type {\n",
       "        vertical-align: middle;\n",
       "    }\n",
       "\n",
       "    .dataframe tbody tr th {\n",
       "        vertical-align: top;\n",
       "    }\n",
       "\n",
       "    .dataframe thead th {\n",
       "        text-align: right;\n",
       "    }\n",
       "</style>\n",
       "<table border=\"1\" class=\"dataframe\">\n",
       "  <thead>\n",
       "    <tr style=\"text-align: right;\">\n",
       "      <th></th>\n",
       "      <th>date</th>\n",
       "      <th>revenue</th>\n",
       "    </tr>\n",
       "  </thead>\n",
       "  <tbody>\n",
       "    <tr>\n",
       "      <th>0</th>\n",
       "      <td>2018-11-29</td>\n",
       "      <td>57676.33</td>\n",
       "    </tr>\n",
       "    <tr>\n",
       "      <th>1</th>\n",
       "      <td>2018-11-30</td>\n",
       "      <td>47730.38</td>\n",
       "    </tr>\n",
       "    <tr>\n",
       "      <th>2</th>\n",
       "      <td>2018-12-01</td>\n",
       "      <td>44833.98</td>\n",
       "    </tr>\n",
       "    <tr>\n",
       "      <th>3</th>\n",
       "      <td>2018-12-03</td>\n",
       "      <td>31318.99</td>\n",
       "    </tr>\n",
       "    <tr>\n",
       "      <th>4</th>\n",
       "      <td>2018-12-04</td>\n",
       "      <td>51973.43</td>\n",
       "    </tr>\n",
       "    <tr>\n",
       "      <th>...</th>\n",
       "      <td>...</td>\n",
       "      <td>...</td>\n",
       "    </tr>\n",
       "    <tr>\n",
       "      <th>300</th>\n",
       "      <td>2019-12-03</td>\n",
       "      <td>80182.35</td>\n",
       "    </tr>\n",
       "    <tr>\n",
       "      <th>301</th>\n",
       "      <td>2019-12-04</td>\n",
       "      <td>55411.69</td>\n",
       "    </tr>\n",
       "    <tr>\n",
       "      <th>302</th>\n",
       "      <td>2019-12-05</td>\n",
       "      <td>72937.70</td>\n",
       "    </tr>\n",
       "    <tr>\n",
       "      <th>303</th>\n",
       "      <td>2019-12-06</td>\n",
       "      <td>77694.64</td>\n",
       "    </tr>\n",
       "    <tr>\n",
       "      <th>304</th>\n",
       "      <td>2019-12-07</td>\n",
       "      <td>198114.26</td>\n",
       "    </tr>\n",
       "  </tbody>\n",
       "</table>\n",
       "<p>305 rows × 2 columns</p>\n",
       "</div>"
      ],
      "text/plain": [
       "          date    revenue\n",
       "0   2018-11-29   57676.33\n",
       "1   2018-11-30   47730.38\n",
       "2   2018-12-01   44833.98\n",
       "3   2018-12-03   31318.99\n",
       "4   2018-12-04   51973.43\n",
       "..         ...        ...\n",
       "300 2019-12-03   80182.35\n",
       "301 2019-12-04   55411.69\n",
       "302 2019-12-05   72937.70\n",
       "303 2019-12-06   77694.64\n",
       "304 2019-12-07  198114.26\n",
       "\n",
       "[305 rows x 2 columns]"
      ]
     },
     "execution_count": 119,
     "metadata": {},
     "output_type": "execute_result"
    }
   ],
   "source": [
    "df_clean['revenue']=df_clean['unitprice']*df_clean['quantity']\n",
    "df_revenue=df_clean.groupby('date')['revenue'].sum().reset_index()\n",
    "df_revenue"
   ]
  },
  {
   "cell_type": "code",
   "execution_count": 138,
   "id": "04a03995",
   "metadata": {},
   "outputs": [
    {
     "data": {
      "image/png": "[encoded data removed]",
      "text/plain": [
       "<Figure size 800x600 with 1 Axes>"
      ]
     },
     "metadata": {},
     "output_type": "display_data"
    }
   ],
   "source": [
    "#lets take a look on revenue per date\n",
    "plt.rcParams[\"figure.figsize\"] = [8, 6]\n",
    "sns.lineplot(data=df_revenue, x='date', y='revenue')\n",
    "plt.title('revenue per date')\n",
    "plt.show()"
   ]
  },
  {
   "cell_type": "markdown",
   "id": "f2da1498",
   "metadata": {},
   "source": [
    "as quantity growth at the second part of 2019 year, the unit price growth aswell. we have pretty high value of price in movember-december 2018"
   ]
  },
  {
   "cell_type": "markdown",
   "id": "0e891c8a",
   "metadata": {},
   "source": [
    "\n",
    "</div>\n",
    "<div class=\"alert alert-danger\" style=\"border-radius: 15px; box-shadow: 4px 4px 4px; border: 1px solid \">\n",
    "<b> Team Lead's comment:Is this revenue or just sum of price? Please check</b>\n",
    "    "
   ]
  },
  {
   "cell_type": "code",
   "execution_count": 121,
   "id": "fcb98b80",
   "metadata": {},
   "outputs": [
    {
     "data": {
      "text/html": [
       "<div>\n",
       "<style scoped>\n",
       "    .dataframe tbody tr th:only-of-type {\n",
       "        vertical-align: middle;\n",
       "    }\n",
       "\n",
       "    .dataframe tbody tr th {\n",
       "        vertical-align: top;\n",
       "    }\n",
       "\n",
       "    .dataframe thead th {\n",
       "        text-align: right;\n",
       "    }\n",
       "</style>\n",
       "<table border=\"1\" class=\"dataframe\">\n",
       "  <thead>\n",
       "    <tr style=\"text-align: right;\">\n",
       "      <th></th>\n",
       "      <th>invoiceno</th>\n",
       "      <th>stockcode</th>\n",
       "      <th>description</th>\n",
       "      <th>quantity</th>\n",
       "      <th>invoicedate</th>\n",
       "      <th>unitprice</th>\n",
       "      <th>customerid</th>\n",
       "      <th>date</th>\n",
       "      <th>quarter</th>\n",
       "    </tr>\n",
       "    <tr>\n",
       "      <th>revenue</th>\n",
       "      <th></th>\n",
       "      <th></th>\n",
       "      <th></th>\n",
       "      <th></th>\n",
       "      <th></th>\n",
       "      <th></th>\n",
       "      <th></th>\n",
       "      <th></th>\n",
       "      <th></th>\n",
       "    </tr>\n",
       "  </thead>\n",
       "  <tbody>\n",
       "    <tr>\n",
       "      <th>168469.60</th>\n",
       "      <td>581483</td>\n",
       "      <td>23843</td>\n",
       "      <td>PAPER CRAFT , LITTLE BIRDIE</td>\n",
       "      <td>80995</td>\n",
       "      <td>2019-12-07 09:15:00</td>\n",
       "      <td>2.08</td>\n",
       "      <td>16446.0</td>\n",
       "      <td>2019-12-07</td>\n",
       "      <td>2019Q4</td>\n",
       "    </tr>\n",
       "    <tr>\n",
       "      <th>77183.60</th>\n",
       "      <td>541431</td>\n",
       "      <td>23166</td>\n",
       "      <td>MEDIUM CERAMIC TOP STORAGE JAR</td>\n",
       "      <td>74215</td>\n",
       "      <td>2019-01-16 10:01:00</td>\n",
       "      <td>1.04</td>\n",
       "      <td>12346.0</td>\n",
       "      <td>2019-01-16</td>\n",
       "      <td>2019Q1</td>\n",
       "    </tr>\n",
       "    <tr>\n",
       "      <th>38970.00</th>\n",
       "      <td>556444</td>\n",
       "      <td>22502</td>\n",
       "      <td>PICNIC BASKET WICKER 60 PIECES</td>\n",
       "      <td>60</td>\n",
       "      <td>2019-06-08 15:28:00</td>\n",
       "      <td>649.50</td>\n",
       "      <td>15098.0</td>\n",
       "      <td>2019-06-08</td>\n",
       "      <td>2019Q2</td>\n",
       "    </tr>\n",
       "    <tr>\n",
       "      <th>7144.72</th>\n",
       "      <td>567423</td>\n",
       "      <td>23243</td>\n",
       "      <td>SET OF TEA COFFEE SUGAR TINS PANTRY</td>\n",
       "      <td>1412</td>\n",
       "      <td>2019-09-18 11:05:00</td>\n",
       "      <td>5.06</td>\n",
       "      <td>17450.0</td>\n",
       "      <td>2019-09-18</td>\n",
       "      <td>2019Q3</td>\n",
       "    </tr>\n",
       "    <tr>\n",
       "      <th>6539.40</th>\n",
       "      <td>550461</td>\n",
       "      <td>21108</td>\n",
       "      <td>FAIRY CAKE FLANNEL ASSORTED COLOUR</td>\n",
       "      <td>3114</td>\n",
       "      <td>2019-04-16 13:20:00</td>\n",
       "      <td>2.10</td>\n",
       "      <td>15749.0</td>\n",
       "      <td>2019-04-16</td>\n",
       "      <td>2019Q2</td>\n",
       "    </tr>\n",
       "    <tr>\n",
       "      <th>4992.00</th>\n",
       "      <td>573003</td>\n",
       "      <td>23084</td>\n",
       "      <td>RABBIT NIGHT LIGHT</td>\n",
       "      <td>2400</td>\n",
       "      <td>2019-10-25 12:11:00</td>\n",
       "      <td>2.08</td>\n",
       "      <td>14646.0</td>\n",
       "      <td>2019-10-25</td>\n",
       "      <td>2019Q4</td>\n",
       "    </tr>\n",
       "    <tr>\n",
       "      <th>4921.50</th>\n",
       "      <td>540815</td>\n",
       "      <td>85123A</td>\n",
       "      <td>WHITE HANGING HEART T-LIGHT HOLDER</td>\n",
       "      <td>1930</td>\n",
       "      <td>2019-01-09 12:55:00</td>\n",
       "      <td>2.55</td>\n",
       "      <td>15749.0</td>\n",
       "      <td>2019-01-09</td>\n",
       "      <td>2019Q1</td>\n",
       "    </tr>\n",
       "    <tr>\n",
       "      <th>4781.60</th>\n",
       "      <td>576365</td>\n",
       "      <td>22086</td>\n",
       "      <td>PAPER CHAIN KIT 50'S CHRISTMAS</td>\n",
       "      <td>688</td>\n",
       "      <td>2019-11-12 17:55:00</td>\n",
       "      <td>6.95</td>\n",
       "      <td>NaN</td>\n",
       "      <td>2019-11-12</td>\n",
       "      <td>2019Q4</td>\n",
       "    </tr>\n",
       "    <tr>\n",
       "      <th>4632.00</th>\n",
       "      <td>550461</td>\n",
       "      <td>85123A</td>\n",
       "      <td>WHITE HANGING HEART T-LIGHT HOLDER</td>\n",
       "      <td>1930</td>\n",
       "      <td>2019-04-16 13:20:00</td>\n",
       "      <td>2.40</td>\n",
       "      <td>15749.0</td>\n",
       "      <td>2019-04-16</td>\n",
       "      <td>2019Q2</td>\n",
       "    </tr>\n",
       "    <tr>\n",
       "      <th>4522.50</th>\n",
       "      <td>540818</td>\n",
       "      <td>48185</td>\n",
       "      <td>DOORMAT FAIRY CAKE</td>\n",
       "      <td>670</td>\n",
       "      <td>2019-01-09 12:57:00</td>\n",
       "      <td>6.75</td>\n",
       "      <td>15749.0</td>\n",
       "      <td>2019-01-09</td>\n",
       "      <td>2019Q1</td>\n",
       "    </tr>\n",
       "  </tbody>\n",
       "</table>\n",
       "</div>"
      ],
      "text/plain": [
       "          invoiceno stockcode                          description  quantity  \\\n",
       "revenue                                                                        \n",
       "168469.60    581483     23843          PAPER CRAFT , LITTLE BIRDIE     80995   \n",
       "77183.60     541431     23166       MEDIUM CERAMIC TOP STORAGE JAR     74215   \n",
       "38970.00     556444     22502       PICNIC BASKET WICKER 60 PIECES        60   \n",
       "7144.72      567423     23243  SET OF TEA COFFEE SUGAR TINS PANTRY      1412   \n",
       "6539.40      550461     21108   FAIRY CAKE FLANNEL ASSORTED COLOUR      3114   \n",
       "4992.00      573003     23084                   RABBIT NIGHT LIGHT      2400   \n",
       "4921.50      540815    85123A   WHITE HANGING HEART T-LIGHT HOLDER      1930   \n",
       "4781.60      576365     22086      PAPER CHAIN KIT 50'S CHRISTMAS        688   \n",
       "4632.00      550461    85123A   WHITE HANGING HEART T-LIGHT HOLDER      1930   \n",
       "4522.50      540818     48185                   DOORMAT FAIRY CAKE       670   \n",
       "\n",
       "                  invoicedate  unitprice  customerid       date quarter  \n",
       "revenue                                                                  \n",
       "168469.60 2019-12-07 09:15:00       2.08     16446.0 2019-12-07  2019Q4  \n",
       "77183.60  2019-01-16 10:01:00       1.04     12346.0 2019-01-16  2019Q1  \n",
       "38970.00  2019-06-08 15:28:00     649.50     15098.0 2019-06-08  2019Q2  \n",
       "7144.72   2019-09-18 11:05:00       5.06     17450.0 2019-09-18  2019Q3  \n",
       "6539.40   2019-04-16 13:20:00       2.10     15749.0 2019-04-16  2019Q2  \n",
       "4992.00   2019-10-25 12:11:00       2.08     14646.0 2019-10-25  2019Q4  \n",
       "4921.50   2019-01-09 12:55:00       2.55     15749.0 2019-01-09  2019Q1  \n",
       "4781.60   2019-11-12 17:55:00       6.95         NaN 2019-11-12  2019Q4  \n",
       "4632.00   2019-04-16 13:20:00       2.40     15749.0 2019-04-16  2019Q2  \n",
       "4522.50   2019-01-09 12:57:00       6.75     15749.0 2019-01-09  2019Q1  "
      ]
     },
     "execution_count": 121,
     "metadata": {},
     "output_type": "execute_result"
    }
   ],
   "source": [
    "#lets check the item with a biggest revenue\n",
    "df_clean.groupby(['revenue']).max().sort_values('revenue', ascending=False).head(10)"
   ]
  },
  {
   "cell_type": "markdown",
   "id": "c2e0ce2a",
   "metadata": {},
   "source": [
    "item that brought biggest revenue is `PAPER CRAFT , LITTLE BIRDIE` was sold in Q42019, we can assign it as cristmas item."
   ]
  },
  {
   "cell_type": "code",
   "execution_count": 122,
   "id": "f3c7b511",
   "metadata": {},
   "outputs": [
    {
     "data": {
      "image/png": "[encoded data removed]",
      "text/plain": [
       "<Figure size 2500x600 with 1 Axes>"
      ]
     },
     "metadata": {},
     "output_type": "display_data"
    }
   ],
   "source": [
    "#plot boxplot of unitprice to see outliers of price range\n",
    "sns.boxplot(y=df_clean[\"revenue\"])\n",
    "plt.ylim(0, 100)\n",
    "plt.title('graph of price range')\n",
    "plt.show()"
   ]
  },
  {
   "cell_type": "markdown",
   "id": "8acd708d",
   "metadata": {},
   "source": [
    "we have a lot of outliers here. average revenue is around 10."
   ]
  },
  {
   "cell_type": "markdown",
   "id": "559c562d",
   "metadata": {},
   "source": [
    "## popular sells"
   ]
  },
  {
   "cell_type": "code",
   "execution_count": 143,
   "id": "550352dc",
   "metadata": {},
   "outputs": [
    {
     "data": {
      "text/html": [
       "<div>\n",
       "<style scoped>\n",
       "    .dataframe tbody tr th:only-of-type {\n",
       "        vertical-align: middle;\n",
       "    }\n",
       "\n",
       "    .dataframe tbody tr th {\n",
       "        vertical-align: top;\n",
       "    }\n",
       "\n",
       "    .dataframe thead th {\n",
       "        text-align: right;\n",
       "    }\n",
       "</style>\n",
       "<table border=\"1\" class=\"dataframe\">\n",
       "  <thead>\n",
       "    <tr style=\"text-align: right;\">\n",
       "      <th></th>\n",
       "      <th>description</th>\n",
       "      <th>total_quantity</th>\n",
       "    </tr>\n",
       "  </thead>\n",
       "  <tbody>\n",
       "    <tr>\n",
       "      <th>0</th>\n",
       "      <td>PAPER CRAFT , LITTLE BIRDIE</td>\n",
       "      <td>80995</td>\n",
       "    </tr>\n",
       "    <tr>\n",
       "      <th>1</th>\n",
       "      <td>MEDIUM CERAMIC TOP STORAGE JAR</td>\n",
       "      <td>78033</td>\n",
       "    </tr>\n",
       "    <tr>\n",
       "      <th>2</th>\n",
       "      <td>WORLD WAR 2 GLIDERS ASSTD DESIGNS</td>\n",
       "      <td>55047</td>\n",
       "    </tr>\n",
       "    <tr>\n",
       "      <th>3</th>\n",
       "      <td>JUMBO BAG RED RETROSPOT</td>\n",
       "      <td>48478</td>\n",
       "    </tr>\n",
       "    <tr>\n",
       "      <th>4</th>\n",
       "      <td>WHITE HANGING HEART T-LIGHT HOLDER</td>\n",
       "      <td>37895</td>\n",
       "    </tr>\n",
       "    <tr>\n",
       "      <th>5</th>\n",
       "      <td>POPCORN HOLDER</td>\n",
       "      <td>36761</td>\n",
       "    </tr>\n",
       "    <tr>\n",
       "      <th>6</th>\n",
       "      <td>ASSORTED COLOUR BIRD ORNAMENT</td>\n",
       "      <td>36461</td>\n",
       "    </tr>\n",
       "    <tr>\n",
       "      <th>7</th>\n",
       "      <td>PACK OF 72 RETROSPOT CAKE CASES</td>\n",
       "      <td>36419</td>\n",
       "    </tr>\n",
       "    <tr>\n",
       "      <th>8</th>\n",
       "      <td>RABBIT NIGHT LIGHT</td>\n",
       "      <td>30788</td>\n",
       "    </tr>\n",
       "    <tr>\n",
       "      <th>9</th>\n",
       "      <td>MINI PAINT SET VINTAGE</td>\n",
       "      <td>26633</td>\n",
       "    </tr>\n",
       "  </tbody>\n",
       "</table>\n",
       "</div>"
      ],
      "text/plain": [
       "                          description  total_quantity\n",
       "0         PAPER CRAFT , LITTLE BIRDIE           80995\n",
       "1      MEDIUM CERAMIC TOP STORAGE JAR           78033\n",
       "2   WORLD WAR 2 GLIDERS ASSTD DESIGNS           55047\n",
       "3             JUMBO BAG RED RETROSPOT           48478\n",
       "4  WHITE HANGING HEART T-LIGHT HOLDER           37895\n",
       "5                      POPCORN HOLDER           36761\n",
       "6       ASSORTED COLOUR BIRD ORNAMENT           36461\n",
       "7     PACK OF 72 RETROSPOT CAKE CASES           36419\n",
       "8                  RABBIT NIGHT LIGHT           30788\n",
       "9             MINI PAINT SET VINTAGE            26633"
      ]
     },
     "execution_count": 143,
     "metadata": {},
     "output_type": "execute_result"
    }
   ],
   "source": [
    "#define popular items\n",
    "df_pop=df_clean.groupby(['description'])['quantity'].sum().sort_values(ascending=False).head(10).reset_index()\n",
    "df_pop.columns=['description', 'total_quantity']\n",
    "df_pop"
   ]
  },
  {
   "cell_type": "markdown",
   "id": "797e6075",
   "metadata": {},
   "source": [
    "\n",
    "</div>\n",
    "<div class=\"alert alert-danger\" style=\"border-radius: 15px; box-shadow: 4px 4px 4px; border: 1px solid \">\n",
    "<b> Team Lead's comment:Counting stockcodes here can doubtfully be a sign of popularity. Total quantitiy? Yes! Amount of invoices? Also yes! but count() of stockcode is just counting rows</b>\n",
    "    "
   ]
  },
  {
   "cell_type": "code",
   "execution_count": 144,
   "id": "d62a769f",
   "metadata": {},
   "outputs": [
    {
     "data": {
      "application/vnd.plotly.v1+json": {
       "config": {
        "plotlyServerURL": "https://plot.ly"
       },
       "data": [
        {
         "domain": {
          "x": [
           0,
           1
          ],
          "y": [
           0,
           1
          ]
         },
         "hovertemplate": "description=%{label}<br>total_quantity=%{value}<extra></extra>",
         "labels": [
          "PAPER CRAFT , LITTLE BIRDIE",
          "MEDIUM CERAMIC TOP STORAGE JAR",
          "WORLD WAR 2 GLIDERS ASSTD DESIGNS",
          "JUMBO BAG RED RETROSPOT",
          "WHITE HANGING HEART T-LIGHT HOLDER",
          "POPCORN HOLDER",
          "ASSORTED COLOUR BIRD ORNAMENT",
          "PACK OF 72 RETROSPOT CAKE CASES",
          "RABBIT NIGHT LIGHT",
          "MINI PAINT SET VINTAGE "
         ],
         "legendgroup": "",
         "name": "",
         "showlegend": true,
         "type": "pie",
         "values": [
          80995,
          78033,
          55047,
          48478,
          37895,
          36761,
          36461,
          36419,
          30788,
          26633
         ]
        }
       ],
       "layout": {
        "legend": {
         "tracegroupgap": 0
        },
        "template": {
         "data": {
          "bar": [
           {
            "error_x": {
             "color": "#2a3f5f"
            },
            "error_y": {
             "color": "#2a3f5f"
            },
            "marker": {
             "line": {
              "color": "#E5ECF6",
              "width": 0.5
             },
             "pattern": {
              "fillmode": "overlay",
              "size": 10,
              "solidity": 0.2
             }
            },
            "type": "bar"
           }
          ],
          "barpolar": [
           {
            "marker": {
             "line": {
              "color": "#E5ECF6",
              "width": 0.5
             },
             "pattern": {
              "fillmode": "overlay",
              "size": 10,
              "solidity": 0.2
             }
            },
            "type": "barpolar"
           }
          ],
          "carpet": [
           {
            "aaxis": {
             "endlinecolor": "#2a3f5f",
             "gridcolor": "white",
             "linecolor": "white",
             "minorgridcolor": "white",
             "startlinecolor": "#2a3f5f"
            },
            "baxis": {
             "endlinecolor": "#2a3f5f",
             "gridcolor": "white",
             "linecolor": "white",
             "minorgridcolor": "white",
             "startlinecolor": "#2a3f5f"
            },
            "type": "carpet"
           }
          ],
          "choropleth": [
           {
            "colorbar": {
             "outlinewidth": 0,
             "ticks": ""
            },
            "type": "choropleth"
           }
          ],
          "contour": [
           {
            "colorbar": {
             "outlinewidth": 0,
             "ticks": ""
            },
            "colorscale": [
             [
              0,
              "#0d0887"
             ],
             [
              0.1111111111111111,
              "#46039f"
             ],
             [
              0.2222222222222222,
              "#7201a8"
             ],
             [
              0.3333333333333333,
              "#9c179e"
             ],
             [
              0.4444444444444444,
              "#bd3786"
             ],
             [
              0.5555555555555556,
              "#d8576b"
             ],
             [
              0.6666666666666666,
              "#ed7953"
             ],
             [
              0.7777777777777778,
              "#fb9f3a"
             ],
             [
              0.8888888888888888,
              "#fdca26"
             ],
             [
              1,
              "#f0f921"
             ]
            ],
            "type": "contour"
           }
          ],
          "contourcarpet": [
           {
            "colorbar": {
             "outlinewidth": 0,
             "ticks": ""
            },
            "type": "contourcarpet"
           }
          ],
          "heatmap": [
           {
            "colorbar": {
             "outlinewidth": 0,
             "ticks": ""
            },
            "colorscale": [
             [
              0,
              "#0d0887"
             ],
             [
              0.1111111111111111,
              "#46039f"
             ],
             [
              0.2222222222222222,
              "#7201a8"
             ],
             [
              0.3333333333333333,
              "#9c179e"
             ],
             [
              0.4444444444444444,
              "#bd3786"
             ],
             [
              0.5555555555555556,
              "#d8576b"
             ],
             [
              0.6666666666666666,
              "#ed7953"
             ],
             [
              0.7777777777777778,
              "#fb9f3a"
             ],
             [
              0.8888888888888888,
              "#fdca26"
             ],
             [
              1,
              "#f0f921"
             ]
            ],
            "type": "heatmap"
           }
          ],
          "heatmapgl": [
           {
            "colorbar": {
             "outlinewidth": 0,
             "ticks": ""
            },
            "colorscale": [
             [
              0,
              "#0d0887"
             ],
             [
              0.1111111111111111,
              "#46039f"
             ],
             [
              0.2222222222222222,
              "#7201a8"
             ],
             [
              0.3333333333333333,
              "#9c179e"
             ],
             [
              0.4444444444444444,
              "#bd3786"
             ],
             [
              0.5555555555555556,
              "#d8576b"
             ],
             [
              0.6666666666666666,
              "#ed7953"
             ],
             [
              0.7777777777777778,
              "#fb9f3a"
             ],
             [
              0.8888888888888888,
              "#fdca26"
             ],
             [
              1,
              "#f0f921"
             ]
            ],
            "type": "heatmapgl"
           }
          ],
          "histogram": [
           {
            "marker": {
             "pattern": {
              "fillmode": "overlay",
              "size": 10,
              "solidity": 0.2
             }
            },
            "type": "histogram"
           }
          ],
          "histogram2d": [
           {
            "colorbar": {
             "outlinewidth": 0,
             "ticks": ""
            },
            "colorscale": [
             [
              0,
              "#0d0887"
             ],
             [
              0.1111111111111111,
              "#46039f"
             ],
             [
              0.2222222222222222,
              "#7201a8"
             ],
             [
              0.3333333333333333,
              "#9c179e"
             ],
             [
              0.4444444444444444,
              "#bd3786"
             ],
             [
              0.5555555555555556,
              "#d8576b"
             ],
             [
              0.6666666666666666,
              "#ed7953"
             ],
             [
              0.7777777777777778,
              "#fb9f3a"
             ],
             [
              0.8888888888888888,
              "#fdca26"
             ],
             [
              1,
              "#f0f921"
             ]
            ],
            "type": "histogram2d"
           }
          ],
          "histogram2dcontour": [
           {
            "colorbar": {
             "outlinewidth": 0,
             "ticks": ""
            },
            "colorscale": [
             [
              0,
              "#0d0887"
             ],
             [
              0.1111111111111111,
              "#46039f"
             ],
             [
              0.2222222222222222,
              "#7201a8"
             ],
             [
              0.3333333333333333,
              "#9c179e"
             ],
             [
              0.4444444444444444,
              "#bd3786"
             ],
             [
              0.5555555555555556,
              "#d8576b"
             ],
             [
              0.6666666666666666,
              "#ed7953"
             ],
             [
              0.7777777777777778,
              "#fb9f3a"
             ],
             [
              0.8888888888888888,
              "#fdca26"
             ],
             [
              1,
              "#f0f921"
             ]
            ],
            "type": "histogram2dcontour"
           }
          ],
          "mesh3d": [
           {
            "colorbar": {
             "outlinewidth": 0,
             "ticks": ""
            },
            "type": "mesh3d"
           }
          ],
          "parcoords": [
           {
            "line": {
             "colorbar": {
              "outlinewidth": 0,
              "ticks": ""
             }
            },
            "type": "parcoords"
           }
          ],
          "pie": [
           {
            "automargin": true,
            "type": "pie"
           }
          ],
          "scatter": [
           {
            "fillpattern": {
             "fillmode": "overlay",
             "size": 10,
             "solidity": 0.2
            },
            "type": "scatter"
           }
          ],
          "scatter3d": [
           {
            "line": {
             "colorbar": {
              "outlinewidth": 0,
              "ticks": ""
             }
            },
            "marker": {
             "colorbar": {
              "outlinewidth": 0,
              "ticks": ""
             }
            },
            "type": "scatter3d"
           }
          ],
          "scattercarpet": [
           {
            "marker": {
             "colorbar": {
              "outlinewidth": 0,
              "ticks": ""
             }
            },
            "type": "scattercarpet"
           }
          ],
          "scattergeo": [
           {
            "marker": {
             "colorbar": {
              "outlinewidth": 0,
              "ticks": ""
             }
            },
            "type": "scattergeo"
           }
          ],
          "scattergl": [
           {
            "marker": {
             "colorbar": {
              "outlinewidth": 0,
              "ticks": ""
             }
            },
            "type": "scattergl"
           }
          ],
          "scattermapbox": [
           {
            "marker": {
             "colorbar": {
              "outlinewidth": 0,
              "ticks": ""
             }
            },
            "type": "scattermapbox"
           }
          ],
          "scatterpolar": [
           {
            "marker": {
             "colorbar": {
              "outlinewidth": 0,
              "ticks": ""
             }
            },
            "type": "scatterpolar"
           }
          ],
          "scatterpolargl": [
           {
            "marker": {
             "colorbar": {
              "outlinewidth": 0,
              "ticks": ""
             }
            },
            "type": "scatterpolargl"
           }
          ],
          "scatterternary": [
           {
            "marker": {
             "colorbar": {
              "outlinewidth": 0,
              "ticks": ""
             }
            },
            "type": "scatterternary"
           }
          ],
          "surface": [
           {
            "colorbar": {
             "outlinewidth": 0,
             "ticks": ""
            },
            "colorscale": [
             [
              0,
              "#0d0887"
             ],
             [
              0.1111111111111111,
              "#46039f"
             ],
             [
              0.2222222222222222,
              "#7201a8"
             ],
             [
              0.3333333333333333,
              "#9c179e"
             ],
             [
              0.4444444444444444,
              "#bd3786"
             ],
             [
              0.5555555555555556,
              "#d8576b"
             ],
             [
              0.6666666666666666,
              "#ed7953"
             ],
             [
              0.7777777777777778,
              "#fb9f3a"
             ],
             [
              0.8888888888888888,
              "#fdca26"
             ],
             [
              1,
              "#f0f921"
             ]
            ],
            "type": "surface"
           }
          ],
          "table": [
           {
            "cells": {
             "fill": {
              "color": "#EBF0F8"
             },
             "line": {
              "color": "white"
             }
            },
            "header": {
             "fill": {
              "color": "#C8D4E3"
             },
             "line": {
              "color": "white"
             }
            },
            "type": "table"
           }
          ]
         },
         "layout": {
          "annotationdefaults": {
           "arrowcolor": "#2a3f5f",
           "arrowhead": 0,
           "arrowwidth": 1
          },
          "autotypenumbers": "strict",
          "coloraxis": {
           "colorbar": {
            "outlinewidth": 0,
            "ticks": ""
           }
          },
          "colorscale": {
           "diverging": [
            [
             0,
             "#8e0152"
            ],
            [
             0.1,
             "#c51b7d"
            ],
            [
             0.2,
             "#de77ae"
            ],
            [
             0.3,
             "#f1b6da"
            ],
            [
             0.4,
             "#fde0ef"
            ],
            [
             0.5,
             "#f7f7f7"
            ],
            [
             0.6,
             "#e6f5d0"
            ],
            [
             0.7,
             "#b8e186"
            ],
            [
             0.8,
             "#7fbc41"
            ],
            [
             0.9,
             "#4d9221"
            ],
            [
             1,
             "#276419"
            ]
           ],
           "sequential": [
            [
             0,
             "#0d0887"
            ],
            [
             0.1111111111111111,
             "#46039f"
            ],
            [
             0.2222222222222222,
             "#7201a8"
            ],
            [
             0.3333333333333333,
             "#9c179e"
            ],
            [
             0.4444444444444444,
             "#bd3786"
            ],
            [
             0.5555555555555556,
             "#d8576b"
            ],
            [
             0.6666666666666666,
             "#ed7953"
            ],
            [
             0.7777777777777778,
             "#fb9f3a"
            ],
            [
             0.8888888888888888,
             "#fdca26"
            ],
            [
             1,
             "#f0f921"
            ]
           ],
           "sequentialminus": [
            [
             0,
             "#0d0887"
            ],
            [
             0.1111111111111111,
             "#46039f"
            ],
            [
             0.2222222222222222,
             "#7201a8"
            ],
            [
             0.3333333333333333,
             "#9c179e"
            ],
            [
             0.4444444444444444,
             "#bd3786"
            ],
            [
             0.5555555555555556,
             "#d8576b"
            ],
            [
             0.6666666666666666,
             "#ed7953"
            ],
            [
             0.7777777777777778,
             "#fb9f3a"
            ],
            [
             0.8888888888888888,
             "#fdca26"
            ],
            [
             1,
             "#f0f921"
            ]
           ]
          },
          "colorway": [
           "#636efa",
           "#EF553B",
           "#00cc96",
           "#ab63fa",
           "#FFA15A",
           "#19d3f3",
           "#FF6692",
           "#B6E880",
           "#FF97FF",
           "#FECB52"
          ],
          "font": {
           "color": "#2a3f5f"
          },
          "geo": {
           "bgcolor": "white",
           "lakecolor": "white",
           "landcolor": "#E5ECF6",
           "showlakes": true,
           "showland": true,
           "subunitcolor": "white"
          },
          "hoverlabel": {
           "align": "left"
          },
          "hovermode": "closest",
          "mapbox": {
           "style": "light"
          },
          "paper_bgcolor": "white",
          "plot_bgcolor": "#E5ECF6",
          "polar": {
           "angularaxis": {
            "gridcolor": "white",
            "linecolor": "white",
            "ticks": ""
           },
           "bgcolor": "#E5ECF6",
           "radialaxis": {
            "gridcolor": "white",
            "linecolor": "white",
            "ticks": ""
           }
          },
          "scene": {
           "xaxis": {
            "backgroundcolor": "#E5ECF6",
            "gridcolor": "white",
            "gridwidth": 2,
            "linecolor": "white",
            "showbackground": true,
            "ticks": "",
            "zerolinecolor": "white"
           },
           "yaxis": {
            "backgroundcolor": "#E5ECF6",
            "gridcolor": "white",
            "gridwidth": 2,
            "linecolor": "white",
            "showbackground": true,
            "ticks": "",
            "zerolinecolor": "white"
           },
           "zaxis": {
            "backgroundcolor": "#E5ECF6",
            "gridcolor": "white",
            "gridwidth": 2,
            "linecolor": "white",
            "showbackground": true,
            "ticks": "",
            "zerolinecolor": "white"
           }
          },
          "shapedefaults": {
           "line": {
            "color": "#2a3f5f"
           }
          },
          "ternary": {
           "aaxis": {
            "gridcolor": "white",
            "linecolor": "white",
            "ticks": ""
           },
           "baxis": {
            "gridcolor": "white",
            "linecolor": "white",
            "ticks": ""
           },
           "bgcolor": "#E5ECF6",
           "caxis": {
            "gridcolor": "white",
            "linecolor": "white",
            "ticks": ""
           }
          },
          "title": {
           "x": 0.05
          },
          "xaxis": {
           "automargin": true,
           "gridcolor": "white",
           "linecolor": "white",
           "ticks": "",
           "title": {
            "standoff": 15
           },
           "zerolinecolor": "white",
           "zerolinewidth": 2
          },
          "yaxis": {
           "automargin": true,
           "gridcolor": "white",
           "linecolor": "white",
           "ticks": "",
           "title": {
            "standoff": 15
           },
           "zerolinecolor": "white",
           "zerolinewidth": 2
          }
         }
        },
        "title": {
         "text": "popular items"
        }
       }
      },
      "text/html": [
       "<div>                            <div id=\"b56c34b0-368f-4525-93e0-1f61750709f7\" class=\"plotly-graph-div\" style=\"height:525px; width:100%;\"></div>            <script type=\"text/javascript\">                require([\"plotly\"], function(Plotly) {                    window.PLOTLYENV=window.PLOTLYENV || {};                                    if (document.getElementById(\"b56c34b0-368f-4525-93e0-1f61750709f7\")) {                    Plotly.newPlot(                        \"b56c34b0-368f-4525-93e0-1f61750709f7\",                        [{\"domain\":{\"x\":[0.0,1.0],\"y\":[0.0,1.0]},\"hovertemplate\":\"description=%{label}<br>total_quantity=%{value}<extra></extra>\",\"labels\":[\"PAPER CRAFT , LITTLE BIRDIE\",\"MEDIUM CERAMIC TOP STORAGE JAR\",\"WORLD WAR 2 GLIDERS ASSTD DESIGNS\",\"JUMBO BAG RED RETROSPOT\",\"WHITE HANGING HEART T-LIGHT HOLDER\",\"POPCORN HOLDER\",\"ASSORTED COLOUR BIRD ORNAMENT\",\"PACK OF 72 RETROSPOT CAKE CASES\",\"RABBIT NIGHT LIGHT\",\"MINI PAINT SET VINTAGE \"],\"legendgroup\":\"\",\"name\":\"\",\"showlegend\":true,\"values\":[80995,78033,55047,48478,37895,36761,36461,36419,30788,26633],\"type\":\"pie\"}],                        {\"template\":{\"data\":{\"histogram2dcontour\":[{\"type\":\"histogram2dcontour\",\"colorbar\":{\"outlinewidth\":0,\"ticks\":\"\"},\"colorscale\":[[0.0,\"#0d0887\"],[0.1111111111111111,\"#46039f\"],[0.2222222222222222,\"#7201a8\"],[0.3333333333333333,\"#9c179e\"],[0.4444444444444444,\"#bd3786\"],[0.5555555555555556,\"#d8576b\"],[0.6666666666666666,\"#ed7953\"],[0.7777777777777778,\"#fb9f3a\"],[0.8888888888888888,\"#fdca26\"],[1.0,\"#f0f921\"]]}],\"choropleth\":[{\"type\":\"choropleth\",\"colorbar\":{\"outlinewidth\":0,\"ticks\":\"\"}}],\"histogram2d\":[{\"type\":\"histogram2d\",\"colorbar\":{\"outlinewidth\":0,\"ticks\":\"\"},\"colorscale\":[[0.0,\"#0d0887\"],[0.1111111111111111,\"#46039f\"],[0.2222222222222222,\"#7201a8\"],[0.3333333333333333,\"#9c179e\"],[0.4444444444444444,\"#bd3786\"],[0.5555555555555556,\"#d8576b\"],[0.6666666666666666,\"#ed7953\"],[0.7777777777777778,\"#fb9f3a\"],[0.8888888888888888,\"#fdca26\"],[1.0,\"#f0f921\"]]}],\"heatmap\":[{\"type\":\"heatmap\",\"colorbar\":{\"outlinewidth\":0,\"ticks\":\"\"},\"colorscale\":[[0.0,\"#0d0887\"],[0.1111111111111111,\"#46039f\"],[0.2222222222222222,\"#7201a8\"],[0.3333333333333333,\"#9c179e\"],[0.4444444444444444,\"#bd3786\"],[0.5555555555555556,\"#d8576b\"],[0.6666666666666666,\"#ed7953\"],[0.7777777777777778,\"#fb9f3a\"],[0.8888888888888888,\"#fdca26\"],[1.0,\"#f0f921\"]]}],\"heatmapgl\":[{\"type\":\"heatmapgl\",\"colorbar\":{\"outlinewidth\":0,\"ticks\":\"\"},\"colorscale\":[[0.0,\"#0d0887\"],[0.1111111111111111,\"#46039f\"],[0.2222222222222222,\"#7201a8\"],[0.3333333333333333,\"#9c179e\"],[0.4444444444444444,\"#bd3786\"],[0.5555555555555556,\"#d8576b\"],[0.6666666666666666,\"#ed7953\"],[0.7777777777777778,\"#fb9f3a\"],[0.8888888888888888,\"#fdca26\"],[1.0,\"#f0f921\"]]}],\"contourcarpet\":[{\"type\":\"contourcarpet\",\"colorbar\":{\"outlinewidth\":0,\"ticks\":\"\"}}],\"contour\":[{\"type\":\"contour\",\"colorbar\":{\"outlinewidth\":0,\"ticks\":\"\"},\"colorscale\":[[0.0,\"#0d0887\"],[0.1111111111111111,\"#46039f\"],[0.2222222222222222,\"#7201a8\"],[0.3333333333333333,\"#9c179e\"],[0.4444444444444444,\"#bd3786\"],[0.5555555555555556,\"#d8576b\"],[0.6666666666666666,\"#ed7953\"],[0.7777777777777778,\"#fb9f3a\"],[0.8888888888888888,\"#fdca26\"],[1.0,\"#f0f921\"]]}],\"surface\":[{\"type\":\"surface\",\"colorbar\":{\"outlinewidth\":0,\"ticks\":\"\"},\"colorscale\":[[0.0,\"#0d0887\"],[0.1111111111111111,\"#46039f\"],[0.2222222222222222,\"#7201a8\"],[0.3333333333333333,\"#9c179e\"],[0.4444444444444444,\"#bd3786\"],[0.5555555555555556,\"#d8576b\"],[0.6666666666666666,\"#ed7953\"],[0.7777777777777778,\"#fb9f3a\"],[0.8888888888888888,\"#fdca26\"],[1.0,\"#f0f921\"]]}],\"mesh3d\":[{\"type\":\"mesh3d\",\"colorbar\":{\"outlinewidth\":0,\"ticks\":\"\"}}],\"scatter\":[{\"fillpattern\":{\"fillmode\":\"overlay\",\"size\":10,\"solidity\":0.2},\"type\":\"scatter\"}],\"parcoords\":[{\"type\":\"parcoords\",\"line\":{\"colorbar\":{\"outlinewidth\":0,\"ticks\":\"\"}}}],\"scatterpolargl\":[{\"type\":\"scatterpolargl\",\"marker\":{\"colorbar\":{\"outlinewidth\":0,\"ticks\":\"\"}}}],\"bar\":[{\"error_x\":{\"color\":\"#2a3f5f\"},\"error_y\":{\"color\":\"#2a3f5f\"},\"marker\":{\"line\":{\"color\":\"#E5ECF6\",\"width\":0.5},\"pattern\":{\"fillmode\":\"overlay\",\"size\":10,\"solidity\":0.2}},\"type\":\"bar\"}],\"scattergeo\":[{\"type\":\"scattergeo\",\"marker\":{\"colorbar\":{\"outlinewidth\":0,\"ticks\":\"\"}}}],\"scatterpolar\":[{\"type\":\"scatterpolar\",\"marker\":{\"colorbar\":{\"outlinewidth\":0,\"ticks\":\"\"}}}],\"histogram\":[{\"marker\":{\"pattern\":{\"fillmode\":\"overlay\",\"size\":10,\"solidity\":0.2}},\"type\":\"histogram\"}],\"scattergl\":[{\"type\":\"scattergl\",\"marker\":{\"colorbar\":{\"outlinewidth\":0,\"ticks\":\"\"}}}],\"scatter3d\":[{\"type\":\"scatter3d\",\"line\":{\"colorbar\":{\"outlinewidth\":0,\"ticks\":\"\"}},\"marker\":{\"colorbar\":{\"outlinewidth\":0,\"ticks\":\"\"}}}],\"scattermapbox\":[{\"type\":\"scattermapbox\",\"marker\":{\"colorbar\":{\"outlinewidth\":0,\"ticks\":\"\"}}}],\"scatterternary\":[{\"type\":\"scatterternary\",\"marker\":{\"colorbar\":{\"outlinewidth\":0,\"ticks\":\"\"}}}],\"scattercarpet\":[{\"type\":\"scattercarpet\",\"marker\":{\"colorbar\":{\"outlinewidth\":0,\"ticks\":\"\"}}}],\"carpet\":[{\"aaxis\":{\"endlinecolor\":\"#2a3f5f\",\"gridcolor\":\"white\",\"linecolor\":\"white\",\"minorgridcolor\":\"white\",\"startlinecolor\":\"#2a3f5f\"},\"baxis\":{\"endlinecolor\":\"#2a3f5f\",\"gridcolor\":\"white\",\"linecolor\":\"white\",\"minorgridcolor\":\"white\",\"startlinecolor\":\"#2a3f5f\"},\"type\":\"carpet\"}],\"table\":[{\"cells\":{\"fill\":{\"color\":\"#EBF0F8\"},\"line\":{\"color\":\"white\"}},\"header\":{\"fill\":{\"color\":\"#C8D4E3\"},\"line\":{\"color\":\"white\"}},\"type\":\"table\"}],\"barpolar\":[{\"marker\":{\"line\":{\"color\":\"#E5ECF6\",\"width\":0.5},\"pattern\":{\"fillmode\":\"overlay\",\"size\":10,\"solidity\":0.2}},\"type\":\"barpolar\"}],\"pie\":[{\"automargin\":true,\"type\":\"pie\"}]},\"layout\":{\"autotypenumbers\":\"strict\",\"colorway\":[\"#636efa\",\"#EF553B\",\"#00cc96\",\"#ab63fa\",\"#FFA15A\",\"#19d3f3\",\"#FF6692\",\"#B6E880\",\"#FF97FF\",\"#FECB52\"],\"font\":{\"color\":\"#2a3f5f\"},\"hovermode\":\"closest\",\"hoverlabel\":{\"align\":\"left\"},\"paper_bgcolor\":\"white\",\"plot_bgcolor\":\"#E5ECF6\",\"polar\":{\"bgcolor\":\"#E5ECF6\",\"angularaxis\":{\"gridcolor\":\"white\",\"linecolor\":\"white\",\"ticks\":\"\"},\"radialaxis\":{\"gridcolor\":\"white\",\"linecolor\":\"white\",\"ticks\":\"\"}},\"ternary\":{\"bgcolor\":\"#E5ECF6\",\"aaxis\":{\"gridcolor\":\"white\",\"linecolor\":\"white\",\"ticks\":\"\"},\"baxis\":{\"gridcolor\":\"white\",\"linecolor\":\"white\",\"ticks\":\"\"},\"caxis\":{\"gridcolor\":\"white\",\"linecolor\":\"white\",\"ticks\":\"\"}},\"coloraxis\":{\"colorbar\":{\"outlinewidth\":0,\"ticks\":\"\"}},\"colorscale\":{\"sequential\":[[0.0,\"#0d0887\"],[0.1111111111111111,\"#46039f\"],[0.2222222222222222,\"#7201a8\"],[0.3333333333333333,\"#9c179e\"],[0.4444444444444444,\"#bd3786\"],[0.5555555555555556,\"#d8576b\"],[0.6666666666666666,\"#ed7953\"],[0.7777777777777778,\"#fb9f3a\"],[0.8888888888888888,\"#fdca26\"],[1.0,\"#f0f921\"]],\"sequentialminus\":[[0.0,\"#0d0887\"],[0.1111111111111111,\"#46039f\"],[0.2222222222222222,\"#7201a8\"],[0.3333333333333333,\"#9c179e\"],[0.4444444444444444,\"#bd3786\"],[0.5555555555555556,\"#d8576b\"],[0.6666666666666666,\"#ed7953\"],[0.7777777777777778,\"#fb9f3a\"],[0.8888888888888888,\"#fdca26\"],[1.0,\"#f0f921\"]],\"diverging\":[[0,\"#8e0152\"],[0.1,\"#c51b7d\"],[0.2,\"#de77ae\"],[0.3,\"#f1b6da\"],[0.4,\"#fde0ef\"],[0.5,\"#f7f7f7\"],[0.6,\"#e6f5d0\"],[0.7,\"#b8e186\"],[0.8,\"#7fbc41\"],[0.9,\"#4d9221\"],[1,\"#276419\"]]},\"xaxis\":{\"gridcolor\":\"white\",\"linecolor\":\"white\",\"ticks\":\"\",\"title\":{\"standoff\":15},\"zerolinecolor\":\"white\",\"automargin\":true,\"zerolinewidth\":2},\"yaxis\":{\"gridcolor\":\"white\",\"linecolor\":\"white\",\"ticks\":\"\",\"title\":{\"standoff\":15},\"zerolinecolor\":\"white\",\"automargin\":true,\"zerolinewidth\":2},\"scene\":{\"xaxis\":{\"backgroundcolor\":\"#E5ECF6\",\"gridcolor\":\"white\",\"linecolor\":\"white\",\"showbackground\":true,\"ticks\":\"\",\"zerolinecolor\":\"white\",\"gridwidth\":2},\"yaxis\":{\"backgroundcolor\":\"#E5ECF6\",\"gridcolor\":\"white\",\"linecolor\":\"white\",\"showbackground\":true,\"ticks\":\"\",\"zerolinecolor\":\"white\",\"gridwidth\":2},\"zaxis\":{\"backgroundcolor\":\"#E5ECF6\",\"gridcolor\":\"white\",\"linecolor\":\"white\",\"showbackground\":true,\"ticks\":\"\",\"zerolinecolor\":\"white\",\"gridwidth\":2}},\"shapedefaults\":{\"line\":{\"color\":\"#2a3f5f\"}},\"annotationdefaults\":{\"arrowcolor\":\"#2a3f5f\",\"arrowhead\":0,\"arrowwidth\":1},\"geo\":{\"bgcolor\":\"white\",\"landcolor\":\"#E5ECF6\",\"subunitcolor\":\"white\",\"showland\":true,\"showlakes\":true,\"lakecolor\":\"white\"},\"title\":{\"x\":0.05},\"mapbox\":{\"style\":\"light\"}}},\"legend\":{\"tracegroupgap\":0},\"title\":{\"text\":\"popular items\"}},                        {\"responsive\": true}                    ).then(function(){\n",
       "                            \n",
       "var gd = document.getElementById('b56c34b0-368f-4525-93e0-1f61750709f7');\n",
       "var x = new MutationObserver(function (mutations, observer) {{\n",
       "        var display = window.getComputedStyle(gd).display;\n",
       "        if (!display || display === 'none') {{\n",
       "            console.log([gd, 'removed!']);\n",
       "            Plotly.purge(gd);\n",
       "            observer.disconnect();\n",
       "        }}\n",
       "}});\n",
       "\n",
       "// Listen for the removal of the full notebook cells\n",
       "var notebookContainer = gd.closest('#notebook-container');\n",
       "if (notebookContainer) {{\n",
       "    x.observe(notebookContainer, {childList: true});\n",
       "}}\n",
       "\n",
       "// Listen for the clearing of the current output cell\n",
       "var outputEl = gd.closest('.output');\n",
       "if (outputEl) {{\n",
       "    x.observe(outputEl, {childList: true});\n",
       "}}\n",
       "\n",
       "                        })                };                });            </script>        </div>"
      ]
     },
     "metadata": {},
     "output_type": "display_data"
    }
   ],
   "source": [
    "fig = px.pie(df_pop, values='total_quantity', names='description', title='popular items')\n",
    "fig.show()"
   ]
  },
  {
   "cell_type": "markdown",
   "id": "d4ea914a",
   "metadata": {},
   "source": [
    "\n",
    "we have a top 3 popular items sold, they was sold more often then others: WHITE HANGING HEART T-LIGHT HOLDER, JUMBO BAG RED RETROSPOT, REGENCY CAKESTAND 3 TIER."
   ]
  },
  {
   "cell_type": "code",
   "execution_count": 47,
   "id": "5987a9e9",
   "metadata": {},
   "outputs": [
    {
     "data": {
      "text/plain": [
       "PAPER CHAIN KIT 50'S CHRISTMAS        755\n",
       "RABBIT NIGHT LIGHT                    727\n",
       "HOT WATER BOTTLE KEEP CALM            575\n",
       "PAPER CHAIN KIT VINTAGE CHRISTMAS     523\n",
       "JUMBO BAG 50'S CHRISTMAS              504\n",
       "WHITE HANGING HEART T-LIGHT HOLDER    495\n",
       "JUMBO BAG RED RETROSPOT               495\n",
       "POPCORN HOLDER                        469\n",
       "HAND WARMER OWL DESIGN                450\n",
       "GARDENERS KNEELING PAD KEEP CALM      437\n",
       "Name: description, dtype: int64"
      ]
     },
     "execution_count": 47,
     "metadata": {},
     "output_type": "execute_result"
    }
   ],
   "source": [
    "#lets investigate price at Q4 2019, there is a positive growth at these period, lets find out how it connected\n",
    "df_q4=df_clean[df_clean['quarter']=='2019Q4']\n",
    "df_q4['description'].value_counts().sort_values(ascending=False).head(10)"
   ]
  },
  {
   "cell_type": "markdown",
   "id": "b5e7350f",
   "metadata": {},
   "source": [
    "at previous graph we saw positive growth of prices and quantity of items at Q4 period, now we can conclude thats because of the cristmas."
   ]
  },
  {
   "cell_type": "markdown",
   "id": "d75371a5",
   "metadata": {},
   "source": [
    "## group and plot data to show how many orders place one user, how many items order one user, discover mean value and outliers and describe."
   ]
  },
  {
   "cell_type": "code",
   "execution_count": 48,
   "id": "a2d7320e",
   "metadata": {},
   "outputs": [
    {
     "data": {
      "text/html": [
       "<div>\n",
       "<style scoped>\n",
       "    .dataframe tbody tr th:only-of-type {\n",
       "        vertical-align: middle;\n",
       "    }\n",
       "\n",
       "    .dataframe tbody tr th {\n",
       "        vertical-align: top;\n",
       "    }\n",
       "\n",
       "    .dataframe thead th {\n",
       "        text-align: right;\n",
       "    }\n",
       "</style>\n",
       "<table border=\"1\" class=\"dataframe\">\n",
       "  <thead>\n",
       "    <tr style=\"text-align: right;\">\n",
       "      <th></th>\n",
       "      <th>customerid</th>\n",
       "      <th>invoiceno</th>\n",
       "    </tr>\n",
       "  </thead>\n",
       "  <tbody>\n",
       "    <tr>\n",
       "      <th>0</th>\n",
       "      <td>12346.0</td>\n",
       "      <td>1</td>\n",
       "    </tr>\n",
       "    <tr>\n",
       "      <th>1</th>\n",
       "      <td>12347.0</td>\n",
       "      <td>7</td>\n",
       "    </tr>\n",
       "    <tr>\n",
       "      <th>2</th>\n",
       "      <td>12348.0</td>\n",
       "      <td>4</td>\n",
       "    </tr>\n",
       "    <tr>\n",
       "      <th>3</th>\n",
       "      <td>12349.0</td>\n",
       "      <td>1</td>\n",
       "    </tr>\n",
       "    <tr>\n",
       "      <th>4</th>\n",
       "      <td>12350.0</td>\n",
       "      <td>1</td>\n",
       "    </tr>\n",
       "    <tr>\n",
       "      <th>5</th>\n",
       "      <td>12352.0</td>\n",
       "      <td>7</td>\n",
       "    </tr>\n",
       "    <tr>\n",
       "      <th>6</th>\n",
       "      <td>12353.0</td>\n",
       "      <td>1</td>\n",
       "    </tr>\n",
       "    <tr>\n",
       "      <th>7</th>\n",
       "      <td>12354.0</td>\n",
       "      <td>1</td>\n",
       "    </tr>\n",
       "    <tr>\n",
       "      <th>8</th>\n",
       "      <td>12355.0</td>\n",
       "      <td>1</td>\n",
       "    </tr>\n",
       "    <tr>\n",
       "      <th>9</th>\n",
       "      <td>12356.0</td>\n",
       "      <td>3</td>\n",
       "    </tr>\n",
       "  </tbody>\n",
       "</table>\n",
       "</div>"
      ],
      "text/plain": [
       "   customerid  invoiceno\n",
       "0     12346.0          1\n",
       "1     12347.0          7\n",
       "2     12348.0          4\n",
       "3     12349.0          1\n",
       "4     12350.0          1\n",
       "5     12352.0          7\n",
       "6     12353.0          1\n",
       "7     12354.0          1\n",
       "8     12355.0          1\n",
       "9     12356.0          3"
      ]
     },
     "execution_count": 48,
     "metadata": {},
     "output_type": "execute_result"
    }
   ],
   "source": [
    "#orders per user\n",
    "df_opu=df_clean.groupby('customerid')['invoiceno'].nunique().head(10).reset_index()\n",
    "df_opu"
   ]
  },
  {
   "cell_type": "code",
   "execution_count": 49,
   "id": "c67c2e3b",
   "metadata": {},
   "outputs": [
    {
     "data": {
      "text/html": [
       "<div>\n",
       "<style scoped>\n",
       "    .dataframe tbody tr th:only-of-type {\n",
       "        vertical-align: middle;\n",
       "    }\n",
       "\n",
       "    .dataframe tbody tr th {\n",
       "        vertical-align: top;\n",
       "    }\n",
       "\n",
       "    .dataframe thead th {\n",
       "        text-align: right;\n",
       "    }\n",
       "</style>\n",
       "<table border=\"1\" class=\"dataframe\">\n",
       "  <thead>\n",
       "    <tr style=\"text-align: right;\">\n",
       "      <th></th>\n",
       "      <th>customerid</th>\n",
       "      <th>invoiceno</th>\n",
       "      <th>n_items</th>\n",
       "    </tr>\n",
       "  </thead>\n",
       "  <tbody>\n",
       "    <tr>\n",
       "      <th>0</th>\n",
       "      <td>12346.0</td>\n",
       "      <td>541431</td>\n",
       "      <td>1</td>\n",
       "    </tr>\n",
       "    <tr>\n",
       "      <th>1</th>\n",
       "      <td>12347.0</td>\n",
       "      <td>537626</td>\n",
       "      <td>31</td>\n",
       "    </tr>\n",
       "    <tr>\n",
       "      <th>2</th>\n",
       "      <td>12347.0</td>\n",
       "      <td>542237</td>\n",
       "      <td>29</td>\n",
       "    </tr>\n",
       "    <tr>\n",
       "      <th>3</th>\n",
       "      <td>12347.0</td>\n",
       "      <td>549222</td>\n",
       "      <td>24</td>\n",
       "    </tr>\n",
       "    <tr>\n",
       "      <th>4</th>\n",
       "      <td>12347.0</td>\n",
       "      <td>556201</td>\n",
       "      <td>18</td>\n",
       "    </tr>\n",
       "    <tr>\n",
       "      <th>5</th>\n",
       "      <td>12347.0</td>\n",
       "      <td>562032</td>\n",
       "      <td>22</td>\n",
       "    </tr>\n",
       "    <tr>\n",
       "      <th>6</th>\n",
       "      <td>12347.0</td>\n",
       "      <td>573511</td>\n",
       "      <td>47</td>\n",
       "    </tr>\n",
       "    <tr>\n",
       "      <th>7</th>\n",
       "      <td>12347.0</td>\n",
       "      <td>581180</td>\n",
       "      <td>11</td>\n",
       "    </tr>\n",
       "    <tr>\n",
       "      <th>8</th>\n",
       "      <td>12348.0</td>\n",
       "      <td>539318</td>\n",
       "      <td>12</td>\n",
       "    </tr>\n",
       "    <tr>\n",
       "      <th>9</th>\n",
       "      <td>12348.0</td>\n",
       "      <td>541998</td>\n",
       "      <td>5</td>\n",
       "    </tr>\n",
       "  </tbody>\n",
       "</table>\n",
       "</div>"
      ],
      "text/plain": [
       "   customerid invoiceno  n_items\n",
       "0     12346.0    541431        1\n",
       "1     12347.0    537626       31\n",
       "2     12347.0    542237       29\n",
       "3     12347.0    549222       24\n",
       "4     12347.0    556201       18\n",
       "5     12347.0    562032       22\n",
       "6     12347.0    573511       47\n",
       "7     12347.0    581180       11\n",
       "8     12348.0    539318       12\n",
       "9     12348.0    541998        5"
      ]
     },
     "execution_count": 49,
     "metadata": {},
     "output_type": "execute_result"
    }
   ],
   "source": [
    "#how many items order each user per one order\n",
    "df_ipu=df_clean.groupby(['customerid', 'invoiceno'])['description'].nunique().head(10).reset_index()\n",
    "df_ipu.columns=['customerid', 'invoiceno', 'n_items']\n",
    "df_ipu"
   ]
  },
  {
   "cell_type": "code",
   "execution_count": 50,
   "id": "adf265ce",
   "metadata": {},
   "outputs": [
    {
     "data": {
      "image/png": "[encoded data removed]",
      "text/plain": [
       "<Figure size 1200x500 with 1 Axes>"
      ]
     },
     "metadata": {},
     "output_type": "display_data"
    }
   ],
   "source": [
    "#plot number of items per user each order.\n",
    "plt.rcParams[\"figure.autolayout\"] = True\n",
    "sns.boxplot(x=df_ipu[\"n_items\"])\n",
    "plt.title('number of items per order')\n",
    "plt.show()"
   ]
  },
  {
   "cell_type": "markdown",
   "id": "223b6dd6",
   "metadata": {},
   "source": [
    "the average number of items per order is 20"
   ]
  },
  {
   "cell_type": "code",
   "execution_count": 51,
   "id": "9bd85b32",
   "metadata": {},
   "outputs": [
    {
     "data": {
      "image/png": "[encoded data removed]",
      "text/plain": [
       "<Figure size 1200x500 with 1 Axes>"
      ]
     },
     "metadata": {},
     "output_type": "display_data"
    }
   ],
   "source": [
    "#plot orders per user\n",
    "sns.boxplot(x=df_opu[\"invoiceno\"])\n",
    "plt.title('orders per user')\n",
    "plt.xlabel('orders per user')\n",
    "plt.show()"
   ]
  },
  {
   "cell_type": "markdown",
   "id": "f5618d3e",
   "metadata": {},
   "source": [
    "in average each user makes a 2.5 orders. we dont have an outliers here."
   ]
  },
  {
   "cell_type": "markdown",
   "id": "58dd75c2",
   "metadata": {},
   "source": [
    "## plot graph to display quantity of items users usualy buy, items with high quantity values, what is more profitable, sell a lot of cheap items or sell less but more expensinve ones."
   ]
  },
  {
   "cell_type": "code",
   "execution_count": 148,
   "id": "328dd9c0",
   "metadata": {},
   "outputs": [
    {
     "data": {
      "text/html": [
       "<div>\n",
       "<style scoped>\n",
       "    .dataframe tbody tr th:only-of-type {\n",
       "        vertical-align: middle;\n",
       "    }\n",
       "\n",
       "    .dataframe tbody tr th {\n",
       "        vertical-align: top;\n",
       "    }\n",
       "\n",
       "    .dataframe thead th {\n",
       "        text-align: right;\n",
       "    }\n",
       "</style>\n",
       "<table border=\"1\" class=\"dataframe\">\n",
       "  <thead>\n",
       "    <tr style=\"text-align: right;\">\n",
       "      <th></th>\n",
       "      <th>quantity</th>\n",
       "      <th>unitprice</th>\n",
       "      <th>customerid</th>\n",
       "      <th>revenue</th>\n",
       "    </tr>\n",
       "  </thead>\n",
       "  <tbody>\n",
       "    <tr>\n",
       "      <th>count</th>\n",
       "      <td>528399.000000</td>\n",
       "      <td>528399.000000</td>\n",
       "      <td>396519.000000</td>\n",
       "      <td>528399.000000</td>\n",
       "    </tr>\n",
       "    <tr>\n",
       "      <th>mean</th>\n",
       "      <td>10.607707</td>\n",
       "      <td>3.276458</td>\n",
       "      <td>15301.351718</td>\n",
       "      <td>19.453861</td>\n",
       "    </tr>\n",
       "    <tr>\n",
       "      <th>std</th>\n",
       "      <td>156.860014</td>\n",
       "      <td>4.448566</td>\n",
       "      <td>1709.777503</td>\n",
       "      <td>268.443856</td>\n",
       "    </tr>\n",
       "    <tr>\n",
       "      <th>min</th>\n",
       "      <td>1.000000</td>\n",
       "      <td>0.000000</td>\n",
       "      <td>12346.000000</td>\n",
       "      <td>0.000000</td>\n",
       "    </tr>\n",
       "    <tr>\n",
       "      <th>25%</th>\n",
       "      <td>1.000000</td>\n",
       "      <td>1.250000</td>\n",
       "      <td>13975.000000</td>\n",
       "      <td>3.750000</td>\n",
       "    </tr>\n",
       "    <tr>\n",
       "      <th>50%</th>\n",
       "      <td>3.000000</td>\n",
       "      <td>2.080000</td>\n",
       "      <td>15159.000000</td>\n",
       "      <td>9.900000</td>\n",
       "    </tr>\n",
       "    <tr>\n",
       "      <th>75%</th>\n",
       "      <td>11.000000</td>\n",
       "      <td>4.130000</td>\n",
       "      <td>16801.000000</td>\n",
       "      <td>17.400000</td>\n",
       "    </tr>\n",
       "    <tr>\n",
       "      <th>max</th>\n",
       "      <td>80995.000000</td>\n",
       "      <td>649.500000</td>\n",
       "      <td>18287.000000</td>\n",
       "      <td>168469.600000</td>\n",
       "    </tr>\n",
       "  </tbody>\n",
       "</table>\n",
       "</div>"
      ],
      "text/plain": [
       "            quantity      unitprice     customerid        revenue\n",
       "count  528399.000000  528399.000000  396519.000000  528399.000000\n",
       "mean       10.607707       3.276458   15301.351718      19.453861\n",
       "std       156.860014       4.448566    1709.777503     268.443856\n",
       "min         1.000000       0.000000   12346.000000       0.000000\n",
       "25%         1.000000       1.250000   13975.000000       3.750000\n",
       "50%         3.000000       2.080000   15159.000000       9.900000\n",
       "75%        11.000000       4.130000   16801.000000      17.400000\n",
       "max     80995.000000     649.500000   18287.000000  168469.600000"
      ]
     },
     "execution_count": 148,
     "metadata": {},
     "output_type": "execute_result"
    }
   ],
   "source": [
    "df_clean.describe()"
   ]
  },
  {
   "cell_type": "code",
   "execution_count": 166,
   "id": "483271ec",
   "metadata": {},
   "outputs": [
    {
     "data": {
      "text/html": [
       "<div>\n",
       "<style scoped>\n",
       "    .dataframe tbody tr th:only-of-type {\n",
       "        vertical-align: middle;\n",
       "    }\n",
       "\n",
       "    .dataframe tbody tr th {\n",
       "        vertical-align: top;\n",
       "    }\n",
       "\n",
       "    .dataframe thead th {\n",
       "        text-align: right;\n",
       "    }\n",
       "</style>\n",
       "<table border=\"1\" class=\"dataframe\">\n",
       "  <thead>\n",
       "    <tr style=\"text-align: right;\">\n",
       "      <th></th>\n",
       "      <th>group</th>\n",
       "      <th>date</th>\n",
       "      <th>revenue</th>\n",
       "    </tr>\n",
       "  </thead>\n",
       "  <tbody>\n",
       "    <tr>\n",
       "      <th>0</th>\n",
       "      <td>average</td>\n",
       "      <td>2018-11-29</td>\n",
       "      <td>29037.21</td>\n",
       "    </tr>\n",
       "    <tr>\n",
       "      <th>1</th>\n",
       "      <td>average</td>\n",
       "      <td>2018-11-30</td>\n",
       "      <td>20006.22</td>\n",
       "    </tr>\n",
       "    <tr>\n",
       "      <th>2</th>\n",
       "      <td>average</td>\n",
       "      <td>2018-12-01</td>\n",
       "      <td>15100.16</td>\n",
       "    </tr>\n",
       "    <tr>\n",
       "      <th>3</th>\n",
       "      <td>average</td>\n",
       "      <td>2018-12-03</td>\n",
       "      <td>15436.41</td>\n",
       "    </tr>\n",
       "    <tr>\n",
       "      <th>4</th>\n",
       "      <td>average</td>\n",
       "      <td>2018-12-04</td>\n",
       "      <td>22359.45</td>\n",
       "    </tr>\n",
       "    <tr>\n",
       "      <th>...</th>\n",
       "      <td>...</td>\n",
       "      <td>...</td>\n",
       "      <td>...</td>\n",
       "    </tr>\n",
       "    <tr>\n",
       "      <th>910</th>\n",
       "      <td>expensive</td>\n",
       "      <td>2019-12-03</td>\n",
       "      <td>26554.52</td>\n",
       "    </tr>\n",
       "    <tr>\n",
       "      <th>911</th>\n",
       "      <td>expensive</td>\n",
       "      <td>2019-12-04</td>\n",
       "      <td>19274.23</td>\n",
       "    </tr>\n",
       "    <tr>\n",
       "      <th>912</th>\n",
       "      <td>expensive</td>\n",
       "      <td>2019-12-05</td>\n",
       "      <td>16171.18</td>\n",
       "    </tr>\n",
       "    <tr>\n",
       "      <th>913</th>\n",
       "      <td>expensive</td>\n",
       "      <td>2019-12-06</td>\n",
       "      <td>31355.02</td>\n",
       "    </tr>\n",
       "    <tr>\n",
       "      <th>914</th>\n",
       "      <td>expensive</td>\n",
       "      <td>2019-12-07</td>\n",
       "      <td>13424.60</td>\n",
       "    </tr>\n",
       "  </tbody>\n",
       "</table>\n",
       "<p>915 rows × 3 columns</p>\n",
       "</div>"
      ],
      "text/plain": [
       "         group       date   revenue\n",
       "0      average 2018-11-29  29037.21\n",
       "1      average 2018-11-30  20006.22\n",
       "2      average 2018-12-01  15100.16\n",
       "3      average 2018-12-03  15436.41\n",
       "4      average 2018-12-04  22359.45\n",
       "..         ...        ...       ...\n",
       "910  expensive 2019-12-03  26554.52\n",
       "911  expensive 2019-12-04  19274.23\n",
       "912  expensive 2019-12-05  16171.18\n",
       "913  expensive 2019-12-06  31355.02\n",
       "914  expensive 2019-12-07  13424.60\n",
       "\n",
       "[915 rows x 3 columns]"
      ]
     },
     "execution_count": 166,
     "metadata": {},
     "output_type": "execute_result"
    }
   ],
   "source": [
    "#define cheap and expensive items\n",
    "df_groups=df_clean.groupby(['group', 'date'])['revenue'].sum().reset_index()\n",
    "df_groups"
   ]
  },
  {
   "cell_type": "markdown",
   "id": "c5a4e6eb",
   "metadata": {},
   "source": [
    "\n",
    "</div>\n",
    "<div class=\"alert alert-danger\" style=\"border-radius: 15px; box-shadow: 4px 4px 4px; border: 1px solid \">\n",
    "<b> Team Lead's comment: please, do not use hardcoding here. Also, why using Q3 +1.5IQR? Do you have normal data?</b>"
   ]
  },
  {
   "cell_type": "markdown",
   "id": "788a1686",
   "metadata": {},
   "source": [
    "\n",
    "</div>\n",
    "<div class=\"alert alert-danger\" style=\"border-radius: 15px; box-shadow: 4px 4px 4px; border: 1px solid \">\n",
    "<b> Team Lead's comment: summing price again</b>\n",
    "    "
   ]
  },
  {
   "cell_type": "code",
   "execution_count": 165,
   "id": "f8c17c17",
   "metadata": {},
   "outputs": [
    {
     "data": {
      "image/png": "[encoded data removed]",
      "text/plain": [
       "<Figure size 2500x600 with 1 Axes>"
      ]
     },
     "metadata": {},
     "output_type": "display_data"
    }
   ],
   "source": [
    "plt.rcParams[\"figure.figsize\"] = (25,6)\n",
    "sns.lineplot(data=df_groups, x=\"date\", y=\"revenue\", hue=\"group\")\n",
    "plt.ylabel('revenue')\n",
    "plt.xlabel('date')\n",
    "plt.title('expensive,average and cheap items sold by date')\n",
    "plt.legend() \n",
    "plt.show()"
   ]
  },
  {
   "cell_type": "markdown",
   "id": "194789f6",
   "metadata": {},
   "source": [
    "graph shows, that we have sometimes jumps at cheap, expensive, and average items. but in general its more profitable to sell average price and expensive items."
   ]
  },
  {
   "cell_type": "markdown",
   "id": "23f877d3",
   "metadata": {},
   "source": [
    "## Step 4. Test the hypotheses:"
   ]
  },
  {
   "cell_type": "markdown",
   "id": "12b431c1",
   "metadata": {},
   "source": [
    "check is there statistical significant difference between revenue of \"WHITE HANGING HEART T-LIGHT HOLDER\" and \"JUMBO BAG RED RETROSPOT \""
   ]
  },
  {
   "cell_type": "code",
   "execution_count": 132,
   "id": "394ab879",
   "metadata": {},
   "outputs": [
    {
     "name": "stdout",
     "output_type": "stream",
     "text": [
      "There is no statistically significant difference between the average revenue of the two items.\n"
     ]
    }
   ],
   "source": [
    "\n",
    "# Separate the revenue data for the two items\n",
    "item_1_revenue = df_clean[df_clean['description'] == 'WHITE HANGING HEART T-LIGHT HOLDER']['revenue']\n",
    "item_2_revenue = df_clean[df_clean['description'] == 'JUMBO BAG RED RETROSPOT']['revenue']\n",
    "\n",
    "# Perform the two-sample t-test\n",
    "t_statistic, p_value = st.ttest_ind(item_1_revenue, item_2_revenue)\n",
    "\n",
    "# Define the significance level (alpha)\n",
    "alpha = 0.05\n",
    "\n",
    "# Check if the p-value is less than the significance level\n",
    "if p_value < alpha:\n",
    "    print(\"There is a statistically significant difference between the average revenue of the two items.\")\n",
    "else:\n",
    "    print(\"There is no statistically significant difference between the average revenue of the two items.\")\n"
   ]
  },
  {
   "cell_type": "markdown",
   "id": "10436990",
   "metadata": {},
   "source": [
    "\n",
    "</div>\n",
    "<div class=\"alert alert-danger\" style=\"border-radius: 15px; box-shadow: 4px 4px 4px; border: 1px solid \">\n",
    "<b> Team Lead's comment: What you're testing is whether the share of price of WHITE HANGING HEART T-LIGHT HOLDR in row 1  comparing to sum  of the prices (????) of other rows with WHITE HANGING HEART T-LIGHT HOLDR is different from the proportion of  price of JUMBO BAG RED RETROSPOT in row 1  comparing to sum  of the prices (????) of other rows with JUMBO BAG RED RETROSPOT. Sorry, this test doesn't make sense neither from mathematical point of view, nor from the busiess</b>"
   ]
  },
  {
   "cell_type": "markdown",
   "id": "22c44702",
   "metadata": {},
   "source": [
    "## check is there statistical significant difference between revenue of quarters"
   ]
  },
  {
   "cell_type": "code",
   "execution_count": 94,
   "id": "17711f3e",
   "metadata": {},
   "outputs": [
    {
     "data": {
      "image/png": "[encoded data removed]",
      "text/plain": [
       "<Figure size 605.25x500 with 1 Axes>"
      ]
     },
     "metadata": {},
     "output_type": "display_data"
    }
   ],
   "source": [
    "sns.relplot(data=df_clean, x=\"date\", y=\"revenue\", hue=\"quarter\")\n",
    "plt.title('prices per quarters')\n",
    "plt.show()"
   ]
  },
  {
   "cell_type": "code",
   "execution_count": 93,
   "id": "b9dfe416",
   "metadata": {},
   "outputs": [
    {
     "data": {
      "text/html": [
       "<div>\n",
       "<style scoped>\n",
       "    .dataframe tbody tr th:only-of-type {\n",
       "        vertical-align: middle;\n",
       "    }\n",
       "\n",
       "    .dataframe tbody tr th {\n",
       "        vertical-align: top;\n",
       "    }\n",
       "\n",
       "    .dataframe thead th {\n",
       "        text-align: right;\n",
       "    }\n",
       "</style>\n",
       "<table border=\"1\" class=\"dataframe\">\n",
       "  <thead>\n",
       "    <tr style=\"text-align: right;\">\n",
       "      <th></th>\n",
       "      <th>quarter</th>\n",
       "      <th>revenue</th>\n",
       "    </tr>\n",
       "  </thead>\n",
       "  <tbody>\n",
       "    <tr>\n",
       "      <th>0</th>\n",
       "      <td>2018Q4</td>\n",
       "      <td>778625.910</td>\n",
       "    </tr>\n",
       "    <tr>\n",
       "      <th>1</th>\n",
       "      <td>2019Q1</td>\n",
       "      <td>1898300.670</td>\n",
       "    </tr>\n",
       "    <tr>\n",
       "      <th>2</th>\n",
       "      <td>2019Q2</td>\n",
       "      <td>1986132.741</td>\n",
       "    </tr>\n",
       "    <tr>\n",
       "      <th>3</th>\n",
       "      <td>2019Q3</td>\n",
       "      <td>2445884.013</td>\n",
       "    </tr>\n",
       "    <tr>\n",
       "      <th>4</th>\n",
       "      <td>2019Q4</td>\n",
       "      <td>3170457.140</td>\n",
       "    </tr>\n",
       "  </tbody>\n",
       "</table>\n",
       "</div>"
      ],
      "text/plain": [
       "  quarter      revenue\n",
       "0  2018Q4   778625.910\n",
       "1  2019Q1  1898300.670\n",
       "2  2019Q2  1986132.741\n",
       "3  2019Q3  2445884.013\n",
       "4  2019Q4  3170457.140"
      ]
     },
     "execution_count": 93,
     "metadata": {},
     "output_type": "execute_result"
    }
   ],
   "source": [
    "df_clean.groupby('quarter')['revenue'].sum().reset_index()"
   ]
  },
  {
   "cell_type": "code",
   "execution_count": 134,
   "id": "b515b2c3",
   "metadata": {},
   "outputs": [
    {
     "name": "stdout",
     "output_type": "stream",
     "text": [
      "There is no statistically significant difference between the revenues of the quarters.\n"
     ]
    }
   ],
   "source": [
    "# Separate the revenue data for each quarter\n",
    "revenue_2018Q4 = df_clean[df_clean['quarter'] == '2018Q4']['revenue']\n",
    "revenue_2019Q1 = df_clean[df_clean['quarter'] == '2019Q1']['revenue']\n",
    "revenue_2019Q2 = df_clean[df_clean['quarter'] == '2019Q2']['revenue']\n",
    "revenue_2019Q3 = df_clean[df_clean['quarter'] == '2019Q3']['revenue']\n",
    "revenue_2019Q4 = df_clean[df_clean['quarter'] == '2019Q4']['revenue']\n",
    "\n",
    "# Perform the one-way ANOVA test\n",
    "f_statistic, p_value = st.f_oneway(\n",
    "    revenue_2018Q4, revenue_2019Q1, revenue_2019Q2, revenue_2019Q3, revenue_2019Q4\n",
    ")\n",
    "\n",
    "# Define the significance level (alpha)\n",
    "alpha = 0.05\n",
    "\n",
    "# Check if the p-value is less than the significance level\n",
    "if p_value < alpha:\n",
    "    print(\"There is a statistically significant difference between the revenues of the quarters.\")\n",
    "else:\n",
    "    print(\"There is no statistically significant difference between the revenues of the quarters.\")\n"
   ]
  },
  {
   "cell_type": "markdown",
   "id": "a5d4d079",
   "metadata": {},
   "source": [
    "</div>\n",
    "<div class=\"alert alert-danger\" style=\"border-radius: 15px; box-shadow: 4px 4px 4px; border: 1px solid \">\n",
    "<b> Team Lead's comment: Same logic here, checking the price is not equal to checking revenue. And also, these proportions do not make sense. Please revise theory on testing</b>"
   ]
  },
  {
   "cell_type": "markdown",
   "id": "609d769c",
   "metadata": {},
   "source": [
    "statistical significant test shows that we have no difference between proportions of quarters revenue, wich means we have same revenue almost every time."
   ]
  },
  {
   "cell_type": "markdown",
   "id": "8bb29385",
   "metadata": {},
   "source": [
    "## General conclusion:"
   ]
  },
  {
   "cell_type": "markdown",
   "id": "bfe0be67",
   "metadata": {},
   "source": [
    "We analyzed our product store range, what can we conclude:\n",
    "\n",
    "Range by dates in data set from 12-2018 to 12-2019\n",
    "\n",
    "Data has a lot of missing values, anomalies like pretty high values and 0 values, negative price values, has a trash values like items that not connected to to our store. we investigate and fix it.\n",
    "\n",
    "We study the product: quantity, price, popular sells, selling by date and analyze that, wich conclusion we made:<br>\n",
    "Usualy store sells items in quantity of 10 items, but also we have some orders wich are extremely big like `PAPER CRAFT , LITTLE BIRDIE` and `MEDIUM CERAMIC TOP STORAGE JAR`<br>\n",
    "We sold biger quantity of items in Q3-Q4 2019 then in Q1-Q2 2019 and because of that we have biger revenue in that quarters<br>\n",
    "The most expensive item we have in the store is `PICNIC BASKET WICKER 60 PIECES`<br>\n",
    "The item that brought bigest revenue from our data set is `REGENCY CAKESTAND 3 TIER\t` brought in three times more profit average revenue from our data frame.<br>\n",
    "The most popular items, that customers bought more that others is: `WHITE HANGING HEART T-LIGHT HOLDER`, `JUMBO BAG RED RETROSPOT`, `REGENCY CAKESTAND 3 TIER`.<br>\n",
    "\n",
    "Every customers in average makes 2.5 orders, and order 20 items per order.\n",
    "\n",
    "We can conclude, that more profitable to sell more expensive items, then cheap ones.\n",
    "\n",
    "We investigated that we Dont have statistical significant difference between revenue of two most popular items: `WHITE HANGING HEART T-LIGHT HOLDER` and `JUMBO BAG RED RETROSPOT`.\n",
    "\n",
    "We also conclude, that we dont have statistical significant difference between revenue of quarters.\n",
    "\n",
    "    Some suggestions after all conclusions: 1. its good to have cheap and expensive items in the store, but expensive ones brings little bit more revenue. 2. revenue growth at end of the each year- brcause of the cristmas, people spend more, so good to have specific items for that period. 3. its good to have top of popular items from our analyze witch is `WHITE HANGING HEART T-LIGHT HOLDER`, `JUMBO BAG RED RETROSPOT`, `REGENCY CAKESTAND 3 TIER`. Good to have a top item per revenue REGENCY CAKESTAND 3 TIER."
   ]
  },
  {
   "cell_type": "code",
   "execution_count": null,
   "id": "2c521c23",
   "metadata": {},
   "outputs": [],
   "source": []
  }
 ],
 "metadata": {
  "kernelspec": {
   "display_name": "Python 3 (ipykernel)",
   "language": "python",
   "name": "python3"
  },
  "language_info": {
   "codemirror_mode": {
    "name": "ipython",
    "version": 3
   },
   "file_extension": ".py",
   "mimetype": "text/x-python",
   "name": "python",
   "nbconvert_exporter": "python",
   "pygments_lexer": "ipython3",
   "version": "3.9.13"
  }
 },
 "nbformat": 4,
 "nbformat_minor": 5
}
